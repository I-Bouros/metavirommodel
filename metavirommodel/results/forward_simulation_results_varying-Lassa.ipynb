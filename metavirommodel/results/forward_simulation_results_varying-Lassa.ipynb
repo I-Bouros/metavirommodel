{
 "cells": [
  {
   "cell_type": "markdown",
   "metadata": {},
   "source": [
    "# Results Notebook for the SIR stochastic simulation algorithm(s)\n",
    "\n",
    "This notebook contains the code for all the figures and results in a time varying birth rate sceanrio. We use the Lassa model for the birth rate and parameters."
   ]
  },
  {
   "cell_type": "code",
   "execution_count": 1,
   "metadata": {},
   "outputs": [],
   "source": [
    "# Load necessary libraries\n",
    "import os\n",
    "import numpy as np\n",
    "import pandas as pd\n",
    "from scipy.stats import multinomial, skew\n",
    "import math\n",
    "import metavirommodel as mm\n",
    "import plotly.graph_objects as go\n",
    "from plotly.subplots import make_subplots\n",
    "\n",
    "# Choose array of colours for graphs and compartments names\n",
    "colours = ['blue', 'red', 'green', 'purple', 'orange', 'black', 'gray', 'pink']\n",
    "compartments = ['S', 'I', 'R']"
   ]
  },
  {
   "cell_type": "markdown",
   "metadata": {},
   "source": [
    "## Gillespie algorithm plot for varying environment\n",
    "\n",
    "#### Define rodent population"
   ]
  },
  {
   "cell_type": "code",
   "execution_count": 2,
   "metadata": {},
   "outputs": [],
   "source": [
    "# Set initial reproduction number\n",
    "R_0 = 5\n",
    "\n",
    "# Set initial population state S - I - R\n",
    "N_init = 400\n",
    "# S_init = int(N_init / R_0)\n",
    "S_init = 380\n",
    "I_init = N_init - S_init\n",
    "R_init = 0\n",
    "initial_population = [S_init, I_init, R_init]\n",
    "\n",
    "# Set birth rate\n",
    "precipitation_data = pd.read_csv(os.path.join('../data/Precipitation.csv'))\n",
    "\n",
    "# precipitation_data = pd.DataFrame(\n",
    "#     {\n",
    "#         'Day': np.arange(365),\n",
    "#         'Precmm': np.asarray([0]*90 + [10]*60 + [0]*50 + [15]* 90 + [5]*75)\n",
    "#     }\n",
    "# )\n",
    "\n",
    "theta = mm.BirthRatePrec(precipitation_data, [0.7, 2.8, 30])\n",
    "\n",
    "# Set death rates\n",
    "mu = 0.00037\n",
    "nu = 0\n",
    "\n",
    "# Set transition rates\n",
    "infect_period = 14\n",
    "# beta = R_0 / infect_period\n",
    "# gamma = 1 / infect_period\n",
    "\n",
    "beta = 1.45 * 10**-4 * N_init\n",
    "gamma = 0.0457\n",
    "\n",
    "# Coalesce into paramater vector\n",
    "parameters = initial_population\n",
    "parameters.extend([theta, mu, nu, beta, gamma])\n",
    "\n",
    "# Instantiate algorithm\n",
    "algorithm = mm.Metaviromodel()\n",
    "\n",
    "# Select start and end times\n",
    "start_time = 1\n",
    "end_time = 360\n",
    "\n",
    "times = list(range(start_time, end_time+1))\n",
    "\n",
    "# Select number of experiments\n",
    "num_experiments = 1\n",
    "\n",
    "output_algorithm = []\n",
    "I_history_algorithm = []\n",
    "I_times_history_algorithm = []\n",
    "\n",
    "for _ in range(num_experiments):\n",
    "    output, I_history, I_times_history = algorithm.simulate_fixed_times(parameters, start_time, end_time)\n",
    "    output_algorithm.append(output)\n",
    "    I_history_algorithm.append(I_history)\n",
    "    I_times_history_algorithm.append(I_times_history)\n",
    "\n",
    "output_algorithm = np.asarray(output_algorithm)"
   ]
  },
  {
   "cell_type": "code",
   "execution_count": null,
   "metadata": {},
   "outputs": [
    {
     "data": {
      "application/vnd.plotly.v1+json": {
       "config": {
        "plotlyServerURL": "https://plot.ly"
       },
       "data": [
        {
         "name": "Precipitation",
         "type": "bar",
         "x": {
          "bdata": "AQACAAMABQAGAAcACQAKAAsADAANAA4AEgAUABcAGAAZAB4AIgAlACYAKgAxADIANQA5ADwAPwBXAFoAXgBiAGQAZgBqAIYAigCOAJIAlACWAJoAnACeAMIAxgDKAM4A1gDaAN4A4QDiAOYA6ADpAOoA7QDuAO8A8ADxAPIA8wD2APcA+AD5APoA+wD8AP0A/gD/AAABAQECAQMBBAEFAQYBBwEIAQkBCgELAQwBDgEPARABEQESARQBFQEWARcBGAEaARwBHgEfASABIQEiASQBJQEmAScBKAEpASsBLAEtAS4BLwEwATEBMgEzATQBNQE2ATgBOgE7ATwBPQE+AT8BQAFBAUIBQwFEAUUBRgFHAUgBSQFKAUsBTAFNAU4BTwFQAVEBUgFUAVUBVgFYAVkBWgFcAV0BXgFfAWABYQFiAWUBZgFoAWkBagFsAW0BbwFwAXEBcgF1AXYBiQGMAY4BjwGQAZEBkgGUAZUBlgGXAZgBmQGaAZsBoQGjAaUBpgGoAakBqgGrAawBrQGuAbABsQGyAbQBtQG4AbkBugG7AbwBvQG+AcABwQHCAcQBxQHGAcgByQHKAcsBzAHNAc4B0AHRAdIB1AHVAdYB2AHZAdoB2wHcAd0B3gHgAeIB4wHlAeYB6AHpAeoB7QHuAe8B8AHxAfIB9AH1AfYB9wH5AfoB/AH9AQACAQICAgQCBQIGAggCCQIKAgwCDQIOAg8CEQISAhQCFgIXAhoCGwIcAh0CHgIfAiACIQIiAigCKQIsAi0CLgIvAjACMQIyAjMCNAI1AjYCNwI5AjoCOwI8Aj0CPgJAAkECQgJKAksCTQJQAlICUwJUAlUCWQJcAl0CXgJgAmECYwJkAmYCZwJoAmoCawJsAm4CbwJ0AnUCdgJ3AngCegJ7AnwCfQJ+An8CgAKDAoQChgKJAowCjQKPApACkQKSApYCmQKaApsCnAKdAp4CnwKiAqMCpAKlAqcCqAKpAqoCrAKtAq4CrwKyArMCtAK2ArcCuQK6ArsCvAK9Ar8CwALCAsMCxALFAskCzALOAtAC0QLSAtQC1QLXAtgC2gLbAtwC3QLfAuAC4QLiAuMC5ALlAuYC5wLoAukC6gLrAuwC7QLuAu8C8ALxAvIC8wL0AvUC9gL3AvgC+gL7AvwC/QL+Av8CAAMBAwIDAwMEAwUDBgMHAwgDCQMKAwsDDAMNAw4DDwMQAxEDEgMTAxQDFQMWAxcDGAMZAxoDGwMcAx0DHgMfAyADIQMiAyMDJAMlAyYDJwMoAykDKgMrAy0DLgMvAzADMQMyAzMDNAM1AzYDNwM4AzkDOgM7AzwDPQM+Az8DQgNDA0QDRQNGA0gDSQNKA0sDTANNA04DTwNQA1EDUwNUA1UDVgNXA1gDWQNaA1sDXANdA14DXwNgA2EDYgNjA2QDZQNmA2cDaANqA2sDbANtA24DbwNwA3EDdgN3A3gDeQN6A3sDfAN9A34DfwOBA4IDgwOEA4UDhgOHA4gDiQOKA4sDjAOOA48DkAORA5MDlAOVA5YDlwOYA5kDmgObA5wDnQOeA6ADoQOjA6QDpQOmA6cDqAOpA6oDqwOsA60DrgOvA7ADsQOyA7MDtAO1A7YDtwO4A7kDugO7A7wDvQO+A78DwAPBA8IDwwPEA8UDxgPHA8gDyQPKA8sDzAPNA84DzwPQA9ED0gPTA9QD1QPWA9cD2APZA9oD2wPcA90D3gPfA+AD4QPiA+MD5APlA+YD5wPoA+kD6gPrA+wD7QPuA+8D8APxA/ID8wP0A/UD9gP3A/gD+QP6A/sD/AP9A/4D/wMABAEEAgQDBAQEBQQGBAcECAQKBAsEDQQOBA8EEAQSBBQEFQQWBBcEGAQZBBoEGwQcBB4EHwQgBCEEIgQjBCQEJQQmBCcEKAQpBCoEKwQsBC4ELwQwBDEEMgQzBDQENQQ2BDcEOAQ5BDoEOwQ8BD4EPwRABEEEQgRDBEQERgRHBEgE",
          "dtype": "i2"
         },
         "y": {
          "bdata": "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",
          "dtype": "f8"
         }
        }
       ],
       "layout": {
        "template": {
         "data": {
          "bar": [
           {
            "error_x": {
             "color": "#2a3f5f"
            },
            "error_y": {
             "color": "#2a3f5f"
            },
            "marker": {
             "line": {
              "color": "#E5ECF6",
              "width": 0.5
             },
             "pattern": {
              "fillmode": "overlay",
              "size": 10,
              "solidity": 0.2
             }
            },
            "type": "bar"
           }
          ],
          "barpolar": [
           {
            "marker": {
             "line": {
              "color": "#E5ECF6",
              "width": 0.5
             },
             "pattern": {
              "fillmode": "overlay",
              "size": 10,
              "solidity": 0.2
             }
            },
            "type": "barpolar"
           }
          ],
          "carpet": [
           {
            "aaxis": {
             "endlinecolor": "#2a3f5f",
             "gridcolor": "white",
             "linecolor": "white",
             "minorgridcolor": "white",
             "startlinecolor": "#2a3f5f"
            },
            "baxis": {
             "endlinecolor": "#2a3f5f",
             "gridcolor": "white",
             "linecolor": "white",
             "minorgridcolor": "white",
             "startlinecolor": "#2a3f5f"
            },
            "type": "carpet"
           }
          ],
          "choropleth": [
           {
            "colorbar": {
             "outlinewidth": 0,
             "ticks": ""
            },
            "type": "choropleth"
           }
          ],
          "contour": [
           {
            "colorbar": {
             "outlinewidth": 0,
             "ticks": ""
            },
            "colorscale": [
             [
              0,
              "#0d0887"
             ],
             [
              0.1111111111111111,
              "#46039f"
             ],
             [
              0.2222222222222222,
              "#7201a8"
             ],
             [
              0.3333333333333333,
              "#9c179e"
             ],
             [
              0.4444444444444444,
              "#bd3786"
             ],
             [
              0.5555555555555556,
              "#d8576b"
             ],
             [
              0.6666666666666666,
              "#ed7953"
             ],
             [
              0.7777777777777778,
              "#fb9f3a"
             ],
             [
              0.8888888888888888,
              "#fdca26"
             ],
             [
              1,
              "#f0f921"
             ]
            ],
            "type": "contour"
           }
          ],
          "contourcarpet": [
           {
            "colorbar": {
             "outlinewidth": 0,
             "ticks": ""
            },
            "type": "contourcarpet"
           }
          ],
          "heatmap": [
           {
            "colorbar": {
             "outlinewidth": 0,
             "ticks": ""
            },
            "colorscale": [
             [
              0,
              "#0d0887"
             ],
             [
              0.1111111111111111,
              "#46039f"
             ],
             [
              0.2222222222222222,
              "#7201a8"
             ],
             [
              0.3333333333333333,
              "#9c179e"
             ],
             [
              0.4444444444444444,
              "#bd3786"
             ],
             [
              0.5555555555555556,
              "#d8576b"
             ],
             [
              0.6666666666666666,
              "#ed7953"
             ],
             [
              0.7777777777777778,
              "#fb9f3a"
             ],
             [
              0.8888888888888888,
              "#fdca26"
             ],
             [
              1,
              "#f0f921"
             ]
            ],
            "type": "heatmap"
           }
          ],
          "histogram": [
           {
            "marker": {
             "pattern": {
              "fillmode": "overlay",
              "size": 10,
              "solidity": 0.2
             }
            },
            "type": "histogram"
           }
          ],
          "histogram2d": [
           {
            "colorbar": {
             "outlinewidth": 0,
             "ticks": ""
            },
            "colorscale": [
             [
              0,
              "#0d0887"
             ],
             [
              0.1111111111111111,
              "#46039f"
             ],
             [
              0.2222222222222222,
              "#7201a8"
             ],
             [
              0.3333333333333333,
              "#9c179e"
             ],
             [
              0.4444444444444444,
              "#bd3786"
             ],
             [
              0.5555555555555556,
              "#d8576b"
             ],
             [
              0.6666666666666666,
              "#ed7953"
             ],
             [
              0.7777777777777778,
              "#fb9f3a"
             ],
             [
              0.8888888888888888,
              "#fdca26"
             ],
             [
              1,
              "#f0f921"
             ]
            ],
            "type": "histogram2d"
           }
          ],
          "histogram2dcontour": [
           {
            "colorbar": {
             "outlinewidth": 0,
             "ticks": ""
            },
            "colorscale": [
             [
              0,
              "#0d0887"
             ],
             [
              0.1111111111111111,
              "#46039f"
             ],
             [
              0.2222222222222222,
              "#7201a8"
             ],
             [
              0.3333333333333333,
              "#9c179e"
             ],
             [
              0.4444444444444444,
              "#bd3786"
             ],
             [
              0.5555555555555556,
              "#d8576b"
             ],
             [
              0.6666666666666666,
              "#ed7953"
             ],
             [
              0.7777777777777778,
              "#fb9f3a"
             ],
             [
              0.8888888888888888,
              "#fdca26"
             ],
             [
              1,
              "#f0f921"
             ]
            ],
            "type": "histogram2dcontour"
           }
          ],
          "mesh3d": [
           {
            "colorbar": {
             "outlinewidth": 0,
             "ticks": ""
            },
            "type": "mesh3d"
           }
          ],
          "parcoords": [
           {
            "line": {
             "colorbar": {
              "outlinewidth": 0,
              "ticks": ""
             }
            },
            "type": "parcoords"
           }
          ],
          "pie": [
           {
            "automargin": true,
            "type": "pie"
           }
          ],
          "scatter": [
           {
            "fillpattern": {
             "fillmode": "overlay",
             "size": 10,
             "solidity": 0.2
            },
            "type": "scatter"
           }
          ],
          "scatter3d": [
           {
            "line": {
             "colorbar": {
              "outlinewidth": 0,
              "ticks": ""
             }
            },
            "marker": {
             "colorbar": {
              "outlinewidth": 0,
              "ticks": ""
             }
            },
            "type": "scatter3d"
           }
          ],
          "scattercarpet": [
           {
            "marker": {
             "colorbar": {
              "outlinewidth": 0,
              "ticks": ""
             }
            },
            "type": "scattercarpet"
           }
          ],
          "scattergeo": [
           {
            "marker": {
             "colorbar": {
              "outlinewidth": 0,
              "ticks": ""
             }
            },
            "type": "scattergeo"
           }
          ],
          "scattergl": [
           {
            "marker": {
             "colorbar": {
              "outlinewidth": 0,
              "ticks": ""
             }
            },
            "type": "scattergl"
           }
          ],
          "scattermap": [
           {
            "marker": {
             "colorbar": {
              "outlinewidth": 0,
              "ticks": ""
             }
            },
            "type": "scattermap"
           }
          ],
          "scattermapbox": [
           {
            "marker": {
             "colorbar": {
              "outlinewidth": 0,
              "ticks": ""
             }
            },
            "type": "scattermapbox"
           }
          ],
          "scatterpolar": [
           {
            "marker": {
             "colorbar": {
              "outlinewidth": 0,
              "ticks": ""
             }
            },
            "type": "scatterpolar"
           }
          ],
          "scatterpolargl": [
           {
            "marker": {
             "colorbar": {
              "outlinewidth": 0,
              "ticks": ""
             }
            },
            "type": "scatterpolargl"
           }
          ],
          "scatterternary": [
           {
            "marker": {
             "colorbar": {
              "outlinewidth": 0,
              "ticks": ""
             }
            },
            "type": "scatterternary"
           }
          ],
          "surface": [
           {
            "colorbar": {
             "outlinewidth": 0,
             "ticks": ""
            },
            "colorscale": [
             [
              0,
              "#0d0887"
             ],
             [
              0.1111111111111111,
              "#46039f"
             ],
             [
              0.2222222222222222,
              "#7201a8"
             ],
             [
              0.3333333333333333,
              "#9c179e"
             ],
             [
              0.4444444444444444,
              "#bd3786"
             ],
             [
              0.5555555555555556,
              "#d8576b"
             ],
             [
              0.6666666666666666,
              "#ed7953"
             ],
             [
              0.7777777777777778,
              "#fb9f3a"
             ],
             [
              0.8888888888888888,
              "#fdca26"
             ],
             [
              1,
              "#f0f921"
             ]
            ],
            "type": "surface"
           }
          ],
          "table": [
           {
            "cells": {
             "fill": {
              "color": "#EBF0F8"
             },
             "line": {
              "color": "white"
             }
            },
            "header": {
             "fill": {
              "color": "#C8D4E3"
             },
             "line": {
              "color": "white"
             }
            },
            "type": "table"
           }
          ]
         },
         "layout": {
          "annotationdefaults": {
           "arrowcolor": "#2a3f5f",
           "arrowhead": 0,
           "arrowwidth": 1
          },
          "autotypenumbers": "strict",
          "coloraxis": {
           "colorbar": {
            "outlinewidth": 0,
            "ticks": ""
           }
          },
          "colorscale": {
           "diverging": [
            [
             0,
             "#8e0152"
            ],
            [
             0.1,
             "#c51b7d"
            ],
            [
             0.2,
             "#de77ae"
            ],
            [
             0.3,
             "#f1b6da"
            ],
            [
             0.4,
             "#fde0ef"
            ],
            [
             0.5,
             "#f7f7f7"
            ],
            [
             0.6,
             "#e6f5d0"
            ],
            [
             0.7,
             "#b8e186"
            ],
            [
             0.8,
             "#7fbc41"
            ],
            [
             0.9,
             "#4d9221"
            ],
            [
             1,
             "#276419"
            ]
           ],
           "sequential": [
            [
             0,
             "#0d0887"
            ],
            [
             0.1111111111111111,
             "#46039f"
            ],
            [
             0.2222222222222222,
             "#7201a8"
            ],
            [
             0.3333333333333333,
             "#9c179e"
            ],
            [
             0.4444444444444444,
             "#bd3786"
            ],
            [
             0.5555555555555556,
             "#d8576b"
            ],
            [
             0.6666666666666666,
             "#ed7953"
            ],
            [
             0.7777777777777778,
             "#fb9f3a"
            ],
            [
             0.8888888888888888,
             "#fdca26"
            ],
            [
             1,
             "#f0f921"
            ]
           ],
           "sequentialminus": [
            [
             0,
             "#0d0887"
            ],
            [
             0.1111111111111111,
             "#46039f"
            ],
            [
             0.2222222222222222,
             "#7201a8"
            ],
            [
             0.3333333333333333,
             "#9c179e"
            ],
            [
             0.4444444444444444,
             "#bd3786"
            ],
            [
             0.5555555555555556,
             "#d8576b"
            ],
            [
             0.6666666666666666,
             "#ed7953"
            ],
            [
             0.7777777777777778,
             "#fb9f3a"
            ],
            [
             0.8888888888888888,
             "#fdca26"
            ],
            [
             1,
             "#f0f921"
            ]
           ]
          },
          "colorway": [
           "#636efa",
           "#EF553B",
           "#00cc96",
           "#ab63fa",
           "#FFA15A",
           "#19d3f3",
           "#FF6692",
           "#B6E880",
           "#FF97FF",
           "#FECB52"
          ],
          "font": {
           "color": "#2a3f5f"
          },
          "geo": {
           "bgcolor": "white",
           "lakecolor": "white",
           "landcolor": "#E5ECF6",
           "showlakes": true,
           "showland": true,
           "subunitcolor": "white"
          },
          "hoverlabel": {
           "align": "left"
          },
          "hovermode": "closest",
          "mapbox": {
           "style": "light"
          },
          "paper_bgcolor": "white",
          "plot_bgcolor": "#E5ECF6",
          "polar": {
           "angularaxis": {
            "gridcolor": "white",
            "linecolor": "white",
            "ticks": ""
           },
           "bgcolor": "#E5ECF6",
           "radialaxis": {
            "gridcolor": "white",
            "linecolor": "white",
            "ticks": ""
           }
          },
          "scene": {
           "xaxis": {
            "backgroundcolor": "#E5ECF6",
            "gridcolor": "white",
            "gridwidth": 2,
            "linecolor": "white",
            "showbackground": true,
            "ticks": "",
            "zerolinecolor": "white"
           },
           "yaxis": {
            "backgroundcolor": "#E5ECF6",
            "gridcolor": "white",
            "gridwidth": 2,
            "linecolor": "white",
            "showbackground": true,
            "ticks": "",
            "zerolinecolor": "white"
           },
           "zaxis": {
            "backgroundcolor": "#E5ECF6",
            "gridcolor": "white",
            "gridwidth": 2,
            "linecolor": "white",
            "showbackground": true,
            "ticks": "",
            "zerolinecolor": "white"
           }
          },
          "shapedefaults": {
           "line": {
            "color": "#2a3f5f"
           }
          },
          "ternary": {
           "aaxis": {
            "gridcolor": "white",
            "linecolor": "white",
            "ticks": ""
           },
           "baxis": {
            "gridcolor": "white",
            "linecolor": "white",
            "ticks": ""
           },
           "bgcolor": "#E5ECF6",
           "caxis": {
            "gridcolor": "white",
            "linecolor": "white",
            "ticks": ""
           }
          },
          "title": {
           "x": 0.05
          },
          "xaxis": {
           "automargin": true,
           "gridcolor": "white",
           "linecolor": "white",
           "ticks": "",
           "title": {
            "standoff": 15
           },
           "zerolinecolor": "white",
           "zerolinewidth": 2
          },
          "yaxis": {
           "automargin": true,
           "gridcolor": "white",
           "linecolor": "white",
           "ticks": "",
           "title": {
            "standoff": 15
           },
           "zerolinecolor": "white",
           "zerolinewidth": 2
          }
         }
        }
       }
      }
     },
     "metadata": {},
     "output_type": "display_data"
    }
   ],
   "source": [
    "# Raw precipitation data\n",
    "fig = go.Figure()\n",
    "\n",
    "fig.add_trace(\n",
    "        go.Bar(\n",
    "            y=precipitation_data['Precmm'].values,\n",
    "            x=precipitation_data['Day'].values,\n",
    "            # mode='lines',\n",
    "            name='Precipitation'\n",
    "        ))\n",
    "\n",
    "fig.show()"
   ]
  },
  {
   "cell_type": "code",
   "execution_count": null,
   "metadata": {},
   "outputs": [
    {
     "data": {
      "application/vnd.plotly.v1+json": {
       "config": {
        "plotlyServerURL": "https://plot.ly"
       },
       "data": [
        {
         "mode": "lines",
         "name": "Precipitation",
         "type": "scatter",
         "x": {
          "bdata": "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",
          "dtype": "i2"
         },
         "y": [
          0,
          0,
          0,
          0,
          0.04681098696666666,
          0.04681098696666666,
          0.04681098696666666,
          0.04681098696666666,
          0.04681098696666666,
          0.04681098696666666,
          0.04681098696666666,
          0.04681098696666666,
          0.04681098696666666,
          0.04681098696666666,
          0.04681098696666666,
          0.04681098696666666,
          0.04681098696666666,
          0.04681098696666666,
          0.04681098696666666,
          0.04681098696666666,
          0.04681098696666666,
          0.04681098696666666,
          0.04681098696666666,
          0.04681098696666666,
          0.04681098696666666,
          0.04681098696666666,
          0.04681098696666666,
          0.04681098696666666,
          0.04681098696666666,
          0.04681098696666666,
          0.04681098696666666,
          0.04681098696666666,
          0.04681098696666666,
          0.04681098696666666,
          0,
          0,
          0,
          0,
          0,
          0,
          0,
          0,
          0,
          0,
          0,
          0,
          0,
          0,
          0,
          0,
          0,
          0,
          0,
          0,
          0,
          0,
          0,
          0,
          0,
          0,
          0,
          0,
          0,
          0,
          0,
          0,
          0,
          0,
          0,
          0,
          0,
          0,
          0,
          0,
          0,
          0,
          0,
          0,
          0,
          0,
          0,
          0,
          0,
          0,
          0,
          0,
          0,
          0,
          0,
          0.3,
          0.3,
          0.3,
          0.3,
          0.3,
          0.3,
          0.3,
          0.3,
          0.3,
          0.3,
          0.3,
          0.3,
          0.7666666666666667,
          0.7666666666666667,
          0.7666666666666667,
          0.7666666666666667,
          1.6,
          1.6,
          1.6,
          1.6,
          1.6,
          1.6,
          1.6,
          1.6,
          1.6,
          1.6,
          1.6,
          1.6,
          1.6,
          1.6,
          1.3,
          1.3,
          1.3,
          1.3,
          1.3,
          1.3,
          1.3,
          1.3,
          1.3,
          1.3,
          1.3,
          1.3,
          0.8333333333333334,
          0.8333333333333334,
          1.8,
          1.8,
          0.9666666666666667,
          0.9666666666666667,
          1.0134776536333334,
          1.0134776536333334,
          1.0134776536333334,
          1.0134776536333334,
          1.0134776536333334,
          1.0134776536333334,
          1.0134776536333334,
          1.0134776536333334,
          1.0134776536333334,
          1.0134776536333334,
          1.0138109869666667,
          1.0138109869666667,
          1.0404776536333336,
          1.0404776536333336,
          1.0404776536333336,
          1.0404776536333336,
          1.0404776536333333,
          1.0404776536333333,
          1.4071443203,
          1.4071443203,
          1.9071443203,
          1.9071443203,
          1.9071443203,
          1.9071443203,
          1.9071443203,
          1.9071443203,
          0.9404776536333335,
          0.9404776536333335,
          0.9404776536333334,
          0.9404776536333334,
          0.8936666666666667,
          0.8936666666666667,
          0.8936666666666667,
          0.8936666666666667,
          0.8936666666666667,
          0.8936666666666667,
          0.8936666666666667,
          0.8936666666666667,
          0.8936666666666667,
          0.8936666666666667,
          0.8933333333333333,
          0.8933333333333333,
          0.8666666666666667,
          0.8666666666666667,
          0.8666666666666667,
          0.8666666666666667,
          0.8666666666666667,
          0.8666666666666667,
          0.5,
          0.5,
          0,
          0,
          0,
          0,
          0,
          0,
          0.06666666666666667,
          0.06666666666666667,
          0.06666666666666667,
          0.06666666666666667,
          0.06666666666666667,
          0.06666666666666667,
          0.06666666666666667,
          0.06666666666666667,
          0.06666666666666667,
          0.06666666666666667,
          0.06666666666666667,
          0.06666666666666667,
          0.13333333333333333,
          0.13333333333333333,
          0.13333333333333333,
          0.13333333333333333,
          0.13333333333333333,
          0.13333333333333333,
          0.13333333333333333,
          0.13333333333333333,
          0.15333333333333332,
          0.15333333333333332,
          0.15333333333333332,
          0.15333333333333332,
          0.15366666666666665,
          0.15366666666666665,
          0.15366666666666665,
          0.15366666666666665,
          0.15366666666666665,
          0.15366666666666665,
          0.087,
          0.12033333333333333,
          0.12033333333333333,
          0.12033333333333333,
          0.12033333333333333,
          0.12033333333333333,
          0.16714432029999998,
          0.16714432029999998,
          0.9004776536333333,
          1.6338109869666666,
          2.8671443203,
          2.8671443203,
          2.8004776536333336,
          2.8004776536333336,
          3.4671443203,
          3.470810986966667,
          3.4708109869666663,
          3.4841443202999995,
          3.617810986966667,
          3.6511443203000002,
          3.6311443203000002,
          3.6311443203000002,
          3.644477653633334,
          3.6448109869666667,
          3.644810986966667,
          3.644810986966667,
          3.7114776536333336,
          3.7781443203,
          3.7981443202999996,
          3.9782886405999998,
          4.411621973933333,
          4.3782886406,
          4.511621973933333,
          4.511621973933332,
          4.541621973933333,
          4.541621973933333,
          4.761477653633333,
          4.761477653633333,
          4.0281443203,
          3.2948109869666666,
          2.0614776536333332,
          2.0614776536333332,
          2.2281443202999998,
          2.2284776536333335,
          1.8618109869666666,
          1.8581443202999999,
          2.2914776536333337,
          2.2781443203,
          2.1611443203000005,
          2.127810986966667,
          3.0611443203,
          3.0611443203000004,
          3.0481443203,
          3.047810986966667,
          3.0946219739333336,
          3.174766294233334,
          3.308099627566667,
          3.2414329609,
          3.921766294233334,
          3.741621973933334,
          3.874955307266667,
          3.8749553072666667,
          4.074955307266667,
          4.4082886406,
          4.378288640600001,
          5.3782886406,
          5.1116219739333335,
          5.1116219739333335,
          5.191766294233334,
          5.191766294233333,
          6.3584329609,
          6.3584329609,
          6.191766294233334,
          7.1715772812,
          6.8715772812,
          6.8715772812,
          6.438243947866667,
          6.438243947866667,
          6.4215772812,
          6.5215772812,
          5.588243947866667,
          5.6115772812,
          5.611243947866666,
          5.611243947866666,
          5.597432960899999,
          5.5172886405999995,
          5.317621973933332,
          5.317621973933333,
          4.6974329609,
          4.6974329609,
          4.3640996275666675,
          4.3640996275666675,
          4.031099627566667,
          3.697766294233334,
          3.717766294233334,
          2.7177662942333334,
          2.717766294233334,
          2.7177662942333334,
          2.6844329608999997,
          2.7177662942333334,
          1.5510996275666669,
          1.5510996275666666,
          1.5510996275666669,
          0.5709553072666667,
          0.5709553072666667,
          0.5709553072666667,
          0.5709553072666667,
          0.5709553072666667,
          0.5709553072666667,
          0.4709553072666666,
          0.7042886406,
          0.6809553072666666,
          0.6809553072666666,
          0.6809553072666666,
          0.6476219739333333,
          0.6476219739333333,
          0.6472886405999999,
          0.6472886405999999,
          0.5671443203000001,
          0.5671443203000001,
          0.3338109869666666,
          0.3338109869666666,
          0.3338109869666666,
          0.3338109869666666,
          0.31381098696666665,
          0.31381098696666665,
          0.31381098696666665,
          0.31381098696666665,
          0.267,
          0.23366666666666666,
          0.23399999999999999,
          0.23399999999999999,
          0.23399999999999999,
          0.23399999999999999,
          0.2343333333333333,
          0.2343333333333333,
          0.2343333333333333,
          0.7676666666666667,
          0.7676666666666667,
          0.7676666666666667,
          0.5343333333333333,
          0.5343333333333333,
          0.5343333333333333,
          0.5343333333333333,
          0.5543333333333335,
          0.5543333333333335,
          0.561,
          0.561,
          0.561,
          0.561,
          0.5609999999999999,
          0.561,
          0.5606666666666668,
          0.5606666666666668,
          0.5606666666666666,
          0.5606666666666668,
          0.5606666666666668,
          0.5606666666666668,
          0.5606666666666666,
          0.5606666666666668,
          0.5603333333333335,
          0.5603333333333335,
          0.5603333333333332,
          0.5603333333333335,
          0.56,
          0.56,
          0.56,
          0.02666666666666667,
          0.02666666666666667,
          0.02666666666666667,
          0.02666666666666667,
          0.02666666666666667,
          0.02666666666666667,
          0.02666666666666667,
          0.006666666666666667,
          0.006666666666666667,
          0,
          0,
          0,
          0,
          0,
          0,
          0,
          0,
          0,
          0.0003333333333333333,
          0.0003333333333333333,
          0.0003333333333333333,
          0.0003333333333333333,
          0.0003333333333333333,
          0.0003333333333333333,
          0.0003333333333333333,
          0.0003333333333333333,
          0.0003333333333333333,
          0.0003333333333333333,
          0.0003333333333333333,
          0.0003333333333333333,
          0.0003333333333333333,
          0.0003333333333333333,
          0.0003333333333333333,
          0.0003333333333333333,
          0.0003333333333333333,
          0.0003333333333333333,
          0.0003333333333333333,
          0.0003333333333333333,
          0.0003333333333333333,
          0.10033333333333333,
          0.10033333333333333,
          0.10099999999999999,
          0.10099999999999999,
          0.10099999999999999,
          0.10099999999999999,
          0.10099999999999999,
          0.10099999999999999,
          0.10099999999999999,
          0.10066666666666667,
          0.10066666666666667,
          0.12070472439999999,
          0.12070472439999999,
          0.12070472439999999,
          0.12070472439999999,
          0.6540380577333332,
          0.6540380577333332,
          0.6540380577333332,
          0.7207047243999999,
          0.7207047243999999,
          0.7207047243999999,
          0.7207047243999999,
          0.7207047244000001,
          0.7207047244000001,
          0.7540380577333333,
          0.7540380577333333,
          0.7540380577333333,
          0.7540380577333333,
          0.7540380577333333,
          0.7707047243999999,
          0.6710380577333334,
          1.1047047244000001,
          1.4373713910666666,
          1.4373713910666666,
          1.4373713910666666,
          1.4577427821333333,
          1.4577427821333333,
          1.4577427821333333,
          1.6577427821333333,
          2.2577427821333336,
          2.2744094488,
          2.254371391066667,
          2.254371391066667,
          2.2547047244000002,
          2.255038057733334,
          1.8217047243999998,
          1.9217047243999998,
          1.9217047243999998,
          1.855038057733333,
          1.855038057733333,
          1.8683713910666666,
          1.8683713910666666,
          1.8917047244,
          1.8917047243999998,
          1.8583713910666666,
          1.9250380577333333,
          1.9250380577333333,
          1.925038057733333,
          1.925038057733333,
          1.9083713910666664,
          1.9080380577333331,
          1.4743713910666665,
          1.1410380577333332,
          1.1410380577333332,
          1.3410380577333332,
          1.3206666666666667,
          1.8539999999999999,
          2.5206666666666666,
          2.5540000000000003,
          1.9540000000000002,
          1.9373333333333336,
          2.3040000000000003,
          2.3043333333333336,
          2.3040000000000003,
          2.3036666666666665,
          2.2036666666666664,
          2.1036666666666664,
          2.1036666666666664,
          2.1036666666666664,
          2.3036666666666665,
          2.2903333333333333,
          2.2903333333333333,
          2.667,
          2.667333333333333,
          2.667333333333333,
          2.6006666666666667,
          2.601,
          2.601,
          2.601,
          2.6010000000000004,
          2.6010000000000004,
          2.6010000000000004,
          2.601,
          2.601,
          2.4010000000000002,
          2.4010000000000002,
          1.8676666666666668,
          1.201,
          0.9676666666666667,
          0.9676666666666667,
          0.9676666666666667,
          0.6010000000000001,
          0.6006666666666667,
          0.6006666666666667,
          0.6006666666666667,
          0.6006666666666667,
          0.6006666666666667,
          0.6006666666666667,
          0.6006666666666667,
          0.40066666666666667,
          0.40066666666666667,
          0.40066666666666667,
          0.0006666666666666666,
          0.0003333333333333333,
          0.0003333333333333333,
          0.0003333333333333333,
          0.0003333333333333333,
          0.0003333333333333333,
          0.0003333333333333333,
          0.0003333333333333333,
          0.0003333333333333333,
          0.0003333333333333333,
          0.0003333333333333333,
          0.0003333333333333333,
          0.0003333333333333333,
          0.0003333333333333333,
          0.0006666666666666666,
          0.0006666666666666666,
          0.001,
          0.001,
          0.001,
          0.001,
          0.001,
          0.001,
          0.001,
          0.001,
          0.001,
          0.36766666666666664,
          0.36766666666666664,
          0.36766666666666664,
          0.36766666666666664,
          0.368,
          0.3683333333333333,
          0.3683333333333333,
          0.38199999999999995,
          0.38199999999999995,
          0.39499999999999996,
          0.39499999999999996,
          0.3953333333333333,
          0.3953333333333333,
          0.3953333333333333,
          0.3953333333333333,
          0.3953333333333333,
          0.3953333333333333,
          0.3953333333333333,
          0.3953333333333333,
          1.0283333333333333,
          1.0283333333333333,
          1.028,
          1.028,
          1.028,
          1.028,
          1.028,
          1.028,
          1.028,
          1.028,
          1.0283333333333335,
          0.6616666666666668,
          0.6616666666666667,
          0.6616666666666668,
          0.6616666666666667,
          0.6713333333333334,
          0.671,
          0.671,
          0.6573333333333334,
          0.6573333333333334,
          0.6440000000000001,
          0.6440000000000001,
          0.6436666666666667,
          0.6436666666666667,
          0.6436666666666667,
          0.6436666666666667,
          0.7103333333333334,
          0.7103333333333334,
          0.7103333333333334,
          0.7170000000000001,
          0.08366666666666668,
          0.08366666666666668,
          0.08366666666666665,
          0.08366666666666665,
          0.08399999999999999,
          0.08399999999999999,
          0.08399999999999999,
          0.08433333333333332,
          0.08433333333333332,
          0.08433333333333332,
          0.08399999999999999,
          0.08399999999999999,
          0.08399999999999999,
          0.08399999999999999,
          0.08399999999999999,
          0.10733333333333332,
          0.10733333333333332,
          0.10733333333333332,
          0.10733333333333332,
          0.10733333333333332,
          0.14066666666666666,
          0.14066666666666666,
          0.141,
          0.1413333333333333,
          0.1947047244,
          0.1947047244,
          0.12803805773333332,
          0.12803805773333332,
          0.12803805773333332,
          0.12137139106666668,
          0.1414094488,
          0.14140944880000003,
          0.1414094488,
          0.2747427821333333,
          0.2744094488,
          0.2744094488,
          0.29444750653333335,
          0.29444750653333335,
          0.29444750653333335,
          0.29444750653333335,
          0.3944475065333333,
          0.3944475065333333,
          0.3944475065333333,
          0.3944475065333333,
          0.3944475065333333,
          0.3611141732,
          0.42778083986666665,
          0.42778083986666665,
          0.42778083986666665,
          0.42778083986666665,
          0.3951141732,
          0.6284475065333334,
          0.6281141732,
          0.6277808398666667,
          0.5744094487999999,
          0.5744094487999999,
          0.5744094487999999,
          0.5744094487999999,
          0.5744094487999999,
          0.5744094487999999,
          0.5547047244000001,
          1.3213713910666667,
          1.3213713910666667,
          1.1880380577333334,
          1.1880380577333334,
          1.1880380577333334,
          1.168,
          1.1676666666666666,
          1.1676666666666666,
          1.1676666666666666,
          1.0676666666666668,
          1.0676666666666668,
          1.0676666666666668,
          1.0676666666666668,
          1.301,
          1.301,
          1.2676666666666667,
          1.2676666666666667,
          1.2676666666666667,
          1.701,
          1.7003333333333333,
          1.9003333333333334,
          1.9003333333333332,
          1.9003333333333334,
          2.467,
          2.467,
          2.4669999999999996,
          2.6003333333333334,
          2.6003333333333334,
          2.6003333333333334,
          2.6,
          1.8333333333333333,
          1.8333333333333333,
          1.84,
          1.84,
          1.84,
          1.84,
          1.84,
          1.84,
          1.84,
          1.84,
          1.84,
          1.84,
          1.84,
          1.6066666666666667,
          1.7066666666666668,
          2.106666666666667,
          2.106666666666667,
          2.106666666666667,
          1.6733333333333333,
          1.6733333333333333,
          1.24,
          1.2403333333333333,
          1.2403333333333333,
          0.6803333333333333,
          0.697,
          0.6973333333333334,
          0.5640000000000001,
          0.5640000000000001,
          0.5640000000000001,
          0.5640000000000001,
          0.5640000000000001,
          0.5640000000000001,
          0.5573333333333333,
          0.5573333333333335,
          0.5573333333333335,
          0.5573333333333335,
          0.5573333333333333,
          0.5573333333333335,
          0.5573333333333335,
          1.5906666666666667,
          1.5906666666666667,
          1.824,
          1.824,
          1.824,
          1.7243333333333333,
          1.291,
          1.291,
          1.291,
          1.291,
          1.291,
          1.2910000000000001,
          1.2906666666666666,
          1.2906666666666666,
          1.284,
          1.2673333333333332,
          1.267,
          1.267,
          1.2670000000000001,
          1.267,
          1.267,
          1.267,
          1.2670000000000001,
          1.267,
          1.267,
          1.267,
          1.2670000000000001,
          1.267,
          1.267,
          1.267,
          0.23366666666666666,
          0.23366666666666666,
          0.0003333333333333333,
          0.0003333333333333333,
          0.0006666666666666666,
          0.0003333333333333333,
          0.0003333333333333333,
          0.0003333333333333333,
          0.0003333333333333333,
          0.0003333333333333333,
          0.0003333333333333333,
          0.033666666666666664,
          0.033666666666666664,
          0.033666666666666664,
          0.267,
          0.2673333333333333,
          0.2673333333333333,
          0.2673333333333333,
          0.2673333333333333,
          0.2673333333333333,
          0.2673333333333333,
          0.30376451613333333,
          0.30376451613333333,
          0.30376451613333333,
          0.30376451613333333,
          0.30376451613333333,
          0.30376451613333333,
          0.30376451613333333,
          0.8370978494666665,
          0.8370978494666665,
          0.8370978494666665,
          0.8370978494666665,
          0.8370978494666665,
          0.8370978494666665,
          0.8367645161333334,
          0.8370978494666667,
          0.8370978494666669,
          1.5037645161333335,
          1.5040978494666668,
          1.5044311828,
          3.8377645161333334,
          3.8415290322666666,
          4.774862365600001,
          4.811293548400001,
          5.011293548400001,
          5.010960215066668,
          5.010960215066668,
          5.010960215066667,
          5.010960215066668,
          5.210960215066667,
          5.2112935484,
          5.1748623656,
          5.174862365600001,
          5.1748623656,
          5.174862365600001,
          5.1748623656,
          5.174862365600001,
          5.174862365600001,
          4.641529032266667,
          4.641529032266667,
          4.641529032266667,
          4.641529032266667,
          4.648195698933334,
          4.648195698933334,
          4.648195698933334,
          4.6478623656,
          4.714529032266667,
          4.048195698933333,
          4.114529032266667,
          4.114529032266668,
          2.0478623656,
          2.6774311828,
          1.8774311827999999,
          1.9743333333333335,
          1.541,
          1.5743333333333334,
          1.5746666666666664,
          1.5746666666666667,
          1.5813333333333335,
          1.3813333333333335,
          1.4476666666666667,
          1.4476666666666667,
          1.4476666666666669,
          1.4476666666666669,
          1.5143333333333333,
          1.5143333333333333,
          1.514333333333333,
          1.5476666666666667,
          1.5476666666666667,
          1.5476666666666667,
          1.5476666666666665,
          1.5476666666666667,
          1.541,
          1.541,
          1.5410000000000001,
          1.5410000000000001,
          1.4743333333333333,
          1.474,
          1.4073333333333333,
          1.407,
          1.1403333333333334,
          0.4736666666666667,
          0.3403333333333334,
          2.807,
          4.274,
          4.2410000000000005,
          4.240666666666667,
          4.240666666666667,
          4.234,
          4.234,
          4.167333333333334,
          4.167333333333334,
          4.167333333333334,
          4.167333333333334,
          4.137097849466667,
          4.137097849466667,
          4.303764516133333,
          4.2704311827999994,
          4.2704311827999994,
          4.2704311827999994,
          4.2704311827999994,
          4.2704311827999994,
          4.2704311827999994,
          4.2704311827999994,
          4.2704311827999994,
          4.873529032266666,
          6.7068623656,
          6.720195698933334,
          6.720195698933334,
          6.720195698933334,
          6.720195698933334,
          6.720195698933334,
          6.720195698933334,
          4.120195698933333,
          2.6535290322666674,
          2.653195698933333,
          2.6535290322666674,
          2.653529032266667,
          2.6535290322666674,
          2.653529032266667,
          2.653529032266667,
          2.653529032266667,
          2.6535290322666665,
          2.653529032266667,
          2.6170978494666666,
          2.617097849466667,
          2.4868623655999995,
          2.4868623655999995,
          2.4868623655999995,
          2.4871956989333337,
          2.4871956989333333,
          2.4871956989333333,
          2.4871956989333337,
          2.4871956989333337,
          2.4871956989333333,
          1.8844311827999998,
          0.08752903226666667,
          0.09752903226666666,
          0.09752903226666666,
          0.1308623656,
          0.1308623656,
          0.19752903226666665,
          0.19752903226666665,
          0.19752903226666665,
          0.19719569893333333,
          0.2638623656,
          0.28019569893333335,
          0.28019569893333335,
          0.28019569893333335,
          0.28019569893333335,
          0.2901956989333333,
          0.29019569893333336,
          0.29019569893333336,
          0.29019569893333336,
          0.2901956989333333,
          0.29019569893333336,
          0.25376451613333334,
          0.25376451613333334,
          0.25409784946666664,
          0.2901956989333333,
          1.3901956989333333,
          1.4235290322666667,
          2.1568623656,
          2.1601956989333333,
          2.1966268817333328,
          2.1962935484,
          2.1598623656,
          2.1365290322666666,
          2.1365290322666666,
          2.1031956989333334,
          2.1165290322666666,
          2.0498623656,
          2.0498623656,
          2.0498623656,
          2.0501956989333334,
          1.9838623655999998,
          2.003626881733333,
          2.003626881733333,
          2.0202935484,
          2.0567247312,
          2.2800580645333337,
          2.3164892473333336,
          3.1498225806666666,
          3.1501559140000004,
          3.2834892473333337,
          3.4834892473333334,
          3.4834892473333334,
          3.6501559140000004,
          3.949822580666667,
          3.913391397866667,
          2.947058064533334,
          3.1470580645333337,
          4.580391397866666,
          4.677058064533333,
          4.6406268817333345,
          4.640960215066667,
          4.707626881733334,
          4.707626881733334,
          4.707626881733333,
          4.707626881733333,
          4.927626881733333,
          4.964058064533334,
          5.664058064533333,
          6.264058064533334,
          6.2637247312,
          6.263391397866667,
          6.253626881733334,
          6.253626881733334,
          6.336960215066667,
          6.300529032266667,
          6.067195698933333,
          6.030764516133333,
          5.3974311828,
          5.697097849466667,
          5.564097849466666,
          5.364097849466666,
          5.364097849466666,
          5.364097849466666,
          5.104097849466666,
          5.4707645161333325,
          5.3374311828,
          5.104097849466666,
          2.9374311828,
          2.904097849466667,
          3.0040978494666666,
          3.0037645161333333,
          2.9474311828,
          2.9838623656,
          3.2838623655999997,
          3.2838623655999997,
          3.057195698933333,
          3.0207645161333336,
          2.320764516133333,
          1.7207645161333334,
          1.7207645161333334,
          1.7207645161333334,
          1.6944311827999998,
          1.6944311827999998,
          2.464195698933333,
          2.5672935484,
          2.5672935484,
          2.8339602150666665,
          2.6339602150666663,
          2.333960215066667,
          2.346960215066667,
          2.346960215066667,
          2.5469602150666666,
          2.3802935484,
          2.4402935484,
          2.0736268817333334,
          2.0802935484,
          2.0802935484,
          2.0802935484,
          2.0136268817333334,
          1.9136268817333333,
          4.3802935484,
          4.836626881733333,
          4.800195698933334,
          4.600195698933334,
          4.6005290322666665,
          4.5938623656,
          4.960862365599999,
          5.360862365599999,
          6.244195698933333,
          6.2675290322666655,
          6.2675290322666655,
          6.467195698933333,
          6.506960215066666,
          5.703862365599999,
          5.600764516133333,
          5.600764516133334,
          5.334097849466667,
          5.334097849466667,
          5.334097849466667,
          5.330764516133334,
          5.330764516133333,
          5.167195698933333,
          5.167195698933335,
          6.800529032266668,
          6.967195698933335,
          7.726862365600001,
          7.730195698933334,
          7.730529032266667,
          7.7305290322666655,
          7.730529032266667,
          5.2638623656,
          4.797195698933334,
          4.797195698933333,
          4.697195698933333,
          4.6968623655999995,
          4.6968623656,
          4.3298623655999995,
          3.9298623656,
          3.0465290322666667,
          3.0596268817333327,
          3.0596268817333327,
          2.859626881733333,
          2.8198623656,
          2.7531956989333333,
          2.753195698933333,
          2.7531956989333333
         ]
        }
       ],
       "layout": {
        "template": {
         "data": {
          "bar": [
           {
            "error_x": {
             "color": "#2a3f5f"
            },
            "error_y": {
             "color": "#2a3f5f"
            },
            "marker": {
             "line": {
              "color": "#E5ECF6",
              "width": 0.5
             },
             "pattern": {
              "fillmode": "overlay",
              "size": 10,
              "solidity": 0.2
             }
            },
            "type": "bar"
           }
          ],
          "barpolar": [
           {
            "marker": {
             "line": {
              "color": "#E5ECF6",
              "width": 0.5
             },
             "pattern": {
              "fillmode": "overlay",
              "size": 10,
              "solidity": 0.2
             }
            },
            "type": "barpolar"
           }
          ],
          "carpet": [
           {
            "aaxis": {
             "endlinecolor": "#2a3f5f",
             "gridcolor": "white",
             "linecolor": "white",
             "minorgridcolor": "white",
             "startlinecolor": "#2a3f5f"
            },
            "baxis": {
             "endlinecolor": "#2a3f5f",
             "gridcolor": "white",
             "linecolor": "white",
             "minorgridcolor": "white",
             "startlinecolor": "#2a3f5f"
            },
            "type": "carpet"
           }
          ],
          "choropleth": [
           {
            "colorbar": {
             "outlinewidth": 0,
             "ticks": ""
            },
            "type": "choropleth"
           }
          ],
          "contour": [
           {
            "colorbar": {
             "outlinewidth": 0,
             "ticks": ""
            },
            "colorscale": [
             [
              0,
              "#0d0887"
             ],
             [
              0.1111111111111111,
              "#46039f"
             ],
             [
              0.2222222222222222,
              "#7201a8"
             ],
             [
              0.3333333333333333,
              "#9c179e"
             ],
             [
              0.4444444444444444,
              "#bd3786"
             ],
             [
              0.5555555555555556,
              "#d8576b"
             ],
             [
              0.6666666666666666,
              "#ed7953"
             ],
             [
              0.7777777777777778,
              "#fb9f3a"
             ],
             [
              0.8888888888888888,
              "#fdca26"
             ],
             [
              1,
              "#f0f921"
             ]
            ],
            "type": "contour"
           }
          ],
          "contourcarpet": [
           {
            "colorbar": {
             "outlinewidth": 0,
             "ticks": ""
            },
            "type": "contourcarpet"
           }
          ],
          "heatmap": [
           {
            "colorbar": {
             "outlinewidth": 0,
             "ticks": ""
            },
            "colorscale": [
             [
              0,
              "#0d0887"
             ],
             [
              0.1111111111111111,
              "#46039f"
             ],
             [
              0.2222222222222222,
              "#7201a8"
             ],
             [
              0.3333333333333333,
              "#9c179e"
             ],
             [
              0.4444444444444444,
              "#bd3786"
             ],
             [
              0.5555555555555556,
              "#d8576b"
             ],
             [
              0.6666666666666666,
              "#ed7953"
             ],
             [
              0.7777777777777778,
              "#fb9f3a"
             ],
             [
              0.8888888888888888,
              "#fdca26"
             ],
             [
              1,
              "#f0f921"
             ]
            ],
            "type": "heatmap"
           }
          ],
          "histogram": [
           {
            "marker": {
             "pattern": {
              "fillmode": "overlay",
              "size": 10,
              "solidity": 0.2
             }
            },
            "type": "histogram"
           }
          ],
          "histogram2d": [
           {
            "colorbar": {
             "outlinewidth": 0,
             "ticks": ""
            },
            "colorscale": [
             [
              0,
              "#0d0887"
             ],
             [
              0.1111111111111111,
              "#46039f"
             ],
             [
              0.2222222222222222,
              "#7201a8"
             ],
             [
              0.3333333333333333,
              "#9c179e"
             ],
             [
              0.4444444444444444,
              "#bd3786"
             ],
             [
              0.5555555555555556,
              "#d8576b"
             ],
             [
              0.6666666666666666,
              "#ed7953"
             ],
             [
              0.7777777777777778,
              "#fb9f3a"
             ],
             [
              0.8888888888888888,
              "#fdca26"
             ],
             [
              1,
              "#f0f921"
             ]
            ],
            "type": "histogram2d"
           }
          ],
          "histogram2dcontour": [
           {
            "colorbar": {
             "outlinewidth": 0,
             "ticks": ""
            },
            "colorscale": [
             [
              0,
              "#0d0887"
             ],
             [
              0.1111111111111111,
              "#46039f"
             ],
             [
              0.2222222222222222,
              "#7201a8"
             ],
             [
              0.3333333333333333,
              "#9c179e"
             ],
             [
              0.4444444444444444,
              "#bd3786"
             ],
             [
              0.5555555555555556,
              "#d8576b"
             ],
             [
              0.6666666666666666,
              "#ed7953"
             ],
             [
              0.7777777777777778,
              "#fb9f3a"
             ],
             [
              0.8888888888888888,
              "#fdca26"
             ],
             [
              1,
              "#f0f921"
             ]
            ],
            "type": "histogram2dcontour"
           }
          ],
          "mesh3d": [
           {
            "colorbar": {
             "outlinewidth": 0,
             "ticks": ""
            },
            "type": "mesh3d"
           }
          ],
          "parcoords": [
           {
            "line": {
             "colorbar": {
              "outlinewidth": 0,
              "ticks": ""
             }
            },
            "type": "parcoords"
           }
          ],
          "pie": [
           {
            "automargin": true,
            "type": "pie"
           }
          ],
          "scatter": [
           {
            "fillpattern": {
             "fillmode": "overlay",
             "size": 10,
             "solidity": 0.2
            },
            "type": "scatter"
           }
          ],
          "scatter3d": [
           {
            "line": {
             "colorbar": {
              "outlinewidth": 0,
              "ticks": ""
             }
            },
            "marker": {
             "colorbar": {
              "outlinewidth": 0,
              "ticks": ""
             }
            },
            "type": "scatter3d"
           }
          ],
          "scattercarpet": [
           {
            "marker": {
             "colorbar": {
              "outlinewidth": 0,
              "ticks": ""
             }
            },
            "type": "scattercarpet"
           }
          ],
          "scattergeo": [
           {
            "marker": {
             "colorbar": {
              "outlinewidth": 0,
              "ticks": ""
             }
            },
            "type": "scattergeo"
           }
          ],
          "scattergl": [
           {
            "marker": {
             "colorbar": {
              "outlinewidth": 0,
              "ticks": ""
             }
            },
            "type": "scattergl"
           }
          ],
          "scattermap": [
           {
            "marker": {
             "colorbar": {
              "outlinewidth": 0,
              "ticks": ""
             }
            },
            "type": "scattermap"
           }
          ],
          "scattermapbox": [
           {
            "marker": {
             "colorbar": {
              "outlinewidth": 0,
              "ticks": ""
             }
            },
            "type": "scattermapbox"
           }
          ],
          "scatterpolar": [
           {
            "marker": {
             "colorbar": {
              "outlinewidth": 0,
              "ticks": ""
             }
            },
            "type": "scatterpolar"
           }
          ],
          "scatterpolargl": [
           {
            "marker": {
             "colorbar": {
              "outlinewidth": 0,
              "ticks": ""
             }
            },
            "type": "scatterpolargl"
           }
          ],
          "scatterternary": [
           {
            "marker": {
             "colorbar": {
              "outlinewidth": 0,
              "ticks": ""
             }
            },
            "type": "scatterternary"
           }
          ],
          "surface": [
           {
            "colorbar": {
             "outlinewidth": 0,
             "ticks": ""
            },
            "colorscale": [
             [
              0,
              "#0d0887"
             ],
             [
              0.1111111111111111,
              "#46039f"
             ],
             [
              0.2222222222222222,
              "#7201a8"
             ],
             [
              0.3333333333333333,
              "#9c179e"
             ],
             [
              0.4444444444444444,
              "#bd3786"
             ],
             [
              0.5555555555555556,
              "#d8576b"
             ],
             [
              0.6666666666666666,
              "#ed7953"
             ],
             [
              0.7777777777777778,
              "#fb9f3a"
             ],
             [
              0.8888888888888888,
              "#fdca26"
             ],
             [
              1,
              "#f0f921"
             ]
            ],
            "type": "surface"
           }
          ],
          "table": [
           {
            "cells": {
             "fill": {
              "color": "#EBF0F8"
             },
             "line": {
              "color": "white"
             }
            },
            "header": {
             "fill": {
              "color": "#C8D4E3"
             },
             "line": {
              "color": "white"
             }
            },
            "type": "table"
           }
          ]
         },
         "layout": {
          "annotationdefaults": {
           "arrowcolor": "#2a3f5f",
           "arrowhead": 0,
           "arrowwidth": 1
          },
          "autotypenumbers": "strict",
          "coloraxis": {
           "colorbar": {
            "outlinewidth": 0,
            "ticks": ""
           }
          },
          "colorscale": {
           "diverging": [
            [
             0,
             "#8e0152"
            ],
            [
             0.1,
             "#c51b7d"
            ],
            [
             0.2,
             "#de77ae"
            ],
            [
             0.3,
             "#f1b6da"
            ],
            [
             0.4,
             "#fde0ef"
            ],
            [
             0.5,
             "#f7f7f7"
            ],
            [
             0.6,
             "#e6f5d0"
            ],
            [
             0.7,
             "#b8e186"
            ],
            [
             0.8,
             "#7fbc41"
            ],
            [
             0.9,
             "#4d9221"
            ],
            [
             1,
             "#276419"
            ]
           ],
           "sequential": [
            [
             0,
             "#0d0887"
            ],
            [
             0.1111111111111111,
             "#46039f"
            ],
            [
             0.2222222222222222,
             "#7201a8"
            ],
            [
             0.3333333333333333,
             "#9c179e"
            ],
            [
             0.4444444444444444,
             "#bd3786"
            ],
            [
             0.5555555555555556,
             "#d8576b"
            ],
            [
             0.6666666666666666,
             "#ed7953"
            ],
            [
             0.7777777777777778,
             "#fb9f3a"
            ],
            [
             0.8888888888888888,
             "#fdca26"
            ],
            [
             1,
             "#f0f921"
            ]
           ],
           "sequentialminus": [
            [
             0,
             "#0d0887"
            ],
            [
             0.1111111111111111,
             "#46039f"
            ],
            [
             0.2222222222222222,
             "#7201a8"
            ],
            [
             0.3333333333333333,
             "#9c179e"
            ],
            [
             0.4444444444444444,
             "#bd3786"
            ],
            [
             0.5555555555555556,
             "#d8576b"
            ],
            [
             0.6666666666666666,
             "#ed7953"
            ],
            [
             0.7777777777777778,
             "#fb9f3a"
            ],
            [
             0.8888888888888888,
             "#fdca26"
            ],
            [
             1,
             "#f0f921"
            ]
           ]
          },
          "colorway": [
           "#636efa",
           "#EF553B",
           "#00cc96",
           "#ab63fa",
           "#FFA15A",
           "#19d3f3",
           "#FF6692",
           "#B6E880",
           "#FF97FF",
           "#FECB52"
          ],
          "font": {
           "color": "#2a3f5f"
          },
          "geo": {
           "bgcolor": "white",
           "lakecolor": "white",
           "landcolor": "#E5ECF6",
           "showlakes": true,
           "showland": true,
           "subunitcolor": "white"
          },
          "hoverlabel": {
           "align": "left"
          },
          "hovermode": "closest",
          "mapbox": {
           "style": "light"
          },
          "paper_bgcolor": "white",
          "plot_bgcolor": "#E5ECF6",
          "polar": {
           "angularaxis": {
            "gridcolor": "white",
            "linecolor": "white",
            "ticks": ""
           },
           "bgcolor": "#E5ECF6",
           "radialaxis": {
            "gridcolor": "white",
            "linecolor": "white",
            "ticks": ""
           }
          },
          "scene": {
           "xaxis": {
            "backgroundcolor": "#E5ECF6",
            "gridcolor": "white",
            "gridwidth": 2,
            "linecolor": "white",
            "showbackground": true,
            "ticks": "",
            "zerolinecolor": "white"
           },
           "yaxis": {
            "backgroundcolor": "#E5ECF6",
            "gridcolor": "white",
            "gridwidth": 2,
            "linecolor": "white",
            "showbackground": true,
            "ticks": "",
            "zerolinecolor": "white"
           },
           "zaxis": {
            "backgroundcolor": "#E5ECF6",
            "gridcolor": "white",
            "gridwidth": 2,
            "linecolor": "white",
            "showbackground": true,
            "ticks": "",
            "zerolinecolor": "white"
           }
          },
          "shapedefaults": {
           "line": {
            "color": "#2a3f5f"
           }
          },
          "ternary": {
           "aaxis": {
            "gridcolor": "white",
            "linecolor": "white",
            "ticks": ""
           },
           "baxis": {
            "gridcolor": "white",
            "linecolor": "white",
            "ticks": ""
           },
           "bgcolor": "#E5ECF6",
           "caxis": {
            "gridcolor": "white",
            "linecolor": "white",
            "ticks": ""
           }
          },
          "title": {
           "x": 0.05
          },
          "xaxis": {
           "automargin": true,
           "gridcolor": "white",
           "linecolor": "white",
           "ticks": "",
           "title": {
            "standoff": 15
           },
           "zerolinecolor": "white",
           "zerolinewidth": 2
          },
          "yaxis": {
           "automargin": true,
           "gridcolor": "white",
           "linecolor": "white",
           "ticks": "",
           "title": {
            "standoff": 15
           },
           "zerolinecolor": "white",
           "zerolinewidth": 2
          }
         }
        }
       }
      }
     },
     "metadata": {},
     "output_type": "display_data"
    }
   ],
   "source": [
    "# Average precipitation over the previous 30 days data\n",
    "fig = go.Figure()\n",
    "\n",
    "fig.add_trace(\n",
    "        go.Scatter(\n",
    "            y=theta.avg_prec,\n",
    "            x=np.arange(0, len(theta.avg_prec)),\n",
    "            mode='lines',\n",
    "            name='Precipitation'\n",
    "        ))\n",
    "\n",
    "fig.show()"
   ]
  },
  {
   "cell_type": "code",
   "execution_count": null,
   "metadata": {},
   "outputs": [
    {
     "data": {
      "application/vnd.plotly.v1+json": {
       "config": {
        "plotlyServerURL": "https://plot.ly"
       },
       "data": [
        {
         "mode": "lines",
         "name": "Birth rate",
         "type": "scatter",
         "x": {
          "bdata": "AAABAAIAAwAEAAUABgAHAAgACQAKAAsADAANAA4ADwAQABEAEgATABQAFQAWABcAGAAZABoAGwAcAB0AHgAfACAAIQAiACMAJAAlACYAJwAoACkAKgArACwALQAuAC8AMAAxADIAMwA0ADUANgA3ADgAOQA6ADsAPAA9AD4APwBAAEEAQgBDAEQARQBGAEcASABJAEoASwBMAE0ATgBPAFAAUQBSAFMAVABVAFYAVwBYAFkAWgBbAFwAXQBeAF8AYABhAGIAYwBkAGUAZgBnAGgAaQBqAGsAbABtAG4AbwBwAHEAcgBzAHQAdQB2AHcAeAB5AHoAewB8AH0AfgB/AIAAgQCCAIMAhACFAIYAhwCIAIkAigCLAIwAjQCOAI8AkACRAJIAkwCUAJUAlgCXAJgAmQCaAJsAnACdAJ4AnwCgAKEAogCjAKQApQCmAKcAqACpAKoAqwCsAK0ArgCvALAAsQCyALMAtAC1ALYAtwC4ALkAugC7ALwAvQC+AL8AwADBAMIAwwDEAMUAxgDHAMgAyQDKAMsAzADNAM4AzwDQANEA0gDTANQA1QDWANcA2ADZANoA2wDcAN0A3gDfAOAA4QDiAOMA5ADlAOYA5wDoAOkA6gDrAOwA7QDuAO8A8ADxAPIA8wD0APUA9gD3APgA+QD6APsA/AD9AP4A/wAAAQEBAgEDAQQBBQEGAQcBCAEJAQoBCwEMAQ0BDgEPARABEQESARMBFAEVARYBFwEYARkBGgEbARwBHQEeAR8BIAEhASIBIwEkASUBJgEnASgBKQEqASsBLAEtAS4BLwEwATEBMgEzATQBNQE2ATcBOAE5AToBOwE8AT0BPgE/AUABQQFCAUMBRAFFAUYBRwFIAUkBSgFLAUwBTQFOAU8BUAFRAVIBUwFUAVUBVgFXAVgBWQFaAVsBXAFdAV4BXwFgAWEBYgFjAWQBZQFmAWcBaAFpAWoBawFsAQ==",
          "dtype": "i2"
         },
         "y": [
          0.34705007598120846,
          0,
          0,
          0,
          0,
          0.01151031488450917,
          0.01151031488450917,
          0.01151031488450917,
          0.01151031488450917,
          0.01151031488450917,
          0.01151031488450917,
          0.01151031488450917,
          0.01151031488450917,
          0.01151031488450917,
          0.01151031488450917,
          0.01151031488450917,
          0.01151031488450917,
          0.01151031488450917,
          0.01151031488450917,
          0.01151031488450917,
          0.01151031488450917,
          0.01151031488450917,
          0.01151031488450917,
          0.01151031488450917,
          0.01151031488450917,
          0.01151031488450917,
          0.01151031488450917,
          0.01151031488450917,
          0.01151031488450917,
          0.01151031488450917,
          0.01151031488450917,
          0.01151031488450917,
          0.01151031488450917,
          0.01151031488450917,
          0.01151031488450917,
          0,
          0,
          0,
          0,
          0,
          0,
          0,
          0,
          0,
          0,
          0,
          0,
          0,
          0,
          0,
          0,
          0,
          0,
          0,
          0,
          0,
          0,
          0,
          0,
          0,
          0,
          0,
          0,
          0,
          0,
          0,
          0,
          0,
          0,
          0,
          0,
          0,
          0,
          0,
          0,
          0,
          0,
          0,
          0,
          0,
          0,
          0,
          0,
          0,
          0,
          0,
          0,
          0,
          0,
          0,
          0.06774193548387097,
          0.06774193548387097,
          0.06774193548387097,
          0.06774193548387097,
          0.06774193548387097,
          0.06774193548387097,
          0.06774193548387097,
          0.06774193548387097,
          0.06774193548387097,
          0.06774193548387097,
          0.06774193548387097,
          0.06774193548387097,
          0.15046728971962617,
          0.15046728971962617,
          0.15046728971962617,
          0.15046728971962617,
          0.2545454545454545,
          0.2545454545454545,
          0.2545454545454545,
          0.2545454545454545,
          0.2545454545454545,
          0.2545454545454545,
          0.2545454545454545,
          0.2545454545454545,
          0.2545454545454545,
          0.2545454545454545,
          0.2545454545454545,
          0.2545454545454545,
          0.2545454545454545,
          0.2545454545454545,
          0.22195121951219512,
          0.22195121951219512,
          0.22195121951219512,
          0.22195121951219512,
          0.22195121951219512,
          0.22195121951219512,
          0.22195121951219512,
          0.22195121951219512,
          0.22195121951219512,
          0.22195121951219512,
          0.22195121951219512,
          0.22195121951219512,
          0.16055045871559634,
          0.16055045871559634,
          0.2739130434782609,
          0.2739130434782609,
          0.17964601769911503,
          0.17964601769911503,
          0.18603343771200861,
          0.18603343771200861,
          0.18603343771200861,
          0.18603343771200861,
          0.18603343771200861,
          0.18603343771200861,
          0.18603343771200861,
          0.18603343771200861,
          0.18603343771200861,
          0.18603343771200861,
          0.1860783592322451,
          0.1860783592322451,
          0.1896468156387483,
          0.1896468156387483,
          0.1896468156387483,
          0.1896468156387483,
          0.18964681563874827,
          0.18964681563874827,
          0.23412579869372352,
          0.23412579869372352,
          0.28361166205435495,
          0.28361166205435495,
          0.28361166205435495,
          0.28361166205435495,
          0.28361166205435495,
          0.28361166205435495,
          0.17600275112026312,
          0.17600275112026312,
          0.17600275112026315,
          0.17600275112026315,
          0.1693619709412508,
          0.1693619709412508,
          0.1693619709412508,
          0.1693619709412508,
          0.1693619709412508,
          0.1693619709412508,
          0.1693619709412508,
          0.1693619709412508,
          0.1693619709412508,
          0.1693619709412508,
          0.16931407942238266,
          0.16931407942238266,
          0.16545454545454547,
          0.16545454545454547,
          0.16545454545454547,
          0.16545454545454547,
          0.16545454545454547,
          0.16545454545454547,
          0.10606060606060606,
          0.10606060606060606,
          0,
          0,
          0,
          0,
          0,
          0,
          0.01627906976744186,
          0.01627906976744186,
          0.01627906976744186,
          0.01627906976744186,
          0.01627906976744186,
          0.01627906976744186,
          0.01627906976744186,
          0.01627906976744186,
          0.01627906976744186,
          0.01627906976744186,
          0.01627906976744186,
          0.01627906976744186,
          0.031818181818181815,
          0.031818181818181815,
          0.031818181818181815,
          0.031818181818181815,
          0.031818181818181815,
          0.031818181818181815,
          0.031818181818181815,
          0.031818181818181815,
          0.036343115124153495,
          0.036343115124153495,
          0.036343115124153495,
          0.036343115124153495,
          0.03641801151111612,
          0.03641801151111612,
          0.03641801151111612,
          0.03641801151111612,
          0.03641801151111612,
          0.03641801151111612,
          0.021094561828888116,
          0.02884373929916676,
          0.02884373929916676,
          0.02884373929916676,
          0.02884373929916676,
          0.02884373929916676,
          0.03943219863271442,
          0.03943219863271442,
          0.1703386472079993,
          0.2579423647599132,
          0.35414679965371976,
          0.35414679965371976,
          0.3500298508059501,
          0.3500298508059501,
          0.38725788017178175,
          0.38744074664765227,
          0.38744074664765227,
          0.3881039167626195,
          0.3945999182617903,
          0.3961779332958942,
          0.39523308724184103,
          0.39523308724184103,
          0.3958636362258202,
          0.3958793665223533,
          0.39587936652235334,
          0.39587936652235334,
          0.39899305437893323,
          0.4020436304579871,
          0.40294678248097426,
          0.4108414669360399,
          0.42821648069123835,
          0.42695441794937733,
          0.43193362471588426,
          0.4319336247158842,
          0.43302902179395186,
          0.43302902179395186,
          0.4407914048310109,
          0.4407914048310109,
          0.4129527572853226,
          0.3784149657485154,
          0.29683040021069507,
          0.29683040021069507,
          0.31019416406029926,
          0.310220003944176,
          0.2795625336420327,
          0.2792315855353813,
          0.31504299275450565,
          0.3140322376887056,
          0.3049298562067473,
          0.30225747189088403,
          0.365594311811848,
          0.365594311811848,
          0.3648509522590826,
          0.3648318482987295,
          0.36749352059091567,
          0.3719536960145649,
          0.37911459872817743,
          0.3755736573284732,
          0.4084099752647601,
          0.40038011859901235,
          0.40636507515394854,
          0.4063650751539486,
          0.4149072375891192,
          0.42809079967185465,
          0.4269544179493774,
          0.46034105836398986,
          0.45226318870420334,
          0.45226318870420334,
          0.4547475829699514,
          0.45474758296995127,
          0.4859895892269117,
          0.4859895892269117,
          0.48202280443420764,
          0.5034413268104232,
          0.4973443272991338,
          0.4973443272991338,
          0.48783846680595483,
          0.48783846680595483,
          0.48745501553233783,
          0.4897351552346212,
          0.46633965199611593,
          0.4669878151888791,
          0.4669785810341272,
          0.4669785810341272,
          0.46659533822703647,
          0.4643462810184969,
          0.45854997851663976,
          0.4585499785166398,
          0.43857718898966724,
          0.43857718898966724,
          0.42641363159466183,
          0.42641363159466183,
          0.41307694121595184,
          0.39835788003956535,
          0.3992834797200182,
          0.34478379556444544,
          0.3447837955644455,
          0.34478379556444544,
          0.3426248594935214,
          0.34478379556444544,
          0.24953915842737867,
          0.24953915842737862,
          0.24953915842737867,
          0.11856244852167361,
          0.11856244852167361,
          0.11856244852167361,
          0.11856244852167361,
          0.11856244852167361,
          0.11856244852167361,
          0.10078667671009855,
          0.14068534272781502,
          0.13693617786232334,
          0.13693617786232334,
          0.13693617786232334,
          0.13149219525252379,
          0.13149219525252379,
          0.13143722376004396,
          0.13143722376004396,
          0.11790436834457654,
          0.11790436834457654,
          0.07456342831411232,
          0.07456342831411232,
          0.07456342831411232,
          0.07456342831411232,
          0.07054625081487587,
          0.07054625081487587,
          0.07054625081487587,
          0.07054625081487587,
          0.060939028366481914,
          0.053917151961322934,
          0.05398813447593935,
          0.05398813447593935,
          0.05398813447593935,
          0.05398813447593935,
          0.05405910139514446,
          0.05405910139514446,
          0.05405910139514446,
          0.15062132112491824,
          0.15062132112491824,
          0.15062132112491824,
          0.11217634709587124
         ]
        }
       ],
       "layout": {
        "template": {
         "data": {
          "bar": [
           {
            "error_x": {
             "color": "#2a3f5f"
            },
            "error_y": {
             "color": "#2a3f5f"
            },
            "marker": {
             "line": {
              "color": "#E5ECF6",
              "width": 0.5
             },
             "pattern": {
              "fillmode": "overlay",
              "size": 10,
              "solidity": 0.2
             }
            },
            "type": "bar"
           }
          ],
          "barpolar": [
           {
            "marker": {
             "line": {
              "color": "#E5ECF6",
              "width": 0.5
             },
             "pattern": {
              "fillmode": "overlay",
              "size": 10,
              "solidity": 0.2
             }
            },
            "type": "barpolar"
           }
          ],
          "carpet": [
           {
            "aaxis": {
             "endlinecolor": "#2a3f5f",
             "gridcolor": "white",
             "linecolor": "white",
             "minorgridcolor": "white",
             "startlinecolor": "#2a3f5f"
            },
            "baxis": {
             "endlinecolor": "#2a3f5f",
             "gridcolor": "white",
             "linecolor": "white",
             "minorgridcolor": "white",
             "startlinecolor": "#2a3f5f"
            },
            "type": "carpet"
           }
          ],
          "choropleth": [
           {
            "colorbar": {
             "outlinewidth": 0,
             "ticks": ""
            },
            "type": "choropleth"
           }
          ],
          "contour": [
           {
            "colorbar": {
             "outlinewidth": 0,
             "ticks": ""
            },
            "colorscale": [
             [
              0,
              "#0d0887"
             ],
             [
              0.1111111111111111,
              "#46039f"
             ],
             [
              0.2222222222222222,
              "#7201a8"
             ],
             [
              0.3333333333333333,
              "#9c179e"
             ],
             [
              0.4444444444444444,
              "#bd3786"
             ],
             [
              0.5555555555555556,
              "#d8576b"
             ],
             [
              0.6666666666666666,
              "#ed7953"
             ],
             [
              0.7777777777777778,
              "#fb9f3a"
             ],
             [
              0.8888888888888888,
              "#fdca26"
             ],
             [
              1,
              "#f0f921"
             ]
            ],
            "type": "contour"
           }
          ],
          "contourcarpet": [
           {
            "colorbar": {
             "outlinewidth": 0,
             "ticks": ""
            },
            "type": "contourcarpet"
           }
          ],
          "heatmap": [
           {
            "colorbar": {
             "outlinewidth": 0,
             "ticks": ""
            },
            "colorscale": [
             [
              0,
              "#0d0887"
             ],
             [
              0.1111111111111111,
              "#46039f"
             ],
             [
              0.2222222222222222,
              "#7201a8"
             ],
             [
              0.3333333333333333,
              "#9c179e"
             ],
             [
              0.4444444444444444,
              "#bd3786"
             ],
             [
              0.5555555555555556,
              "#d8576b"
             ],
             [
              0.6666666666666666,
              "#ed7953"
             ],
             [
              0.7777777777777778,
              "#fb9f3a"
             ],
             [
              0.8888888888888888,
              "#fdca26"
             ],
             [
              1,
              "#f0f921"
             ]
            ],
            "type": "heatmap"
           }
          ],
          "histogram": [
           {
            "marker": {
             "pattern": {
              "fillmode": "overlay",
              "size": 10,
              "solidity": 0.2
             }
            },
            "type": "histogram"
           }
          ],
          "histogram2d": [
           {
            "colorbar": {
             "outlinewidth": 0,
             "ticks": ""
            },
            "colorscale": [
             [
              0,
              "#0d0887"
             ],
             [
              0.1111111111111111,
              "#46039f"
             ],
             [
              0.2222222222222222,
              "#7201a8"
             ],
             [
              0.3333333333333333,
              "#9c179e"
             ],
             [
              0.4444444444444444,
              "#bd3786"
             ],
             [
              0.5555555555555556,
              "#d8576b"
             ],
             [
              0.6666666666666666,
              "#ed7953"
             ],
             [
              0.7777777777777778,
              "#fb9f3a"
             ],
             [
              0.8888888888888888,
              "#fdca26"
             ],
             [
              1,
              "#f0f921"
             ]
            ],
            "type": "histogram2d"
           }
          ],
          "histogram2dcontour": [
           {
            "colorbar": {
             "outlinewidth": 0,
             "ticks": ""
            },
            "colorscale": [
             [
              0,
              "#0d0887"
             ],
             [
              0.1111111111111111,
              "#46039f"
             ],
             [
              0.2222222222222222,
              "#7201a8"
             ],
             [
              0.3333333333333333,
              "#9c179e"
             ],
             [
              0.4444444444444444,
              "#bd3786"
             ],
             [
              0.5555555555555556,
              "#d8576b"
             ],
             [
              0.6666666666666666,
              "#ed7953"
             ],
             [
              0.7777777777777778,
              "#fb9f3a"
             ],
             [
              0.8888888888888888,
              "#fdca26"
             ],
             [
              1,
              "#f0f921"
             ]
            ],
            "type": "histogram2dcontour"
           }
          ],
          "mesh3d": [
           {
            "colorbar": {
             "outlinewidth": 0,
             "ticks": ""
            },
            "type": "mesh3d"
           }
          ],
          "parcoords": [
           {
            "line": {
             "colorbar": {
              "outlinewidth": 0,
              "ticks": ""
             }
            },
            "type": "parcoords"
           }
          ],
          "pie": [
           {
            "automargin": true,
            "type": "pie"
           }
          ],
          "scatter": [
           {
            "fillpattern": {
             "fillmode": "overlay",
             "size": 10,
             "solidity": 0.2
            },
            "type": "scatter"
           }
          ],
          "scatter3d": [
           {
            "line": {
             "colorbar": {
              "outlinewidth": 0,
              "ticks": ""
             }
            },
            "marker": {
             "colorbar": {
              "outlinewidth": 0,
              "ticks": ""
             }
            },
            "type": "scatter3d"
           }
          ],
          "scattercarpet": [
           {
            "marker": {
             "colorbar": {
              "outlinewidth": 0,
              "ticks": ""
             }
            },
            "type": "scattercarpet"
           }
          ],
          "scattergeo": [
           {
            "marker": {
             "colorbar": {
              "outlinewidth": 0,
              "ticks": ""
             }
            },
            "type": "scattergeo"
           }
          ],
          "scattergl": [
           {
            "marker": {
             "colorbar": {
              "outlinewidth": 0,
              "ticks": ""
             }
            },
            "type": "scattergl"
           }
          ],
          "scattermap": [
           {
            "marker": {
             "colorbar": {
              "outlinewidth": 0,
              "ticks": ""
             }
            },
            "type": "scattermap"
           }
          ],
          "scattermapbox": [
           {
            "marker": {
             "colorbar": {
              "outlinewidth": 0,
              "ticks": ""
             }
            },
            "type": "scattermapbox"
           }
          ],
          "scatterpolar": [
           {
            "marker": {
             "colorbar": {
              "outlinewidth": 0,
              "ticks": ""
             }
            },
            "type": "scatterpolar"
           }
          ],
          "scatterpolargl": [
           {
            "marker": {
             "colorbar": {
              "outlinewidth": 0,
              "ticks": ""
             }
            },
            "type": "scatterpolargl"
           }
          ],
          "scatterternary": [
           {
            "marker": {
             "colorbar": {
              "outlinewidth": 0,
              "ticks": ""
             }
            },
            "type": "scatterternary"
           }
          ],
          "surface": [
           {
            "colorbar": {
             "outlinewidth": 0,
             "ticks": ""
            },
            "colorscale": [
             [
              0,
              "#0d0887"
             ],
             [
              0.1111111111111111,
              "#46039f"
             ],
             [
              0.2222222222222222,
              "#7201a8"
             ],
             [
              0.3333333333333333,
              "#9c179e"
             ],
             [
              0.4444444444444444,
              "#bd3786"
             ],
             [
              0.5555555555555556,
              "#d8576b"
             ],
             [
              0.6666666666666666,
              "#ed7953"
             ],
             [
              0.7777777777777778,
              "#fb9f3a"
             ],
             [
              0.8888888888888888,
              "#fdca26"
             ],
             [
              1,
              "#f0f921"
             ]
            ],
            "type": "surface"
           }
          ],
          "table": [
           {
            "cells": {
             "fill": {
              "color": "#EBF0F8"
             },
             "line": {
              "color": "white"
             }
            },
            "header": {
             "fill": {
              "color": "#C8D4E3"
             },
             "line": {
              "color": "white"
             }
            },
            "type": "table"
           }
          ]
         },
         "layout": {
          "annotationdefaults": {
           "arrowcolor": "#2a3f5f",
           "arrowhead": 0,
           "arrowwidth": 1
          },
          "autotypenumbers": "strict",
          "coloraxis": {
           "colorbar": {
            "outlinewidth": 0,
            "ticks": ""
           }
          },
          "colorscale": {
           "diverging": [
            [
             0,
             "#8e0152"
            ],
            [
             0.1,
             "#c51b7d"
            ],
            [
             0.2,
             "#de77ae"
            ],
            [
             0.3,
             "#f1b6da"
            ],
            [
             0.4,
             "#fde0ef"
            ],
            [
             0.5,
             "#f7f7f7"
            ],
            [
             0.6,
             "#e6f5d0"
            ],
            [
             0.7,
             "#b8e186"
            ],
            [
             0.8,
             "#7fbc41"
            ],
            [
             0.9,
             "#4d9221"
            ],
            [
             1,
             "#276419"
            ]
           ],
           "sequential": [
            [
             0,
             "#0d0887"
            ],
            [
             0.1111111111111111,
             "#46039f"
            ],
            [
             0.2222222222222222,
             "#7201a8"
            ],
            [
             0.3333333333333333,
             "#9c179e"
            ],
            [
             0.4444444444444444,
             "#bd3786"
            ],
            [
             0.5555555555555556,
             "#d8576b"
            ],
            [
             0.6666666666666666,
             "#ed7953"
            ],
            [
             0.7777777777777778,
             "#fb9f3a"
            ],
            [
             0.8888888888888888,
             "#fdca26"
            ],
            [
             1,
             "#f0f921"
            ]
           ],
           "sequentialminus": [
            [
             0,
             "#0d0887"
            ],
            [
             0.1111111111111111,
             "#46039f"
            ],
            [
             0.2222222222222222,
             "#7201a8"
            ],
            [
             0.3333333333333333,
             "#9c179e"
            ],
            [
             0.4444444444444444,
             "#bd3786"
            ],
            [
             0.5555555555555556,
             "#d8576b"
            ],
            [
             0.6666666666666666,
             "#ed7953"
            ],
            [
             0.7777777777777778,
             "#fb9f3a"
            ],
            [
             0.8888888888888888,
             "#fdca26"
            ],
            [
             1,
             "#f0f921"
            ]
           ]
          },
          "colorway": [
           "#636efa",
           "#EF553B",
           "#00cc96",
           "#ab63fa",
           "#FFA15A",
           "#19d3f3",
           "#FF6692",
           "#B6E880",
           "#FF97FF",
           "#FECB52"
          ],
          "font": {
           "color": "#2a3f5f"
          },
          "geo": {
           "bgcolor": "white",
           "lakecolor": "white",
           "landcolor": "#E5ECF6",
           "showlakes": true,
           "showland": true,
           "subunitcolor": "white"
          },
          "hoverlabel": {
           "align": "left"
          },
          "hovermode": "closest",
          "mapbox": {
           "style": "light"
          },
          "paper_bgcolor": "white",
          "plot_bgcolor": "#E5ECF6",
          "polar": {
           "angularaxis": {
            "gridcolor": "white",
            "linecolor": "white",
            "ticks": ""
           },
           "bgcolor": "#E5ECF6",
           "radialaxis": {
            "gridcolor": "white",
            "linecolor": "white",
            "ticks": ""
           }
          },
          "scene": {
           "xaxis": {
            "backgroundcolor": "#E5ECF6",
            "gridcolor": "white",
            "gridwidth": 2,
            "linecolor": "white",
            "showbackground": true,
            "ticks": "",
            "zerolinecolor": "white"
           },
           "yaxis": {
            "backgroundcolor": "#E5ECF6",
            "gridcolor": "white",
            "gridwidth": 2,
            "linecolor": "white",
            "showbackground": true,
            "ticks": "",
            "zerolinecolor": "white"
           },
           "zaxis": {
            "backgroundcolor": "#E5ECF6",
            "gridcolor": "white",
            "gridwidth": 2,
            "linecolor": "white",
            "showbackground": true,
            "ticks": "",
            "zerolinecolor": "white"
           }
          },
          "shapedefaults": {
           "line": {
            "color": "#2a3f5f"
           }
          },
          "ternary": {
           "aaxis": {
            "gridcolor": "white",
            "linecolor": "white",
            "ticks": ""
           },
           "baxis": {
            "gridcolor": "white",
            "linecolor": "white",
            "ticks": ""
           },
           "bgcolor": "#E5ECF6",
           "caxis": {
            "gridcolor": "white",
            "linecolor": "white",
            "ticks": ""
           }
          },
          "title": {
           "x": 0.05
          },
          "xaxis": {
           "automargin": true,
           "gridcolor": "white",
           "linecolor": "white",
           "ticks": "",
           "title": {
            "standoff": 15
           },
           "zerolinecolor": "white",
           "zerolinewidth": 2
          },
          "yaxis": {
           "automargin": true,
           "gridcolor": "white",
           "linecolor": "white",
           "ticks": "",
           "title": {
            "standoff": 15
           },
           "zerolinecolor": "white",
           "zerolinewidth": 2
          }
         }
        }
       }
      }
     },
     "metadata": {},
     "output_type": "display_data"
    }
   ],
   "source": [
    "# Birth rate\n",
    "fig = go.Figure()\n",
    "\n",
    "fig.add_trace(\n",
    "        go.Scatter(\n",
    "            y=[theta(t) for t in np.arange(0, 365)],\n",
    "            x=np.arange(0, 365),\n",
    "            mode='lines',\n",
    "            name='Birth rate'\n",
    "        ))\n",
    "\n",
    "fig.show()"
   ]
  },
  {
   "cell_type": "markdown",
   "metadata": {},
   "source": [
    "### Plot output of Gillespie for the different compartments"
   ]
  },
  {
   "cell_type": "code",
   "execution_count": 6,
   "metadata": {},
   "outputs": [
    {
     "data": {
      "application/vnd.plotly.v1+json": {
       "config": {
        "plotlyServerURL": "https://plot.ly"
       },
       "data": [
        {
         "line": {
          "color": "blue"
         },
         "mode": "lines",
         "name": "S",
         "type": "scatter",
         "x": [
          1,
          2,
          3,
          4,
          5,
          6,
          7,
          8,
          9,
          10,
          11,
          12,
          13,
          14,
          15,
          16,
          17,
          18,
          19,
          20,
          21,
          22,
          23,
          24,
          25,
          26,
          27,
          28,
          29,
          30,
          31,
          32,
          33,
          34,
          35,
          36,
          37,
          38,
          39,
          40,
          41,
          42,
          43,
          44,
          45,
          46,
          47,
          48,
          49,
          50,
          51,
          52,
          53,
          54,
          55,
          56,
          57,
          58,
          59,
          60,
          61,
          62,
          63,
          64,
          65,
          66,
          67,
          68,
          69,
          70,
          71,
          72,
          73,
          74,
          75,
          76,
          77,
          78,
          79,
          80,
          81,
          82,
          83,
          84,
          85,
          86,
          87,
          88,
          89,
          90,
          91,
          92,
          93,
          94,
          95,
          96,
          97,
          98,
          99,
          100,
          101,
          102,
          103,
          104,
          105,
          106,
          107,
          108,
          109,
          110,
          111,
          112,
          113,
          114,
          115,
          116,
          117,
          118,
          119,
          120,
          121,
          122,
          123,
          124,
          125,
          126,
          127,
          128,
          129,
          130,
          131,
          132,
          133,
          134,
          135,
          136,
          137,
          138,
          139,
          140,
          141,
          142,
          143,
          144,
          145,
          146,
          147,
          148,
          149,
          150,
          151,
          152,
          153,
          154,
          155,
          156,
          157,
          158,
          159,
          160,
          161,
          162,
          163,
          164,
          165,
          166,
          167,
          168,
          169,
          170,
          171,
          172,
          173,
          174,
          175,
          176,
          177,
          178,
          179,
          180,
          181,
          182,
          183,
          184,
          185,
          186,
          187,
          188,
          189,
          190,
          191,
          192,
          193,
          194,
          195,
          196,
          197,
          198,
          199,
          200,
          201,
          202,
          203,
          204,
          205,
          206,
          207,
          208,
          209,
          210,
          211,
          212,
          213,
          214,
          215,
          216,
          217,
          218,
          219,
          220,
          221,
          222,
          223,
          224,
          225,
          226,
          227,
          228,
          229,
          230,
          231,
          232,
          233,
          234,
          235,
          236,
          237,
          238,
          239,
          240,
          241,
          242,
          243,
          244,
          245,
          246,
          247,
          248,
          249,
          250,
          251,
          252,
          253,
          254,
          255,
          256,
          257,
          258,
          259,
          260,
          261,
          262,
          263,
          264,
          265,
          266,
          267,
          268,
          269,
          270,
          271,
          272,
          273,
          274,
          275,
          276,
          277,
          278,
          279,
          280,
          281,
          282,
          283,
          284,
          285,
          286,
          287,
          288,
          289,
          290,
          291,
          292,
          293,
          294,
          295,
          296,
          297,
          298,
          299,
          300,
          301,
          302,
          303,
          304,
          305,
          306,
          307,
          308,
          309,
          310,
          311,
          312,
          313,
          314,
          315,
          316,
          317,
          318,
          319,
          320,
          321,
          322,
          323,
          324,
          325,
          326,
          327,
          328,
          329,
          330,
          331,
          332,
          333,
          334,
          335,
          336,
          337,
          338,
          339,
          340,
          341,
          342,
          343,
          344,
          345,
          346,
          347,
          348,
          349,
          350,
          351,
          352,
          353,
          354,
          355,
          356,
          357,
          358,
          359,
          360
         ],
         "xaxis": "x",
         "y": [
          380,
          379,
          378,
          378,
          377,
          376,
          376,
          376,
          376,
          376,
          374,
          373,
          370,
          370,
          368,
          368,
          367,
          366,
          366,
          366,
          365,
          365,
          365,
          364,
          364,
          364,
          363,
          363,
          363,
          363,
          362,
          361,
          361,
          358,
          357,
          357,
          357,
          357,
          356,
          356,
          355,
          355,
          355,
          355,
          354,
          354,
          354,
          354,
          352,
          351,
          351,
          351,
          350,
          349,
          347,
          346,
          346,
          346,
          345,
          345,
          345,
          345,
          345,
          345,
          345,
          344,
          344,
          344,
          344,
          344,
          343,
          342,
          341,
          340,
          340,
          340,
          340,
          339,
          338,
          337,
          337,
          337,
          337,
          336,
          336,
          336,
          335,
          335,
          334,
          334,
          334,
          334,
          333,
          333,
          333,
          333,
          332,
          331,
          331,
          330,
          330,
          330,
          330,
          331,
          330,
          331,
          329,
          328,
          329,
          329,
          329,
          329,
          328,
          328,
          328,
          328,
          328,
          328,
          328,
          326,
          326,
          325,
          324,
          324,
          324,
          324,
          323,
          322,
          322,
          322,
          321,
          321,
          321,
          321,
          321,
          320,
          320,
          319,
          318,
          318,
          318,
          317,
          317,
          316,
          316,
          316,
          314,
          314,
          314,
          314,
          312,
          312,
          311,
          311,
          311,
          311,
          310,
          309,
          309,
          308,
          308,
          307,
          306,
          305,
          305,
          304,
          303,
          303,
          302,
          302,
          302,
          301,
          301,
          302,
          301,
          301,
          301,
          301,
          300,
          300,
          300,
          299,
          299,
          299,
          297,
          296,
          295,
          294,
          294,
          293,
          293,
          293,
          293,
          292,
          292,
          290,
          290,
          290,
          288,
          288,
          288,
          288,
          287,
          286,
          286,
          285,
          284,
          284,
          282,
          282,
          282,
          281,
          281,
          281,
          281,
          281,
          281,
          280,
          280,
          280,
          280,
          279,
          279,
          279,
          278,
          278,
          278,
          278,
          278,
          278,
          278,
          278,
          278,
          278,
          278,
          277,
          276,
          276,
          276,
          275,
          276,
          276,
          276,
          278,
          278,
          279,
          279,
          279,
          278,
          282,
          282,
          282,
          282,
          282,
          282,
          280,
          280,
          280,
          281,
          281,
          281,
          280,
          280,
          279,
          278,
          278,
          278,
          277,
          277,
          277,
          277,
          277,
          276,
          275,
          273,
          273,
          273,
          274,
          274,
          273,
          273,
          273,
          273,
          272,
          271,
          271,
          270,
          270,
          270,
          269,
          269,
          269,
          268,
          269,
          269,
          269,
          269,
          268,
          269,
          269,
          269,
          267,
          267,
          267,
          267,
          267,
          267,
          266,
          266,
          264,
          264,
          264,
          264,
          264,
          264,
          262,
          263,
          263,
          264,
          264,
          265,
          265,
          264,
          264,
          263,
          262,
          262,
          262,
          262,
          262,
          262,
          262,
          261,
          261,
          260,
          260,
          260,
          260,
          259,
          259,
          259,
          258,
          258,
          257,
          257,
          258,
          257,
          256,
          253,
          254,
          253,
          253,
          253,
          253,
          253,
          253,
          253,
          253,
          252,
          252
         ],
         "yaxis": "y"
        },
        {
         "line": {
          "color": "red"
         },
         "mode": "lines",
         "name": "I",
         "type": "scatter",
         "x": [
          1,
          2,
          3,
          4,
          5,
          6,
          7,
          8,
          9,
          10,
          11,
          12,
          13,
          14,
          15,
          16,
          17,
          18,
          19,
          20,
          21,
          22,
          23,
          24,
          25,
          26,
          27,
          28,
          29,
          30,
          31,
          32,
          33,
          34,
          35,
          36,
          37,
          38,
          39,
          40,
          41,
          42,
          43,
          44,
          45,
          46,
          47,
          48,
          49,
          50,
          51,
          52,
          53,
          54,
          55,
          56,
          57,
          58,
          59,
          60,
          61,
          62,
          63,
          64,
          65,
          66,
          67,
          68,
          69,
          70,
          71,
          72,
          73,
          74,
          75,
          76,
          77,
          78,
          79,
          80,
          81,
          82,
          83,
          84,
          85,
          86,
          87,
          88,
          89,
          90,
          91,
          92,
          93,
          94,
          95,
          96,
          97,
          98,
          99,
          100,
          101,
          102,
          103,
          104,
          105,
          106,
          107,
          108,
          109,
          110,
          111,
          112,
          113,
          114,
          115,
          116,
          117,
          118,
          119,
          120,
          121,
          122,
          123,
          124,
          125,
          126,
          127,
          128,
          129,
          130,
          131,
          132,
          133,
          134,
          135,
          136,
          137,
          138,
          139,
          140,
          141,
          142,
          143,
          144,
          145,
          146,
          147,
          148,
          149,
          150,
          151,
          152,
          153,
          154,
          155,
          156,
          157,
          158,
          159,
          160,
          161,
          162,
          163,
          164,
          165,
          166,
          167,
          168,
          169,
          170,
          171,
          172,
          173,
          174,
          175,
          176,
          177,
          178,
          179,
          180,
          181,
          182,
          183,
          184,
          185,
          186,
          187,
          188,
          189,
          190,
          191,
          192,
          193,
          194,
          195,
          196,
          197,
          198,
          199,
          200,
          201,
          202,
          203,
          204,
          205,
          206,
          207,
          208,
          209,
          210,
          211,
          212,
          213,
          214,
          215,
          216,
          217,
          218,
          219,
          220,
          221,
          222,
          223,
          224,
          225,
          226,
          227,
          228,
          229,
          230,
          231,
          232,
          233,
          234,
          235,
          236,
          237,
          238,
          239,
          240,
          241,
          242,
          243,
          244,
          245,
          246,
          247,
          248,
          249,
          250,
          251,
          252,
          253,
          254,
          255,
          256,
          257,
          258,
          259,
          260,
          261,
          262,
          263,
          264,
          265,
          266,
          267,
          268,
          269,
          270,
          271,
          272,
          273,
          274,
          275,
          276,
          277,
          278,
          279,
          280,
          281,
          282,
          283,
          284,
          285,
          286,
          287,
          288,
          289,
          290,
          291,
          292,
          293,
          294,
          295,
          296,
          297,
          298,
          299,
          300,
          301,
          302,
          303,
          304,
          305,
          306,
          307,
          308,
          309,
          310,
          311,
          312,
          313,
          314,
          315,
          316,
          317,
          318,
          319,
          320,
          321,
          322,
          323,
          324,
          325,
          326,
          327,
          328,
          329,
          330,
          331,
          332,
          333,
          334,
          335,
          336,
          337,
          338,
          339,
          340,
          341,
          342,
          343,
          344,
          345,
          346,
          347,
          348,
          349,
          350,
          351,
          352,
          353,
          354,
          355,
          356,
          357,
          358,
          359,
          360
         ],
         "xaxis": "x2",
         "y": [
          20,
          20,
          20,
          20,
          21,
          21,
          20,
          20,
          20,
          19,
          21,
          21,
          22,
          22,
          22,
          22,
          21,
          22,
          22,
          21,
          22,
          22,
          22,
          23,
          22,
          22,
          23,
          23,
          23,
          23,
          24,
          24,
          23,
          25,
          26,
          25,
          25,
          24,
          24,
          24,
          25,
          25,
          25,
          25,
          26,
          26,
          26,
          26,
          27,
          27,
          26,
          26,
          27,
          28,
          29,
          30,
          30,
          30,
          31,
          31,
          31,
          30,
          30,
          29,
          29,
          30,
          29,
          29,
          29,
          29,
          30,
          30,
          30,
          29,
          28,
          27,
          27,
          28,
          29,
          30,
          30,
          29,
          29,
          29,
          29,
          29,
          30,
          30,
          31,
          30,
          30,
          30,
          31,
          31,
          31,
          30,
          30,
          31,
          31,
          32,
          31,
          30,
          29,
          28,
          28,
          27,
          28,
          28,
          28,
          28,
          28,
          26,
          27,
          26,
          25,
          25,
          25,
          24,
          24,
          24,
          24,
          24,
          25,
          25,
          25,
          25,
          26,
          27,
          26,
          26,
          27,
          27,
          27,
          27,
          24,
          25,
          25,
          26,
          27,
          27,
          27,
          28,
          28,
          29,
          28,
          28,
          30,
          30,
          29,
          28,
          29,
          28,
          29,
          28,
          28,
          27,
          28,
          29,
          28,
          28,
          28,
          29,
          29,
          29,
          29,
          30,
          29,
          29,
          28,
          28,
          28,
          29,
          29,
          29,
          29,
          29,
          28,
          28,
          29,
          28,
          28,
          29,
          29,
          29,
          30,
          31,
          32,
          32,
          32,
          31,
          31,
          31,
          30,
          31,
          30,
          32,
          32,
          32,
          34,
          34,
          34,
          34,
          34,
          35,
          34,
          35,
          36,
          36,
          38,
          38,
          37,
          37,
          36,
          36,
          36,
          35,
          35,
          35,
          35,
          35,
          34,
          35,
          34,
          32,
          33,
          33,
          33,
          33,
          33,
          31,
          30,
          30,
          27,
          27,
          27,
          28,
          28,
          28,
          28,
          29,
          28,
          28,
          28,
          27,
          27,
          27,
          27,
          26,
          26,
          26,
          25,
          25,
          25,
          25,
          25,
          26,
          25,
          25,
          25,
          25,
          24,
          24,
          22,
          22,
          22,
          22,
          22,
          21,
          21,
          21,
          20,
          20,
          20,
          21,
          22,
          22,
          22,
          22,
          21,
          22,
          22,
          21,
          21,
          22,
          21,
          21,
          22,
          22,
          22,
          23,
          23,
          22,
          23,
          23,
          23,
          23,
          23,
          23,
          22,
          22,
          23,
          25,
          25,
          25,
          25,
          25,
          25,
          26,
          25,
          26,
          26,
          26,
          25,
          25,
          25,
          27,
          27,
          26,
          26,
          26,
          25,
          25,
          25,
          25,
          25,
          25,
          24,
          24,
          22,
          22,
          22,
          22,
          23,
          23,
          24,
          24,
          23,
          23,
          24,
          24,
          24,
          25,
          24,
          24,
          24,
          24,
          24,
          25,
          26,
          26,
          26,
          25,
          24,
          23,
          23,
          23,
          23,
          22,
          23,
          23
         ],
         "yaxis": "y2"
        },
        {
         "line": {
          "color": "green"
         },
         "mode": "lines",
         "name": "R",
         "type": "scatter",
         "x": [
          1,
          2,
          3,
          4,
          5,
          6,
          7,
          8,
          9,
          10,
          11,
          12,
          13,
          14,
          15,
          16,
          17,
          18,
          19,
          20,
          21,
          22,
          23,
          24,
          25,
          26,
          27,
          28,
          29,
          30,
          31,
          32,
          33,
          34,
          35,
          36,
          37,
          38,
          39,
          40,
          41,
          42,
          43,
          44,
          45,
          46,
          47,
          48,
          49,
          50,
          51,
          52,
          53,
          54,
          55,
          56,
          57,
          58,
          59,
          60,
          61,
          62,
          63,
          64,
          65,
          66,
          67,
          68,
          69,
          70,
          71,
          72,
          73,
          74,
          75,
          76,
          77,
          78,
          79,
          80,
          81,
          82,
          83,
          84,
          85,
          86,
          87,
          88,
          89,
          90,
          91,
          92,
          93,
          94,
          95,
          96,
          97,
          98,
          99,
          100,
          101,
          102,
          103,
          104,
          105,
          106,
          107,
          108,
          109,
          110,
          111,
          112,
          113,
          114,
          115,
          116,
          117,
          118,
          119,
          120,
          121,
          122,
          123,
          124,
          125,
          126,
          127,
          128,
          129,
          130,
          131,
          132,
          133,
          134,
          135,
          136,
          137,
          138,
          139,
          140,
          141,
          142,
          143,
          144,
          145,
          146,
          147,
          148,
          149,
          150,
          151,
          152,
          153,
          154,
          155,
          156,
          157,
          158,
          159,
          160,
          161,
          162,
          163,
          164,
          165,
          166,
          167,
          168,
          169,
          170,
          171,
          172,
          173,
          174,
          175,
          176,
          177,
          178,
          179,
          180,
          181,
          182,
          183,
          184,
          185,
          186,
          187,
          188,
          189,
          190,
          191,
          192,
          193,
          194,
          195,
          196,
          197,
          198,
          199,
          200,
          201,
          202,
          203,
          204,
          205,
          206,
          207,
          208,
          209,
          210,
          211,
          212,
          213,
          214,
          215,
          216,
          217,
          218,
          219,
          220,
          221,
          222,
          223,
          224,
          225,
          226,
          227,
          228,
          229,
          230,
          231,
          232,
          233,
          234,
          235,
          236,
          237,
          238,
          239,
          240,
          241,
          242,
          243,
          244,
          245,
          246,
          247,
          248,
          249,
          250,
          251,
          252,
          253,
          254,
          255,
          256,
          257,
          258,
          259,
          260,
          261,
          262,
          263,
          264,
          265,
          266,
          267,
          268,
          269,
          270,
          271,
          272,
          273,
          274,
          275,
          276,
          277,
          278,
          279,
          280,
          281,
          282,
          283,
          284,
          285,
          286,
          287,
          288,
          289,
          290,
          291,
          292,
          293,
          294,
          295,
          296,
          297,
          298,
          299,
          300,
          301,
          302,
          303,
          304,
          305,
          306,
          307,
          308,
          309,
          310,
          311,
          312,
          313,
          314,
          315,
          316,
          317,
          318,
          319,
          320,
          321,
          322,
          323,
          324,
          325,
          326,
          327,
          328,
          329,
          330,
          331,
          332,
          333,
          334,
          335,
          336,
          337,
          338,
          339,
          340,
          341,
          342,
          343,
          344,
          345,
          346,
          347,
          348,
          349,
          350,
          351,
          352,
          353,
          354,
          355,
          356,
          357,
          358,
          359,
          360
         ],
         "xaxis": "x3",
         "y": [
          0,
          1,
          2,
          2,
          2,
          3,
          4,
          4,
          4,
          5,
          5,
          6,
          6,
          6,
          7,
          7,
          9,
          9,
          9,
          10,
          10,
          10,
          10,
          10,
          11,
          11,
          11,
          11,
          11,
          11,
          11,
          12,
          13,
          14,
          14,
          15,
          15,
          16,
          17,
          17,
          16,
          16,
          16,
          16,
          16,
          16,
          16,
          16,
          17,
          18,
          19,
          19,
          19,
          19,
          20,
          20,
          20,
          20,
          20,
          20,
          20,
          21,
          21,
          22,
          22,
          22,
          23,
          23,
          23,
          23,
          23,
          24,
          24,
          26,
          27,
          28,
          28,
          28,
          28,
          28,
          28,
          29,
          29,
          29,
          29,
          29,
          29,
          29,
          29,
          30,
          30,
          30,
          30,
          30,
          30,
          31,
          32,
          32,
          32,
          32,
          33,
          34,
          35,
          36,
          37,
          38,
          39,
          40,
          40,
          40,
          40,
          42,
          42,
          43,
          44,
          44,
          44,
          44,
          44,
          46,
          46,
          46,
          46,
          46,
          46,
          46,
          47,
          47,
          48,
          48,
          48,
          48,
          48,
          48,
          51,
          51,
          51,
          51,
          51,
          51,
          51,
          51,
          51,
          51,
          52,
          52,
          52,
          52,
          53,
          54,
          55,
          56,
          56,
          57,
          57,
          58,
          58,
          58,
          59,
          60,
          60,
          60,
          61,
          62,
          62,
          62,
          64,
          65,
          67,
          67,
          67,
          67,
          67,
          67,
          68,
          68,
          69,
          69,
          69,
          70,
          70,
          70,
          70,
          70,
          70,
          70,
          70,
          71,
          71,
          73,
          73,
          72,
          73,
          73,
          74,
          74,
          74,
          74,
          74,
          74,
          74,
          74,
          75,
          75,
          76,
          76,
          76,
          76,
          76,
          76,
          77,
          78,
          79,
          79,
          79,
          80,
          80,
          81,
          81,
          81,
          82,
          82,
          83,
          85,
          85,
          85,
          85,
          85,
          85,
          87,
          88,
          88,
          91,
          91,
          91,
          91,
          92,
          92,
          92,
          92,
          93,
          93,
          93,
          94,
          94,
          94,
          94,
          95,
          96,
          96,
          97,
          97,
          97,
          97,
          97,
          98,
          99,
          99,
          99,
          99,
          100,
          101,
          103,
          104,
          105,
          105,
          105,
          107,
          107,
          107,
          108,
          108,
          108,
          108,
          108,
          108,
          108,
          108,
          109,
          109,
          109,
          110,
          110,
          110,
          111,
          111,
          111,
          111,
          111,
          111,
          111,
          112,
          112,
          112,
          112,
          112,
          112,
          113,
          114,
          114,
          114,
          114,
          114,
          114,
          114,
          114,
          114,
          114,
          115,
          116,
          116,
          116,
          117,
          117,
          117,
          117,
          117,
          118,
          117,
          117,
          118,
          118,
          119,
          119,
          120,
          121,
          122,
          122,
          124,
          124,
          124,
          124,
          124,
          124,
          124,
          124,
          125,
          125,
          125,
          125,
          124,
          124,
          125,
          126,
          126,
          126,
          126,
          126,
          127,
          127,
          127,
          128,
          129,
          130,
          130,
          130,
          130,
          131,
          131,
          131
         ],
         "yaxis": "y3"
        },
        {
         "line": {
          "color": "black"
         },
         "mode": "lines",
         "name": "Total Population",
         "type": "scatter",
         "x": [
          1,
          2,
          3,
          4,
          5,
          6,
          7,
          8,
          9,
          10,
          11,
          12,
          13,
          14,
          15,
          16,
          17,
          18,
          19,
          20,
          21,
          22,
          23,
          24,
          25,
          26,
          27,
          28,
          29,
          30,
          31,
          32,
          33,
          34,
          35,
          36,
          37,
          38,
          39,
          40,
          41,
          42,
          43,
          44,
          45,
          46,
          47,
          48,
          49,
          50,
          51,
          52,
          53,
          54,
          55,
          56,
          57,
          58,
          59,
          60,
          61,
          62,
          63,
          64,
          65,
          66,
          67,
          68,
          69,
          70,
          71,
          72,
          73,
          74,
          75,
          76,
          77,
          78,
          79,
          80,
          81,
          82,
          83,
          84,
          85,
          86,
          87,
          88,
          89,
          90,
          91,
          92,
          93,
          94,
          95,
          96,
          97,
          98,
          99,
          100,
          101,
          102,
          103,
          104,
          105,
          106,
          107,
          108,
          109,
          110,
          111,
          112,
          113,
          114,
          115,
          116,
          117,
          118,
          119,
          120,
          121,
          122,
          123,
          124,
          125,
          126,
          127,
          128,
          129,
          130,
          131,
          132,
          133,
          134,
          135,
          136,
          137,
          138,
          139,
          140,
          141,
          142,
          143,
          144,
          145,
          146,
          147,
          148,
          149,
          150,
          151,
          152,
          153,
          154,
          155,
          156,
          157,
          158,
          159,
          160,
          161,
          162,
          163,
          164,
          165,
          166,
          167,
          168,
          169,
          170,
          171,
          172,
          173,
          174,
          175,
          176,
          177,
          178,
          179,
          180,
          181,
          182,
          183,
          184,
          185,
          186,
          187,
          188,
          189,
          190,
          191,
          192,
          193,
          194,
          195,
          196,
          197,
          198,
          199,
          200,
          201,
          202,
          203,
          204,
          205,
          206,
          207,
          208,
          209,
          210,
          211,
          212,
          213,
          214,
          215,
          216,
          217,
          218,
          219,
          220,
          221,
          222,
          223,
          224,
          225,
          226,
          227,
          228,
          229,
          230,
          231,
          232,
          233,
          234,
          235,
          236,
          237,
          238,
          239,
          240,
          241,
          242,
          243,
          244,
          245,
          246,
          247,
          248,
          249,
          250,
          251,
          252,
          253,
          254,
          255,
          256,
          257,
          258,
          259,
          260,
          261,
          262,
          263,
          264,
          265,
          266,
          267,
          268,
          269,
          270,
          271,
          272,
          273,
          274,
          275,
          276,
          277,
          278,
          279,
          280,
          281,
          282,
          283,
          284,
          285,
          286,
          287,
          288,
          289,
          290,
          291,
          292,
          293,
          294,
          295,
          296,
          297,
          298,
          299,
          300,
          301,
          302,
          303,
          304,
          305,
          306,
          307,
          308,
          309,
          310,
          311,
          312,
          313,
          314,
          315,
          316,
          317,
          318,
          319,
          320,
          321,
          322,
          323,
          324,
          325,
          326,
          327,
          328,
          329,
          330,
          331,
          332,
          333,
          334,
          335,
          336,
          337,
          338,
          339,
          340,
          341,
          342,
          343,
          344,
          345,
          346,
          347,
          348,
          349,
          350,
          351,
          352,
          353,
          354,
          355,
          356,
          357,
          358,
          359,
          360
         ],
         "xaxis": "x4",
         "y": [
          400,
          400,
          400,
          400,
          400,
          400,
          400,
          400,
          400,
          400,
          400,
          400,
          398,
          398,
          397,
          397,
          397,
          397,
          397,
          397,
          397,
          397,
          397,
          397,
          397,
          397,
          397,
          397,
          397,
          397,
          397,
          397,
          397,
          397,
          397,
          397,
          397,
          397,
          397,
          397,
          396,
          396,
          396,
          396,
          396,
          396,
          396,
          396,
          396,
          396,
          396,
          396,
          396,
          396,
          396,
          396,
          396,
          396,
          396,
          396,
          396,
          396,
          396,
          396,
          396,
          396,
          396,
          396,
          396,
          396,
          396,
          396,
          395,
          395,
          395,
          395,
          395,
          395,
          395,
          395,
          395,
          395,
          395,
          394,
          394,
          394,
          394,
          394,
          394,
          394,
          394,
          394,
          394,
          394,
          394,
          394,
          394,
          394,
          394,
          394,
          394,
          394,
          394,
          395,
          395,
          396,
          396,
          396,
          397,
          397,
          397,
          397,
          397,
          397,
          397,
          397,
          397,
          396,
          396,
          396,
          396,
          395,
          395,
          395,
          395,
          395,
          396,
          396,
          396,
          396,
          396,
          396,
          396,
          396,
          396,
          396,
          396,
          396,
          396,
          396,
          396,
          396,
          396,
          396,
          396,
          396,
          396,
          396,
          396,
          396,
          396,
          396,
          396,
          396,
          396,
          396,
          396,
          396,
          396,
          396,
          396,
          396,
          396,
          396,
          396,
          396,
          396,
          397,
          397,
          397,
          397,
          397,
          397,
          398,
          398,
          398,
          398,
          398,
          398,
          398,
          398,
          398,
          398,
          398,
          397,
          397,
          397,
          397,
          397,
          397,
          397,
          396,
          396,
          396,
          396,
          396,
          396,
          396,
          396,
          396,
          396,
          396,
          396,
          396,
          396,
          396,
          396,
          396,
          396,
          396,
          396,
          396,
          396,
          396,
          396,
          396,
          396,
          396,
          396,
          396,
          396,
          396,
          396,
          396,
          396,
          396,
          396,
          396,
          396,
          396,
          396,
          396,
          396,
          396,
          396,
          396,
          396,
          396,
          396,
          396,
          397,
          397,
          397,
          399,
          399,
          400,
          400,
          400,
          400,
          404,
          404,
          404,
          404,
          404,
          404,
          404,
          404,
          404,
          405,
          405,
          405,
          405,
          405,
          405,
          405,
          405,
          405,
          405,
          405,
          405,
          405,
          405,
          404,
          404,
          403,
          403,
          403,
          404,
          404,
          404,
          404,
          404,
          404,
          404,
          403,
          403,
          403,
          403,
          403,
          403,
          403,
          403,
          403,
          404,
          404,
          404,
          404,
          404,
          405,
          405,
          406,
          406,
          406,
          406,
          406,
          406,
          406,
          406,
          406,
          406,
          406,
          406,
          406,
          406,
          406,
          406,
          407,
          407,
          407,
          407,
          408,
          408,
          408,
          408,
          408,
          408,
          408,
          408,
          408,
          408,
          408,
          408,
          408,
          408,
          408,
          408,
          408,
          408,
          408,
          408,
          407,
          407,
          407,
          407,
          407,
          408,
          407,
          407,
          406,
          407,
          406,
          406,
          406,
          406,
          406,
          406,
          406,
          406,
          406,
          406
         ],
         "yaxis": "y4"
        }
       ],
       "layout": {
        "annotations": [
         {
          "font": {
           "size": 16
          },
          "showarrow": false,
          "text": "S only",
          "x": 0.225,
          "xanchor": "center",
          "xref": "paper",
          "y": 1,
          "yanchor": "bottom",
          "yref": "paper"
         },
         {
          "font": {
           "size": 16
          },
          "showarrow": false,
          "text": "I only",
          "x": 0.775,
          "xanchor": "center",
          "xref": "paper",
          "y": 1,
          "yanchor": "bottom",
          "yref": "paper"
         },
         {
          "font": {
           "size": 16
          },
          "showarrow": false,
          "text": "R only",
          "x": 0.225,
          "xanchor": "center",
          "xref": "paper",
          "y": 0.375,
          "yanchor": "bottom",
          "yref": "paper"
         },
         {
          "font": {
           "size": 16
          },
          "showarrow": false,
          "text": "Total Population",
          "x": 0.775,
          "xanchor": "center",
          "xref": "paper",
          "y": 0.375,
          "yanchor": "bottom",
          "yref": "paper"
         }
        ],
        "height": 600,
        "plot_bgcolor": "white",
        "template": {
         "data": {
          "bar": [
           {
            "error_x": {
             "color": "#2a3f5f"
            },
            "error_y": {
             "color": "#2a3f5f"
            },
            "marker": {
             "line": {
              "color": "#E5ECF6",
              "width": 0.5
             },
             "pattern": {
              "fillmode": "overlay",
              "size": 10,
              "solidity": 0.2
             }
            },
            "type": "bar"
           }
          ],
          "barpolar": [
           {
            "marker": {
             "line": {
              "color": "#E5ECF6",
              "width": 0.5
             },
             "pattern": {
              "fillmode": "overlay",
              "size": 10,
              "solidity": 0.2
             }
            },
            "type": "barpolar"
           }
          ],
          "carpet": [
           {
            "aaxis": {
             "endlinecolor": "#2a3f5f",
             "gridcolor": "white",
             "linecolor": "white",
             "minorgridcolor": "white",
             "startlinecolor": "#2a3f5f"
            },
            "baxis": {
             "endlinecolor": "#2a3f5f",
             "gridcolor": "white",
             "linecolor": "white",
             "minorgridcolor": "white",
             "startlinecolor": "#2a3f5f"
            },
            "type": "carpet"
           }
          ],
          "choropleth": [
           {
            "colorbar": {
             "outlinewidth": 0,
             "ticks": ""
            },
            "type": "choropleth"
           }
          ],
          "contour": [
           {
            "colorbar": {
             "outlinewidth": 0,
             "ticks": ""
            },
            "colorscale": [
             [
              0,
              "#0d0887"
             ],
             [
              0.1111111111111111,
              "#46039f"
             ],
             [
              0.2222222222222222,
              "#7201a8"
             ],
             [
              0.3333333333333333,
              "#9c179e"
             ],
             [
              0.4444444444444444,
              "#bd3786"
             ],
             [
              0.5555555555555556,
              "#d8576b"
             ],
             [
              0.6666666666666666,
              "#ed7953"
             ],
             [
              0.7777777777777778,
              "#fb9f3a"
             ],
             [
              0.8888888888888888,
              "#fdca26"
             ],
             [
              1,
              "#f0f921"
             ]
            ],
            "type": "contour"
           }
          ],
          "contourcarpet": [
           {
            "colorbar": {
             "outlinewidth": 0,
             "ticks": ""
            },
            "type": "contourcarpet"
           }
          ],
          "heatmap": [
           {
            "colorbar": {
             "outlinewidth": 0,
             "ticks": ""
            },
            "colorscale": [
             [
              0,
              "#0d0887"
             ],
             [
              0.1111111111111111,
              "#46039f"
             ],
             [
              0.2222222222222222,
              "#7201a8"
             ],
             [
              0.3333333333333333,
              "#9c179e"
             ],
             [
              0.4444444444444444,
              "#bd3786"
             ],
             [
              0.5555555555555556,
              "#d8576b"
             ],
             [
              0.6666666666666666,
              "#ed7953"
             ],
             [
              0.7777777777777778,
              "#fb9f3a"
             ],
             [
              0.8888888888888888,
              "#fdca26"
             ],
             [
              1,
              "#f0f921"
             ]
            ],
            "type": "heatmap"
           }
          ],
          "histogram": [
           {
            "marker": {
             "pattern": {
              "fillmode": "overlay",
              "size": 10,
              "solidity": 0.2
             }
            },
            "type": "histogram"
           }
          ],
          "histogram2d": [
           {
            "colorbar": {
             "outlinewidth": 0,
             "ticks": ""
            },
            "colorscale": [
             [
              0,
              "#0d0887"
             ],
             [
              0.1111111111111111,
              "#46039f"
             ],
             [
              0.2222222222222222,
              "#7201a8"
             ],
             [
              0.3333333333333333,
              "#9c179e"
             ],
             [
              0.4444444444444444,
              "#bd3786"
             ],
             [
              0.5555555555555556,
              "#d8576b"
             ],
             [
              0.6666666666666666,
              "#ed7953"
             ],
             [
              0.7777777777777778,
              "#fb9f3a"
             ],
             [
              0.8888888888888888,
              "#fdca26"
             ],
             [
              1,
              "#f0f921"
             ]
            ],
            "type": "histogram2d"
           }
          ],
          "histogram2dcontour": [
           {
            "colorbar": {
             "outlinewidth": 0,
             "ticks": ""
            },
            "colorscale": [
             [
              0,
              "#0d0887"
             ],
             [
              0.1111111111111111,
              "#46039f"
             ],
             [
              0.2222222222222222,
              "#7201a8"
             ],
             [
              0.3333333333333333,
              "#9c179e"
             ],
             [
              0.4444444444444444,
              "#bd3786"
             ],
             [
              0.5555555555555556,
              "#d8576b"
             ],
             [
              0.6666666666666666,
              "#ed7953"
             ],
             [
              0.7777777777777778,
              "#fb9f3a"
             ],
             [
              0.8888888888888888,
              "#fdca26"
             ],
             [
              1,
              "#f0f921"
             ]
            ],
            "type": "histogram2dcontour"
           }
          ],
          "mesh3d": [
           {
            "colorbar": {
             "outlinewidth": 0,
             "ticks": ""
            },
            "type": "mesh3d"
           }
          ],
          "parcoords": [
           {
            "line": {
             "colorbar": {
              "outlinewidth": 0,
              "ticks": ""
             }
            },
            "type": "parcoords"
           }
          ],
          "pie": [
           {
            "automargin": true,
            "type": "pie"
           }
          ],
          "scatter": [
           {
            "fillpattern": {
             "fillmode": "overlay",
             "size": 10,
             "solidity": 0.2
            },
            "type": "scatter"
           }
          ],
          "scatter3d": [
           {
            "line": {
             "colorbar": {
              "outlinewidth": 0,
              "ticks": ""
             }
            },
            "marker": {
             "colorbar": {
              "outlinewidth": 0,
              "ticks": ""
             }
            },
            "type": "scatter3d"
           }
          ],
          "scattercarpet": [
           {
            "marker": {
             "colorbar": {
              "outlinewidth": 0,
              "ticks": ""
             }
            },
            "type": "scattercarpet"
           }
          ],
          "scattergeo": [
           {
            "marker": {
             "colorbar": {
              "outlinewidth": 0,
              "ticks": ""
             }
            },
            "type": "scattergeo"
           }
          ],
          "scattergl": [
           {
            "marker": {
             "colorbar": {
              "outlinewidth": 0,
              "ticks": ""
             }
            },
            "type": "scattergl"
           }
          ],
          "scattermap": [
           {
            "marker": {
             "colorbar": {
              "outlinewidth": 0,
              "ticks": ""
             }
            },
            "type": "scattermap"
           }
          ],
          "scattermapbox": [
           {
            "marker": {
             "colorbar": {
              "outlinewidth": 0,
              "ticks": ""
             }
            },
            "type": "scattermapbox"
           }
          ],
          "scatterpolar": [
           {
            "marker": {
             "colorbar": {
              "outlinewidth": 0,
              "ticks": ""
             }
            },
            "type": "scatterpolar"
           }
          ],
          "scatterpolargl": [
           {
            "marker": {
             "colorbar": {
              "outlinewidth": 0,
              "ticks": ""
             }
            },
            "type": "scatterpolargl"
           }
          ],
          "scatterternary": [
           {
            "marker": {
             "colorbar": {
              "outlinewidth": 0,
              "ticks": ""
             }
            },
            "type": "scatterternary"
           }
          ],
          "surface": [
           {
            "colorbar": {
             "outlinewidth": 0,
             "ticks": ""
            },
            "colorscale": [
             [
              0,
              "#0d0887"
             ],
             [
              0.1111111111111111,
              "#46039f"
             ],
             [
              0.2222222222222222,
              "#7201a8"
             ],
             [
              0.3333333333333333,
              "#9c179e"
             ],
             [
              0.4444444444444444,
              "#bd3786"
             ],
             [
              0.5555555555555556,
              "#d8576b"
             ],
             [
              0.6666666666666666,
              "#ed7953"
             ],
             [
              0.7777777777777778,
              "#fb9f3a"
             ],
             [
              0.8888888888888888,
              "#fdca26"
             ],
             [
              1,
              "#f0f921"
             ]
            ],
            "type": "surface"
           }
          ],
          "table": [
           {
            "cells": {
             "fill": {
              "color": "#EBF0F8"
             },
             "line": {
              "color": "white"
             }
            },
            "header": {
             "fill": {
              "color": "#C8D4E3"
             },
             "line": {
              "color": "white"
             }
            },
            "type": "table"
           }
          ]
         },
         "layout": {
          "annotationdefaults": {
           "arrowcolor": "#2a3f5f",
           "arrowhead": 0,
           "arrowwidth": 1
          },
          "autotypenumbers": "strict",
          "coloraxis": {
           "colorbar": {
            "outlinewidth": 0,
            "ticks": ""
           }
          },
          "colorscale": {
           "diverging": [
            [
             0,
             "#8e0152"
            ],
            [
             0.1,
             "#c51b7d"
            ],
            [
             0.2,
             "#de77ae"
            ],
            [
             0.3,
             "#f1b6da"
            ],
            [
             0.4,
             "#fde0ef"
            ],
            [
             0.5,
             "#f7f7f7"
            ],
            [
             0.6,
             "#e6f5d0"
            ],
            [
             0.7,
             "#b8e186"
            ],
            [
             0.8,
             "#7fbc41"
            ],
            [
             0.9,
             "#4d9221"
            ],
            [
             1,
             "#276419"
            ]
           ],
           "sequential": [
            [
             0,
             "#0d0887"
            ],
            [
             0.1111111111111111,
             "#46039f"
            ],
            [
             0.2222222222222222,
             "#7201a8"
            ],
            [
             0.3333333333333333,
             "#9c179e"
            ],
            [
             0.4444444444444444,
             "#bd3786"
            ],
            [
             0.5555555555555556,
             "#d8576b"
            ],
            [
             0.6666666666666666,
             "#ed7953"
            ],
            [
             0.7777777777777778,
             "#fb9f3a"
            ],
            [
             0.8888888888888888,
             "#fdca26"
            ],
            [
             1,
             "#f0f921"
            ]
           ],
           "sequentialminus": [
            [
             0,
             "#0d0887"
            ],
            [
             0.1111111111111111,
             "#46039f"
            ],
            [
             0.2222222222222222,
             "#7201a8"
            ],
            [
             0.3333333333333333,
             "#9c179e"
            ],
            [
             0.4444444444444444,
             "#bd3786"
            ],
            [
             0.5555555555555556,
             "#d8576b"
            ],
            [
             0.6666666666666666,
             "#ed7953"
            ],
            [
             0.7777777777777778,
             "#fb9f3a"
            ],
            [
             0.8888888888888888,
             "#fdca26"
            ],
            [
             1,
             "#f0f921"
            ]
           ]
          },
          "colorway": [
           "#636efa",
           "#EF553B",
           "#00cc96",
           "#ab63fa",
           "#FFA15A",
           "#19d3f3",
           "#FF6692",
           "#B6E880",
           "#FF97FF",
           "#FECB52"
          ],
          "font": {
           "color": "#2a3f5f"
          },
          "geo": {
           "bgcolor": "white",
           "lakecolor": "white",
           "landcolor": "#E5ECF6",
           "showlakes": true,
           "showland": true,
           "subunitcolor": "white"
          },
          "hoverlabel": {
           "align": "left"
          },
          "hovermode": "closest",
          "mapbox": {
           "style": "light"
          },
          "paper_bgcolor": "white",
          "plot_bgcolor": "#E5ECF6",
          "polar": {
           "angularaxis": {
            "gridcolor": "white",
            "linecolor": "white",
            "ticks": ""
           },
           "bgcolor": "#E5ECF6",
           "radialaxis": {
            "gridcolor": "white",
            "linecolor": "white",
            "ticks": ""
           }
          },
          "scene": {
           "xaxis": {
            "backgroundcolor": "#E5ECF6",
            "gridcolor": "white",
            "gridwidth": 2,
            "linecolor": "white",
            "showbackground": true,
            "ticks": "",
            "zerolinecolor": "white"
           },
           "yaxis": {
            "backgroundcolor": "#E5ECF6",
            "gridcolor": "white",
            "gridwidth": 2,
            "linecolor": "white",
            "showbackground": true,
            "ticks": "",
            "zerolinecolor": "white"
           },
           "zaxis": {
            "backgroundcolor": "#E5ECF6",
            "gridcolor": "white",
            "gridwidth": 2,
            "linecolor": "white",
            "showbackground": true,
            "ticks": "",
            "zerolinecolor": "white"
           }
          },
          "shapedefaults": {
           "line": {
            "color": "#2a3f5f"
           }
          },
          "ternary": {
           "aaxis": {
            "gridcolor": "white",
            "linecolor": "white",
            "ticks": ""
           },
           "baxis": {
            "gridcolor": "white",
            "linecolor": "white",
            "ticks": ""
           },
           "bgcolor": "#E5ECF6",
           "caxis": {
            "gridcolor": "white",
            "linecolor": "white",
            "ticks": ""
           }
          },
          "title": {
           "x": 0.05
          },
          "xaxis": {
           "automargin": true,
           "gridcolor": "white",
           "linecolor": "white",
           "ticks": "",
           "title": {
            "standoff": 15
           },
           "zerolinecolor": "white",
           "zerolinewidth": 2
          },
          "yaxis": {
           "automargin": true,
           "gridcolor": "white",
           "linecolor": "white",
           "ticks": "",
           "title": {
            "standoff": 15
           },
           "zerolinecolor": "white",
           "zerolinewidth": 2
          }
         }
        },
        "title": {
         "text": "Counts of compartments over time:<br>IC = [380, 20, 0], θ = <metavirommodel._environment.BirthRatePrec object at 0x12523ee40>, μ = 0.00037, v = 0, β = 0.06, γ = 0.05"
        },
        "width": 1100,
        "xaxis": {
         "anchor": "y",
         "domain": [
          0,
          0.45
         ],
         "linecolor": "black",
         "title": {
          "text": "Time (days)"
         }
        },
        "xaxis2": {
         "anchor": "y2",
         "domain": [
          0.55,
          1
         ],
         "linecolor": "black",
         "title": {
          "text": "Time (days)"
         }
        },
        "xaxis3": {
         "anchor": "y3",
         "domain": [
          0,
          0.45
         ],
         "linecolor": "black",
         "title": {
          "text": "Time (days)"
         }
        },
        "xaxis4": {
         "anchor": "y4",
         "domain": [
          0.55,
          1
         ],
         "linecolor": "black",
         "title": {
          "text": "Time (days)"
         }
        },
        "yaxis": {
         "anchor": "x",
         "domain": [
          0.625,
          1
         ],
         "linecolor": "black",
         "title": {
          "text": "Individuals"
         }
        },
        "yaxis2": {
         "anchor": "x2",
         "domain": [
          0.625,
          1
         ],
         "linecolor": "black",
         "title": {
          "text": "Individuals"
         }
        },
        "yaxis3": {
         "anchor": "x3",
         "domain": [
          0,
          0.375
         ],
         "linecolor": "black",
         "title": {
          "text": "Individuals"
         }
        },
        "yaxis4": {
         "anchor": "x4",
         "domain": [
          0,
          0.375
         ],
         "linecolor": "black",
         "title": {
          "text": "Individuals"
         }
        }
       }
      }
     },
     "metadata": {},
     "output_type": "display_data"
    }
   ],
   "source": [
    "# Trace names - represent the type of individuals for the simulation\n",
    "trace_name = ['{}'.format(s) for s in compartments]\n",
    "\n",
    "# Names of panels\n",
    "panels = ['{} only'.format(s) for s in compartments] + ['Total Population']\n",
    "\n",
    "fig = go.Figure()\n",
    "fig = make_subplots(rows=int(np.ceil(len(panels)/2)), cols=2, subplot_titles=tuple('{}'.format(p) for p in panels))\n",
    "\n",
    "# Add traces to the separate counts panels\n",
    "for s, spec in enumerate(compartments):\n",
    "    fig.add_trace(\n",
    "        go.Scatter(\n",
    "            y=np.mean(output_algorithm[:, :, s], axis=0).tolist(),\n",
    "            x=times,\n",
    "            mode='lines',\n",
    "            name=trace_name[s],\n",
    "            line_color=colours[s]\n",
    "        ),\n",
    "        row= int(np.floor(s / 2)) + 1,\n",
    "        col= s % 2 + 1\n",
    "    )\n",
    "\n",
    "fig.add_trace(\n",
    "    go.Scatter(\n",
    "        y=np.mean(np.sum(output_algorithm, axis=2), axis=0).tolist(),\n",
    "        x=times,\n",
    "        mode='lines',\n",
    "        name='Total Population',\n",
    "        line_color='black'\n",
    "    ),\n",
    "    row= 2,\n",
    "    col= 2\n",
    ")\n",
    "\n",
    "# Add axis labels\n",
    "fig.update_layout(\n",
    "    title='Counts of compartments over time:<br>IC = {}, θ = {}, μ = {}, v = {}, β = {:.2f}, γ = {:.2f}'.format(parameters[0:3], parameters[3], parameters[4], parameters[5], parameters[6], parameters[7]),\n",
    "    width=1100, \n",
    "    height=600,\n",
    "    plot_bgcolor='white',\n",
    "    xaxis=dict(\n",
    "        linecolor='black',\n",
    "        title = 'Time (days)'\n",
    "        ),\n",
    "    yaxis=dict(\n",
    "        linecolor='black',\n",
    "        title = 'Individuals'),\n",
    "    xaxis2=dict(\n",
    "        linecolor='black',\n",
    "        title = 'Time (days)'\n",
    "        ),\n",
    "    yaxis2=dict(\n",
    "        linecolor='black',\n",
    "        title = 'Individuals'),\n",
    "    xaxis3=dict(\n",
    "        linecolor='black',\n",
    "        title = 'Time (days)'\n",
    "        ),\n",
    "    yaxis3=dict(\n",
    "        linecolor='black',\n",
    "        title = 'Individuals'),\n",
    "    xaxis4=dict(\n",
    "        linecolor='black',\n",
    "        title = 'Time (days)'\n",
    "        ),\n",
    "    yaxis4=dict(\n",
    "        linecolor='black',\n",
    "        title = 'Individuals')\n",
    "    #legend=dict(\n",
    "    #    orientation=\"h\",\n",
    "    #    yanchor=\"bottom\",\n",
    "    #    y=1.02,\n",
    "    #    xanchor=\"right\",\n",
    "    #    x=1\n",
    "    #)\n",
    "    )\n",
    "\n",
    "fig.write_image('images/SIR-gillespie-Lassa.pdf')\n",
    "fig.show()"
   ]
  },
  {
   "cell_type": "code",
   "execution_count": 7,
   "metadata": {},
   "outputs": [
    {
     "data": {
      "application/vnd.plotly.v1+json": {
       "config": {
        "plotlyServerURL": "https://plot.ly"
       },
       "data": [
        {
         "line": {
          "color": "blue"
         },
         "mode": "lines",
         "name": "S",
         "showlegend": false,
         "type": "scatter",
         "x": [
          1,
          2,
          3,
          4,
          5,
          6,
          7,
          8,
          9,
          10,
          11,
          12,
          13,
          14,
          15,
          16,
          17,
          18,
          19,
          20,
          21,
          22,
          23,
          24,
          25,
          26,
          27,
          28,
          29,
          30,
          31,
          32,
          33,
          34,
          35,
          36,
          37,
          38,
          39,
          40,
          41,
          42,
          43,
          44,
          45,
          46,
          47,
          48,
          49,
          50,
          51,
          52,
          53,
          54,
          55,
          56,
          57,
          58,
          59,
          60,
          61,
          62,
          63,
          64,
          65,
          66,
          67,
          68,
          69,
          70,
          71,
          72,
          73,
          74,
          75,
          76,
          77,
          78,
          79,
          80,
          81,
          82,
          83,
          84,
          85,
          86,
          87,
          88,
          89,
          90,
          91,
          92,
          93,
          94,
          95,
          96,
          97,
          98,
          99,
          100,
          101,
          102,
          103,
          104,
          105,
          106,
          107,
          108,
          109,
          110,
          111,
          112,
          113,
          114,
          115,
          116,
          117,
          118,
          119,
          120,
          121,
          122,
          123,
          124,
          125,
          126,
          127,
          128,
          129,
          130,
          131,
          132,
          133,
          134,
          135,
          136,
          137,
          138,
          139,
          140,
          141,
          142,
          143,
          144,
          145,
          146,
          147,
          148,
          149,
          150,
          151,
          152,
          153,
          154,
          155,
          156,
          157,
          158,
          159,
          160,
          161,
          162,
          163,
          164,
          165,
          166,
          167,
          168,
          169,
          170,
          171,
          172,
          173,
          174,
          175,
          176,
          177,
          178,
          179,
          180,
          181,
          182,
          183,
          184,
          185,
          186,
          187,
          188,
          189,
          190,
          191,
          192,
          193,
          194,
          195,
          196,
          197,
          198,
          199,
          200,
          201,
          202,
          203,
          204,
          205,
          206,
          207,
          208,
          209,
          210,
          211,
          212,
          213,
          214,
          215,
          216,
          217,
          218,
          219,
          220,
          221,
          222,
          223,
          224,
          225,
          226,
          227,
          228,
          229,
          230,
          231,
          232,
          233,
          234,
          235,
          236,
          237,
          238,
          239,
          240,
          241,
          242,
          243,
          244,
          245,
          246,
          247,
          248,
          249,
          250,
          251,
          252,
          253,
          254,
          255,
          256,
          257,
          258,
          259,
          260,
          261,
          262,
          263,
          264,
          265,
          266,
          267,
          268,
          269,
          270,
          271,
          272,
          273,
          274,
          275,
          276,
          277,
          278,
          279,
          280,
          281,
          282,
          283,
          284,
          285,
          286,
          287,
          288,
          289,
          290,
          291,
          292,
          293,
          294,
          295,
          296,
          297,
          298,
          299,
          300,
          301,
          302,
          303,
          304,
          305,
          306,
          307,
          308,
          309,
          310,
          311,
          312,
          313,
          314,
          315,
          316,
          317,
          318,
          319,
          320,
          321,
          322,
          323,
          324,
          325,
          326,
          327,
          328,
          329,
          330,
          331,
          332,
          333,
          334,
          335,
          336,
          337,
          338,
          339,
          340,
          341,
          342,
          343,
          344,
          345,
          346,
          347,
          348,
          349,
          350,
          351,
          352,
          353,
          354,
          355,
          356,
          357,
          358,
          359,
          360
         ],
         "xaxis": "x",
         "y": [
          380,
          379,
          378,
          378,
          377,
          376,
          376,
          376,
          376,
          376,
          374,
          373,
          370,
          370,
          368,
          368,
          367,
          366,
          366,
          366,
          365,
          365,
          365,
          364,
          364,
          364,
          363,
          363,
          363,
          363,
          362,
          361,
          361,
          358,
          357,
          357,
          357,
          357,
          356,
          356,
          355,
          355,
          355,
          355,
          354,
          354,
          354,
          354,
          352,
          351,
          351,
          351,
          350,
          349,
          347,
          346,
          346,
          346,
          345,
          345,
          345,
          345,
          345,
          345,
          345,
          344,
          344,
          344,
          344,
          344,
          343,
          342,
          341,
          340,
          340,
          340,
          340,
          339,
          338,
          337,
          337,
          337,
          337,
          336,
          336,
          336,
          335,
          335,
          334,
          334,
          334,
          334,
          333,
          333,
          333,
          333,
          332,
          331,
          331,
          330,
          330,
          330,
          330,
          331,
          330,
          331,
          329,
          328,
          329,
          329,
          329,
          329,
          328,
          328,
          328,
          328,
          328,
          328,
          328,
          326,
          326,
          325,
          324,
          324,
          324,
          324,
          323,
          322,
          322,
          322,
          321,
          321,
          321,
          321,
          321,
          320,
          320,
          319,
          318,
          318,
          318,
          317,
          317,
          316,
          316,
          316,
          314,
          314,
          314,
          314,
          312,
          312,
          311,
          311,
          311,
          311,
          310,
          309,
          309,
          308,
          308,
          307,
          306,
          305,
          305,
          304,
          303,
          303,
          302,
          302,
          302,
          301,
          301,
          302,
          301,
          301,
          301,
          301,
          300,
          300,
          300,
          299,
          299,
          299,
          297,
          296,
          295,
          294,
          294,
          293,
          293,
          293,
          293,
          292,
          292,
          290,
          290,
          290,
          288,
          288,
          288,
          288,
          287,
          286,
          286,
          285,
          284,
          284,
          282,
          282,
          282,
          281,
          281,
          281,
          281,
          281,
          281,
          280,
          280,
          280,
          280,
          279,
          279,
          279,
          278,
          278,
          278,
          278,
          278,
          278,
          278,
          278,
          278,
          278,
          278,
          277,
          276,
          276,
          276,
          275,
          276,
          276,
          276,
          278,
          278,
          279,
          279,
          279,
          278,
          282,
          282,
          282,
          282,
          282,
          282,
          280,
          280,
          280,
          281,
          281,
          281,
          280,
          280,
          279,
          278,
          278,
          278,
          277,
          277,
          277,
          277,
          277,
          276,
          275,
          273,
          273,
          273,
          274,
          274,
          273,
          273,
          273,
          273,
          272,
          271,
          271,
          270,
          270,
          270,
          269,
          269,
          269,
          268,
          269,
          269,
          269,
          269,
          268,
          269,
          269,
          269,
          267,
          267,
          267,
          267,
          267,
          267,
          266,
          266,
          264,
          264,
          264,
          264,
          264,
          264,
          262,
          263,
          263,
          264,
          264,
          265,
          265,
          264,
          264,
          263,
          262,
          262,
          262,
          262,
          262,
          262,
          262,
          261,
          261,
          260,
          260,
          260,
          260,
          259,
          259,
          259,
          258,
          258,
          257,
          257,
          258,
          257,
          256,
          253,
          254,
          253,
          253,
          253,
          253,
          253,
          253,
          253,
          253,
          252,
          252
         ],
         "yaxis": "y"
        },
        {
         "line": {
          "color": "red"
         },
         "mode": "lines",
         "name": "I",
         "showlegend": false,
         "type": "scatter",
         "x": [
          1,
          2,
          3,
          4,
          5,
          6,
          7,
          8,
          9,
          10,
          11,
          12,
          13,
          14,
          15,
          16,
          17,
          18,
          19,
          20,
          21,
          22,
          23,
          24,
          25,
          26,
          27,
          28,
          29,
          30,
          31,
          32,
          33,
          34,
          35,
          36,
          37,
          38,
          39,
          40,
          41,
          42,
          43,
          44,
          45,
          46,
          47,
          48,
          49,
          50,
          51,
          52,
          53,
          54,
          55,
          56,
          57,
          58,
          59,
          60,
          61,
          62,
          63,
          64,
          65,
          66,
          67,
          68,
          69,
          70,
          71,
          72,
          73,
          74,
          75,
          76,
          77,
          78,
          79,
          80,
          81,
          82,
          83,
          84,
          85,
          86,
          87,
          88,
          89,
          90,
          91,
          92,
          93,
          94,
          95,
          96,
          97,
          98,
          99,
          100,
          101,
          102,
          103,
          104,
          105,
          106,
          107,
          108,
          109,
          110,
          111,
          112,
          113,
          114,
          115,
          116,
          117,
          118,
          119,
          120,
          121,
          122,
          123,
          124,
          125,
          126,
          127,
          128,
          129,
          130,
          131,
          132,
          133,
          134,
          135,
          136,
          137,
          138,
          139,
          140,
          141,
          142,
          143,
          144,
          145,
          146,
          147,
          148,
          149,
          150,
          151,
          152,
          153,
          154,
          155,
          156,
          157,
          158,
          159,
          160,
          161,
          162,
          163,
          164,
          165,
          166,
          167,
          168,
          169,
          170,
          171,
          172,
          173,
          174,
          175,
          176,
          177,
          178,
          179,
          180,
          181,
          182,
          183,
          184,
          185,
          186,
          187,
          188,
          189,
          190,
          191,
          192,
          193,
          194,
          195,
          196,
          197,
          198,
          199,
          200,
          201,
          202,
          203,
          204,
          205,
          206,
          207,
          208,
          209,
          210,
          211,
          212,
          213,
          214,
          215,
          216,
          217,
          218,
          219,
          220,
          221,
          222,
          223,
          224,
          225,
          226,
          227,
          228,
          229,
          230,
          231,
          232,
          233,
          234,
          235,
          236,
          237,
          238,
          239,
          240,
          241,
          242,
          243,
          244,
          245,
          246,
          247,
          248,
          249,
          250,
          251,
          252,
          253,
          254,
          255,
          256,
          257,
          258,
          259,
          260,
          261,
          262,
          263,
          264,
          265,
          266,
          267,
          268,
          269,
          270,
          271,
          272,
          273,
          274,
          275,
          276,
          277,
          278,
          279,
          280,
          281,
          282,
          283,
          284,
          285,
          286,
          287,
          288,
          289,
          290,
          291,
          292,
          293,
          294,
          295,
          296,
          297,
          298,
          299,
          300,
          301,
          302,
          303,
          304,
          305,
          306,
          307,
          308,
          309,
          310,
          311,
          312,
          313,
          314,
          315,
          316,
          317,
          318,
          319,
          320,
          321,
          322,
          323,
          324,
          325,
          326,
          327,
          328,
          329,
          330,
          331,
          332,
          333,
          334,
          335,
          336,
          337,
          338,
          339,
          340,
          341,
          342,
          343,
          344,
          345,
          346,
          347,
          348,
          349,
          350,
          351,
          352,
          353,
          354,
          355,
          356,
          357,
          358,
          359,
          360
         ],
         "xaxis": "x2",
         "y": [
          20,
          20,
          20,
          20,
          21,
          21,
          20,
          20,
          20,
          19,
          21,
          21,
          22,
          22,
          22,
          22,
          21,
          22,
          22,
          21,
          22,
          22,
          22,
          23,
          22,
          22,
          23,
          23,
          23,
          23,
          24,
          24,
          23,
          25,
          26,
          25,
          25,
          24,
          24,
          24,
          25,
          25,
          25,
          25,
          26,
          26,
          26,
          26,
          27,
          27,
          26,
          26,
          27,
          28,
          29,
          30,
          30,
          30,
          31,
          31,
          31,
          30,
          30,
          29,
          29,
          30,
          29,
          29,
          29,
          29,
          30,
          30,
          30,
          29,
          28,
          27,
          27,
          28,
          29,
          30,
          30,
          29,
          29,
          29,
          29,
          29,
          30,
          30,
          31,
          30,
          30,
          30,
          31,
          31,
          31,
          30,
          30,
          31,
          31,
          32,
          31,
          30,
          29,
          28,
          28,
          27,
          28,
          28,
          28,
          28,
          28,
          26,
          27,
          26,
          25,
          25,
          25,
          24,
          24,
          24,
          24,
          24,
          25,
          25,
          25,
          25,
          26,
          27,
          26,
          26,
          27,
          27,
          27,
          27,
          24,
          25,
          25,
          26,
          27,
          27,
          27,
          28,
          28,
          29,
          28,
          28,
          30,
          30,
          29,
          28,
          29,
          28,
          29,
          28,
          28,
          27,
          28,
          29,
          28,
          28,
          28,
          29,
          29,
          29,
          29,
          30,
          29,
          29,
          28,
          28,
          28,
          29,
          29,
          29,
          29,
          29,
          28,
          28,
          29,
          28,
          28,
          29,
          29,
          29,
          30,
          31,
          32,
          32,
          32,
          31,
          31,
          31,
          30,
          31,
          30,
          32,
          32,
          32,
          34,
          34,
          34,
          34,
          34,
          35,
          34,
          35,
          36,
          36,
          38,
          38,
          37,
          37,
          36,
          36,
          36,
          35,
          35,
          35,
          35,
          35,
          34,
          35,
          34,
          32,
          33,
          33,
          33,
          33,
          33,
          31,
          30,
          30,
          27,
          27,
          27,
          28,
          28,
          28,
          28,
          29,
          28,
          28,
          28,
          27,
          27,
          27,
          27,
          26,
          26,
          26,
          25,
          25,
          25,
          25,
          25,
          26,
          25,
          25,
          25,
          25,
          24,
          24,
          22,
          22,
          22,
          22,
          22,
          21,
          21,
          21,
          20,
          20,
          20,
          21,
          22,
          22,
          22,
          22,
          21,
          22,
          22,
          21,
          21,
          22,
          21,
          21,
          22,
          22,
          22,
          23,
          23,
          22,
          23,
          23,
          23,
          23,
          23,
          23,
          22,
          22,
          23,
          25,
          25,
          25,
          25,
          25,
          25,
          26,
          25,
          26,
          26,
          26,
          25,
          25,
          25,
          27,
          27,
          26,
          26,
          26,
          25,
          25,
          25,
          25,
          25,
          25,
          24,
          24,
          22,
          22,
          22,
          22,
          23,
          23,
          24,
          24,
          23,
          23,
          24,
          24,
          24,
          25,
          24,
          24,
          24,
          24,
          24,
          25,
          26,
          26,
          26,
          25,
          24,
          23,
          23,
          23,
          23,
          22,
          23,
          23
         ],
         "yaxis": "y2"
        },
        {
         "line": {
          "color": "green"
         },
         "mode": "lines",
         "name": "R",
         "showlegend": false,
         "type": "scatter",
         "x": [
          1,
          2,
          3,
          4,
          5,
          6,
          7,
          8,
          9,
          10,
          11,
          12,
          13,
          14,
          15,
          16,
          17,
          18,
          19,
          20,
          21,
          22,
          23,
          24,
          25,
          26,
          27,
          28,
          29,
          30,
          31,
          32,
          33,
          34,
          35,
          36,
          37,
          38,
          39,
          40,
          41,
          42,
          43,
          44,
          45,
          46,
          47,
          48,
          49,
          50,
          51,
          52,
          53,
          54,
          55,
          56,
          57,
          58,
          59,
          60,
          61,
          62,
          63,
          64,
          65,
          66,
          67,
          68,
          69,
          70,
          71,
          72,
          73,
          74,
          75,
          76,
          77,
          78,
          79,
          80,
          81,
          82,
          83,
          84,
          85,
          86,
          87,
          88,
          89,
          90,
          91,
          92,
          93,
          94,
          95,
          96,
          97,
          98,
          99,
          100,
          101,
          102,
          103,
          104,
          105,
          106,
          107,
          108,
          109,
          110,
          111,
          112,
          113,
          114,
          115,
          116,
          117,
          118,
          119,
          120,
          121,
          122,
          123,
          124,
          125,
          126,
          127,
          128,
          129,
          130,
          131,
          132,
          133,
          134,
          135,
          136,
          137,
          138,
          139,
          140,
          141,
          142,
          143,
          144,
          145,
          146,
          147,
          148,
          149,
          150,
          151,
          152,
          153,
          154,
          155,
          156,
          157,
          158,
          159,
          160,
          161,
          162,
          163,
          164,
          165,
          166,
          167,
          168,
          169,
          170,
          171,
          172,
          173,
          174,
          175,
          176,
          177,
          178,
          179,
          180,
          181,
          182,
          183,
          184,
          185,
          186,
          187,
          188,
          189,
          190,
          191,
          192,
          193,
          194,
          195,
          196,
          197,
          198,
          199,
          200,
          201,
          202,
          203,
          204,
          205,
          206,
          207,
          208,
          209,
          210,
          211,
          212,
          213,
          214,
          215,
          216,
          217,
          218,
          219,
          220,
          221,
          222,
          223,
          224,
          225,
          226,
          227,
          228,
          229,
          230,
          231,
          232,
          233,
          234,
          235,
          236,
          237,
          238,
          239,
          240,
          241,
          242,
          243,
          244,
          245,
          246,
          247,
          248,
          249,
          250,
          251,
          252,
          253,
          254,
          255,
          256,
          257,
          258,
          259,
          260,
          261,
          262,
          263,
          264,
          265,
          266,
          267,
          268,
          269,
          270,
          271,
          272,
          273,
          274,
          275,
          276,
          277,
          278,
          279,
          280,
          281,
          282,
          283,
          284,
          285,
          286,
          287,
          288,
          289,
          290,
          291,
          292,
          293,
          294,
          295,
          296,
          297,
          298,
          299,
          300,
          301,
          302,
          303,
          304,
          305,
          306,
          307,
          308,
          309,
          310,
          311,
          312,
          313,
          314,
          315,
          316,
          317,
          318,
          319,
          320,
          321,
          322,
          323,
          324,
          325,
          326,
          327,
          328,
          329,
          330,
          331,
          332,
          333,
          334,
          335,
          336,
          337,
          338,
          339,
          340,
          341,
          342,
          343,
          344,
          345,
          346,
          347,
          348,
          349,
          350,
          351,
          352,
          353,
          354,
          355,
          356,
          357,
          358,
          359,
          360
         ],
         "xaxis": "x3",
         "y": [
          0,
          1,
          2,
          2,
          2,
          3,
          4,
          4,
          4,
          5,
          5,
          6,
          6,
          6,
          7,
          7,
          9,
          9,
          9,
          10,
          10,
          10,
          10,
          10,
          11,
          11,
          11,
          11,
          11,
          11,
          11,
          12,
          13,
          14,
          14,
          15,
          15,
          16,
          17,
          17,
          16,
          16,
          16,
          16,
          16,
          16,
          16,
          16,
          17,
          18,
          19,
          19,
          19,
          19,
          20,
          20,
          20,
          20,
          20,
          20,
          20,
          21,
          21,
          22,
          22,
          22,
          23,
          23,
          23,
          23,
          23,
          24,
          24,
          26,
          27,
          28,
          28,
          28,
          28,
          28,
          28,
          29,
          29,
          29,
          29,
          29,
          29,
          29,
          29,
          30,
          30,
          30,
          30,
          30,
          30,
          31,
          32,
          32,
          32,
          32,
          33,
          34,
          35,
          36,
          37,
          38,
          39,
          40,
          40,
          40,
          40,
          42,
          42,
          43,
          44,
          44,
          44,
          44,
          44,
          46,
          46,
          46,
          46,
          46,
          46,
          46,
          47,
          47,
          48,
          48,
          48,
          48,
          48,
          48,
          51,
          51,
          51,
          51,
          51,
          51,
          51,
          51,
          51,
          51,
          52,
          52,
          52,
          52,
          53,
          54,
          55,
          56,
          56,
          57,
          57,
          58,
          58,
          58,
          59,
          60,
          60,
          60,
          61,
          62,
          62,
          62,
          64,
          65,
          67,
          67,
          67,
          67,
          67,
          67,
          68,
          68,
          69,
          69,
          69,
          70,
          70,
          70,
          70,
          70,
          70,
          70,
          70,
          71,
          71,
          73,
          73,
          72,
          73,
          73,
          74,
          74,
          74,
          74,
          74,
          74,
          74,
          74,
          75,
          75,
          76,
          76,
          76,
          76,
          76,
          76,
          77,
          78,
          79,
          79,
          79,
          80,
          80,
          81,
          81,
          81,
          82,
          82,
          83,
          85,
          85,
          85,
          85,
          85,
          85,
          87,
          88,
          88,
          91,
          91,
          91,
          91,
          92,
          92,
          92,
          92,
          93,
          93,
          93,
          94,
          94,
          94,
          94,
          95,
          96,
          96,
          97,
          97,
          97,
          97,
          97,
          98,
          99,
          99,
          99,
          99,
          100,
          101,
          103,
          104,
          105,
          105,
          105,
          107,
          107,
          107,
          108,
          108,
          108,
          108,
          108,
          108,
          108,
          108,
          109,
          109,
          109,
          110,
          110,
          110,
          111,
          111,
          111,
          111,
          111,
          111,
          111,
          112,
          112,
          112,
          112,
          112,
          112,
          113,
          114,
          114,
          114,
          114,
          114,
          114,
          114,
          114,
          114,
          114,
          115,
          116,
          116,
          116,
          117,
          117,
          117,
          117,
          117,
          118,
          117,
          117,
          118,
          118,
          119,
          119,
          120,
          121,
          122,
          122,
          124,
          124,
          124,
          124,
          124,
          124,
          124,
          124,
          125,
          125,
          125,
          125,
          124,
          124,
          125,
          126,
          126,
          126,
          126,
          126,
          127,
          127,
          127,
          128,
          129,
          130,
          130,
          130,
          130,
          131,
          131,
          131
         ],
         "yaxis": "y3"
        },
        {
         "line": {
          "color": "black"
         },
         "mode": "lines",
         "name": "Total Population",
         "type": "scatter",
         "x": [
          1,
          2,
          3,
          4,
          5,
          6,
          7,
          8,
          9,
          10,
          11,
          12,
          13,
          14,
          15,
          16,
          17,
          18,
          19,
          20,
          21,
          22,
          23,
          24,
          25,
          26,
          27,
          28,
          29,
          30,
          31,
          32,
          33,
          34,
          35,
          36,
          37,
          38,
          39,
          40,
          41,
          42,
          43,
          44,
          45,
          46,
          47,
          48,
          49,
          50,
          51,
          52,
          53,
          54,
          55,
          56,
          57,
          58,
          59,
          60,
          61,
          62,
          63,
          64,
          65,
          66,
          67,
          68,
          69,
          70,
          71,
          72,
          73,
          74,
          75,
          76,
          77,
          78,
          79,
          80,
          81,
          82,
          83,
          84,
          85,
          86,
          87,
          88,
          89,
          90,
          91,
          92,
          93,
          94,
          95,
          96,
          97,
          98,
          99,
          100,
          101,
          102,
          103,
          104,
          105,
          106,
          107,
          108,
          109,
          110,
          111,
          112,
          113,
          114,
          115,
          116,
          117,
          118,
          119,
          120,
          121,
          122,
          123,
          124,
          125,
          126,
          127,
          128,
          129,
          130,
          131,
          132,
          133,
          134,
          135,
          136,
          137,
          138,
          139,
          140,
          141,
          142,
          143,
          144,
          145,
          146,
          147,
          148,
          149,
          150,
          151,
          152,
          153,
          154,
          155,
          156,
          157,
          158,
          159,
          160,
          161,
          162,
          163,
          164,
          165,
          166,
          167,
          168,
          169,
          170,
          171,
          172,
          173,
          174,
          175,
          176,
          177,
          178,
          179,
          180,
          181,
          182,
          183,
          184,
          185,
          186,
          187,
          188,
          189,
          190,
          191,
          192,
          193,
          194,
          195,
          196,
          197,
          198,
          199,
          200,
          201,
          202,
          203,
          204,
          205,
          206,
          207,
          208,
          209,
          210,
          211,
          212,
          213,
          214,
          215,
          216,
          217,
          218,
          219,
          220,
          221,
          222,
          223,
          224,
          225,
          226,
          227,
          228,
          229,
          230,
          231,
          232,
          233,
          234,
          235,
          236,
          237,
          238,
          239,
          240,
          241,
          242,
          243,
          244,
          245,
          246,
          247,
          248,
          249,
          250,
          251,
          252,
          253,
          254,
          255,
          256,
          257,
          258,
          259,
          260,
          261,
          262,
          263,
          264,
          265,
          266,
          267,
          268,
          269,
          270,
          271,
          272,
          273,
          274,
          275,
          276,
          277,
          278,
          279,
          280,
          281,
          282,
          283,
          284,
          285,
          286,
          287,
          288,
          289,
          290,
          291,
          292,
          293,
          294,
          295,
          296,
          297,
          298,
          299,
          300,
          301,
          302,
          303,
          304,
          305,
          306,
          307,
          308,
          309,
          310,
          311,
          312,
          313,
          314,
          315,
          316,
          317,
          318,
          319,
          320,
          321,
          322,
          323,
          324,
          325,
          326,
          327,
          328,
          329,
          330,
          331,
          332,
          333,
          334,
          335,
          336,
          337,
          338,
          339,
          340,
          341,
          342,
          343,
          344,
          345,
          346,
          347,
          348,
          349,
          350,
          351,
          352,
          353,
          354,
          355,
          356,
          357,
          358,
          359,
          360
         ],
         "xaxis": "x4",
         "y": [
          400,
          400,
          400,
          400,
          400,
          400,
          400,
          400,
          400,
          400,
          400,
          400,
          398,
          398,
          397,
          397,
          397,
          397,
          397,
          397,
          397,
          397,
          397,
          397,
          397,
          397,
          397,
          397,
          397,
          397,
          397,
          397,
          397,
          397,
          397,
          397,
          397,
          397,
          397,
          397,
          396,
          396,
          396,
          396,
          396,
          396,
          396,
          396,
          396,
          396,
          396,
          396,
          396,
          396,
          396,
          396,
          396,
          396,
          396,
          396,
          396,
          396,
          396,
          396,
          396,
          396,
          396,
          396,
          396,
          396,
          396,
          396,
          395,
          395,
          395,
          395,
          395,
          395,
          395,
          395,
          395,
          395,
          395,
          394,
          394,
          394,
          394,
          394,
          394,
          394,
          394,
          394,
          394,
          394,
          394,
          394,
          394,
          394,
          394,
          394,
          394,
          394,
          394,
          395,
          395,
          396,
          396,
          396,
          397,
          397,
          397,
          397,
          397,
          397,
          397,
          397,
          397,
          396,
          396,
          396,
          396,
          395,
          395,
          395,
          395,
          395,
          396,
          396,
          396,
          396,
          396,
          396,
          396,
          396,
          396,
          396,
          396,
          396,
          396,
          396,
          396,
          396,
          396,
          396,
          396,
          396,
          396,
          396,
          396,
          396,
          396,
          396,
          396,
          396,
          396,
          396,
          396,
          396,
          396,
          396,
          396,
          396,
          396,
          396,
          396,
          396,
          396,
          397,
          397,
          397,
          397,
          397,
          397,
          398,
          398,
          398,
          398,
          398,
          398,
          398,
          398,
          398,
          398,
          398,
          397,
          397,
          397,
          397,
          397,
          397,
          397,
          396,
          396,
          396,
          396,
          396,
          396,
          396,
          396,
          396,
          396,
          396,
          396,
          396,
          396,
          396,
          396,
          396,
          396,
          396,
          396,
          396,
          396,
          396,
          396,
          396,
          396,
          396,
          396,
          396,
          396,
          396,
          396,
          396,
          396,
          396,
          396,
          396,
          396,
          396,
          396,
          396,
          396,
          396,
          396,
          396,
          396,
          396,
          396,
          396,
          397,
          397,
          397,
          399,
          399,
          400,
          400,
          400,
          400,
          404,
          404,
          404,
          404,
          404,
          404,
          404,
          404,
          404,
          405,
          405,
          405,
          405,
          405,
          405,
          405,
          405,
          405,
          405,
          405,
          405,
          405,
          405,
          404,
          404,
          403,
          403,
          403,
          404,
          404,
          404,
          404,
          404,
          404,
          404,
          403,
          403,
          403,
          403,
          403,
          403,
          403,
          403,
          403,
          404,
          404,
          404,
          404,
          404,
          405,
          405,
          406,
          406,
          406,
          406,
          406,
          406,
          406,
          406,
          406,
          406,
          406,
          406,
          406,
          406,
          406,
          406,
          407,
          407,
          407,
          407,
          408,
          408,
          408,
          408,
          408,
          408,
          408,
          408,
          408,
          408,
          408,
          408,
          408,
          408,
          408,
          408,
          408,
          408,
          408,
          408,
          407,
          407,
          407,
          407,
          407,
          408,
          407,
          407,
          406,
          407,
          406,
          406,
          406,
          406,
          406,
          406,
          406,
          406,
          406,
          406
         ],
         "yaxis": "y4"
        }
       ],
       "layout": {
        "annotations": [
         {
          "font": {
           "size": 16
          },
          "showarrow": false,
          "text": "S only",
          "x": 0.225,
          "xanchor": "center",
          "xref": "paper",
          "y": 1,
          "yanchor": "bottom",
          "yref": "paper"
         },
         {
          "font": {
           "size": 16
          },
          "showarrow": false,
          "text": "I only",
          "x": 0.775,
          "xanchor": "center",
          "xref": "paper",
          "y": 1,
          "yanchor": "bottom",
          "yref": "paper"
         },
         {
          "font": {
           "size": 16
          },
          "showarrow": false,
          "text": "R only",
          "x": 0.225,
          "xanchor": "center",
          "xref": "paper",
          "y": 0.375,
          "yanchor": "bottom",
          "yref": "paper"
         },
         {
          "font": {
           "size": 16
          },
          "showarrow": false,
          "text": "Total Population",
          "x": 0.775,
          "xanchor": "center",
          "xref": "paper",
          "y": 0.375,
          "yanchor": "bottom",
          "yref": "paper"
         }
        ],
        "height": 600,
        "plot_bgcolor": "white",
        "template": {
         "data": {
          "bar": [
           {
            "error_x": {
             "color": "#2a3f5f"
            },
            "error_y": {
             "color": "#2a3f5f"
            },
            "marker": {
             "line": {
              "color": "#E5ECF6",
              "width": 0.5
             },
             "pattern": {
              "fillmode": "overlay",
              "size": 10,
              "solidity": 0.2
             }
            },
            "type": "bar"
           }
          ],
          "barpolar": [
           {
            "marker": {
             "line": {
              "color": "#E5ECF6",
              "width": 0.5
             },
             "pattern": {
              "fillmode": "overlay",
              "size": 10,
              "solidity": 0.2
             }
            },
            "type": "barpolar"
           }
          ],
          "carpet": [
           {
            "aaxis": {
             "endlinecolor": "#2a3f5f",
             "gridcolor": "white",
             "linecolor": "white",
             "minorgridcolor": "white",
             "startlinecolor": "#2a3f5f"
            },
            "baxis": {
             "endlinecolor": "#2a3f5f",
             "gridcolor": "white",
             "linecolor": "white",
             "minorgridcolor": "white",
             "startlinecolor": "#2a3f5f"
            },
            "type": "carpet"
           }
          ],
          "choropleth": [
           {
            "colorbar": {
             "outlinewidth": 0,
             "ticks": ""
            },
            "type": "choropleth"
           }
          ],
          "contour": [
           {
            "colorbar": {
             "outlinewidth": 0,
             "ticks": ""
            },
            "colorscale": [
             [
              0,
              "#0d0887"
             ],
             [
              0.1111111111111111,
              "#46039f"
             ],
             [
              0.2222222222222222,
              "#7201a8"
             ],
             [
              0.3333333333333333,
              "#9c179e"
             ],
             [
              0.4444444444444444,
              "#bd3786"
             ],
             [
              0.5555555555555556,
              "#d8576b"
             ],
             [
              0.6666666666666666,
              "#ed7953"
             ],
             [
              0.7777777777777778,
              "#fb9f3a"
             ],
             [
              0.8888888888888888,
              "#fdca26"
             ],
             [
              1,
              "#f0f921"
             ]
            ],
            "type": "contour"
           }
          ],
          "contourcarpet": [
           {
            "colorbar": {
             "outlinewidth": 0,
             "ticks": ""
            },
            "type": "contourcarpet"
           }
          ],
          "heatmap": [
           {
            "colorbar": {
             "outlinewidth": 0,
             "ticks": ""
            },
            "colorscale": [
             [
              0,
              "#0d0887"
             ],
             [
              0.1111111111111111,
              "#46039f"
             ],
             [
              0.2222222222222222,
              "#7201a8"
             ],
             [
              0.3333333333333333,
              "#9c179e"
             ],
             [
              0.4444444444444444,
              "#bd3786"
             ],
             [
              0.5555555555555556,
              "#d8576b"
             ],
             [
              0.6666666666666666,
              "#ed7953"
             ],
             [
              0.7777777777777778,
              "#fb9f3a"
             ],
             [
              0.8888888888888888,
              "#fdca26"
             ],
             [
              1,
              "#f0f921"
             ]
            ],
            "type": "heatmap"
           }
          ],
          "histogram": [
           {
            "marker": {
             "pattern": {
              "fillmode": "overlay",
              "size": 10,
              "solidity": 0.2
             }
            },
            "type": "histogram"
           }
          ],
          "histogram2d": [
           {
            "colorbar": {
             "outlinewidth": 0,
             "ticks": ""
            },
            "colorscale": [
             [
              0,
              "#0d0887"
             ],
             [
              0.1111111111111111,
              "#46039f"
             ],
             [
              0.2222222222222222,
              "#7201a8"
             ],
             [
              0.3333333333333333,
              "#9c179e"
             ],
             [
              0.4444444444444444,
              "#bd3786"
             ],
             [
              0.5555555555555556,
              "#d8576b"
             ],
             [
              0.6666666666666666,
              "#ed7953"
             ],
             [
              0.7777777777777778,
              "#fb9f3a"
             ],
             [
              0.8888888888888888,
              "#fdca26"
             ],
             [
              1,
              "#f0f921"
             ]
            ],
            "type": "histogram2d"
           }
          ],
          "histogram2dcontour": [
           {
            "colorbar": {
             "outlinewidth": 0,
             "ticks": ""
            },
            "colorscale": [
             [
              0,
              "#0d0887"
             ],
             [
              0.1111111111111111,
              "#46039f"
             ],
             [
              0.2222222222222222,
              "#7201a8"
             ],
             [
              0.3333333333333333,
              "#9c179e"
             ],
             [
              0.4444444444444444,
              "#bd3786"
             ],
             [
              0.5555555555555556,
              "#d8576b"
             ],
             [
              0.6666666666666666,
              "#ed7953"
             ],
             [
              0.7777777777777778,
              "#fb9f3a"
             ],
             [
              0.8888888888888888,
              "#fdca26"
             ],
             [
              1,
              "#f0f921"
             ]
            ],
            "type": "histogram2dcontour"
           }
          ],
          "mesh3d": [
           {
            "colorbar": {
             "outlinewidth": 0,
             "ticks": ""
            },
            "type": "mesh3d"
           }
          ],
          "parcoords": [
           {
            "line": {
             "colorbar": {
              "outlinewidth": 0,
              "ticks": ""
             }
            },
            "type": "parcoords"
           }
          ],
          "pie": [
           {
            "automargin": true,
            "type": "pie"
           }
          ],
          "scatter": [
           {
            "fillpattern": {
             "fillmode": "overlay",
             "size": 10,
             "solidity": 0.2
            },
            "type": "scatter"
           }
          ],
          "scatter3d": [
           {
            "line": {
             "colorbar": {
              "outlinewidth": 0,
              "ticks": ""
             }
            },
            "marker": {
             "colorbar": {
              "outlinewidth": 0,
              "ticks": ""
             }
            },
            "type": "scatter3d"
           }
          ],
          "scattercarpet": [
           {
            "marker": {
             "colorbar": {
              "outlinewidth": 0,
              "ticks": ""
             }
            },
            "type": "scattercarpet"
           }
          ],
          "scattergeo": [
           {
            "marker": {
             "colorbar": {
              "outlinewidth": 0,
              "ticks": ""
             }
            },
            "type": "scattergeo"
           }
          ],
          "scattergl": [
           {
            "marker": {
             "colorbar": {
              "outlinewidth": 0,
              "ticks": ""
             }
            },
            "type": "scattergl"
           }
          ],
          "scattermap": [
           {
            "marker": {
             "colorbar": {
              "outlinewidth": 0,
              "ticks": ""
             }
            },
            "type": "scattermap"
           }
          ],
          "scattermapbox": [
           {
            "marker": {
             "colorbar": {
              "outlinewidth": 0,
              "ticks": ""
             }
            },
            "type": "scattermapbox"
           }
          ],
          "scatterpolar": [
           {
            "marker": {
             "colorbar": {
              "outlinewidth": 0,
              "ticks": ""
             }
            },
            "type": "scatterpolar"
           }
          ],
          "scatterpolargl": [
           {
            "marker": {
             "colorbar": {
              "outlinewidth": 0,
              "ticks": ""
             }
            },
            "type": "scatterpolargl"
           }
          ],
          "scatterternary": [
           {
            "marker": {
             "colorbar": {
              "outlinewidth": 0,
              "ticks": ""
             }
            },
            "type": "scatterternary"
           }
          ],
          "surface": [
           {
            "colorbar": {
             "outlinewidth": 0,
             "ticks": ""
            },
            "colorscale": [
             [
              0,
              "#0d0887"
             ],
             [
              0.1111111111111111,
              "#46039f"
             ],
             [
              0.2222222222222222,
              "#7201a8"
             ],
             [
              0.3333333333333333,
              "#9c179e"
             ],
             [
              0.4444444444444444,
              "#bd3786"
             ],
             [
              0.5555555555555556,
              "#d8576b"
             ],
             [
              0.6666666666666666,
              "#ed7953"
             ],
             [
              0.7777777777777778,
              "#fb9f3a"
             ],
             [
              0.8888888888888888,
              "#fdca26"
             ],
             [
              1,
              "#f0f921"
             ]
            ],
            "type": "surface"
           }
          ],
          "table": [
           {
            "cells": {
             "fill": {
              "color": "#EBF0F8"
             },
             "line": {
              "color": "white"
             }
            },
            "header": {
             "fill": {
              "color": "#C8D4E3"
             },
             "line": {
              "color": "white"
             }
            },
            "type": "table"
           }
          ]
         },
         "layout": {
          "annotationdefaults": {
           "arrowcolor": "#2a3f5f",
           "arrowhead": 0,
           "arrowwidth": 1
          },
          "autotypenumbers": "strict",
          "coloraxis": {
           "colorbar": {
            "outlinewidth": 0,
            "ticks": ""
           }
          },
          "colorscale": {
           "diverging": [
            [
             0,
             "#8e0152"
            ],
            [
             0.1,
             "#c51b7d"
            ],
            [
             0.2,
             "#de77ae"
            ],
            [
             0.3,
             "#f1b6da"
            ],
            [
             0.4,
             "#fde0ef"
            ],
            [
             0.5,
             "#f7f7f7"
            ],
            [
             0.6,
             "#e6f5d0"
            ],
            [
             0.7,
             "#b8e186"
            ],
            [
             0.8,
             "#7fbc41"
            ],
            [
             0.9,
             "#4d9221"
            ],
            [
             1,
             "#276419"
            ]
           ],
           "sequential": [
            [
             0,
             "#0d0887"
            ],
            [
             0.1111111111111111,
             "#46039f"
            ],
            [
             0.2222222222222222,
             "#7201a8"
            ],
            [
             0.3333333333333333,
             "#9c179e"
            ],
            [
             0.4444444444444444,
             "#bd3786"
            ],
            [
             0.5555555555555556,
             "#d8576b"
            ],
            [
             0.6666666666666666,
             "#ed7953"
            ],
            [
             0.7777777777777778,
             "#fb9f3a"
            ],
            [
             0.8888888888888888,
             "#fdca26"
            ],
            [
             1,
             "#f0f921"
            ]
           ],
           "sequentialminus": [
            [
             0,
             "#0d0887"
            ],
            [
             0.1111111111111111,
             "#46039f"
            ],
            [
             0.2222222222222222,
             "#7201a8"
            ],
            [
             0.3333333333333333,
             "#9c179e"
            ],
            [
             0.4444444444444444,
             "#bd3786"
            ],
            [
             0.5555555555555556,
             "#d8576b"
            ],
            [
             0.6666666666666666,
             "#ed7953"
            ],
            [
             0.7777777777777778,
             "#fb9f3a"
            ],
            [
             0.8888888888888888,
             "#fdca26"
            ],
            [
             1,
             "#f0f921"
            ]
           ]
          },
          "colorway": [
           "#636efa",
           "#EF553B",
           "#00cc96",
           "#ab63fa",
           "#FFA15A",
           "#19d3f3",
           "#FF6692",
           "#B6E880",
           "#FF97FF",
           "#FECB52"
          ],
          "font": {
           "color": "#2a3f5f"
          },
          "geo": {
           "bgcolor": "white",
           "lakecolor": "white",
           "landcolor": "#E5ECF6",
           "showlakes": true,
           "showland": true,
           "subunitcolor": "white"
          },
          "hoverlabel": {
           "align": "left"
          },
          "hovermode": "closest",
          "mapbox": {
           "style": "light"
          },
          "paper_bgcolor": "white",
          "plot_bgcolor": "#E5ECF6",
          "polar": {
           "angularaxis": {
            "gridcolor": "white",
            "linecolor": "white",
            "ticks": ""
           },
           "bgcolor": "#E5ECF6",
           "radialaxis": {
            "gridcolor": "white",
            "linecolor": "white",
            "ticks": ""
           }
          },
          "scene": {
           "xaxis": {
            "backgroundcolor": "#E5ECF6",
            "gridcolor": "white",
            "gridwidth": 2,
            "linecolor": "white",
            "showbackground": true,
            "ticks": "",
            "zerolinecolor": "white"
           },
           "yaxis": {
            "backgroundcolor": "#E5ECF6",
            "gridcolor": "white",
            "gridwidth": 2,
            "linecolor": "white",
            "showbackground": true,
            "ticks": "",
            "zerolinecolor": "white"
           },
           "zaxis": {
            "backgroundcolor": "#E5ECF6",
            "gridcolor": "white",
            "gridwidth": 2,
            "linecolor": "white",
            "showbackground": true,
            "ticks": "",
            "zerolinecolor": "white"
           }
          },
          "shapedefaults": {
           "line": {
            "color": "#2a3f5f"
           }
          },
          "ternary": {
           "aaxis": {
            "gridcolor": "white",
            "linecolor": "white",
            "ticks": ""
           },
           "baxis": {
            "gridcolor": "white",
            "linecolor": "white",
            "ticks": ""
           },
           "bgcolor": "#E5ECF6",
           "caxis": {
            "gridcolor": "white",
            "linecolor": "white",
            "ticks": ""
           }
          },
          "title": {
           "x": 0.05
          },
          "xaxis": {
           "automargin": true,
           "gridcolor": "white",
           "linecolor": "white",
           "ticks": "",
           "title": {
            "standoff": 15
           },
           "zerolinecolor": "white",
           "zerolinewidth": 2
          },
          "yaxis": {
           "automargin": true,
           "gridcolor": "white",
           "linecolor": "white",
           "ticks": "",
           "title": {
            "standoff": 15
           },
           "zerolinecolor": "white",
           "zerolinewidth": 2
          }
         }
        },
        "title": {
         "text": "Counts of compartments over time:<br>IC = [380, 20, 0], θ = <metavirommodel._environment.BirthRatePrec object at 0x12523ee40>, μ = 0.00037, v = 0, β = 0.06, γ = 0.05"
        },
        "width": 1100,
        "xaxis": {
         "anchor": "y",
         "domain": [
          0,
          0.45
         ],
         "linecolor": "black",
         "title": {
          "text": "Time (days)"
         }
        },
        "xaxis2": {
         "anchor": "y2",
         "domain": [
          0.55,
          1
         ],
         "linecolor": "black",
         "title": {
          "text": "Time (days)"
         }
        },
        "xaxis3": {
         "anchor": "y3",
         "domain": [
          0,
          0.45
         ],
         "linecolor": "black",
         "title": {
          "text": "Time (days)"
         }
        },
        "xaxis4": {
         "anchor": "y4",
         "domain": [
          0.55,
          1
         ],
         "linecolor": "black",
         "title": {
          "text": "Time (days)"
         }
        },
        "yaxis": {
         "anchor": "x",
         "domain": [
          0.625,
          1
         ],
         "linecolor": "black",
         "title": {
          "text": "Individuals"
         }
        },
        "yaxis2": {
         "anchor": "x2",
         "domain": [
          0.625,
          1
         ],
         "linecolor": "black",
         "title": {
          "text": "Individuals"
         }
        },
        "yaxis3": {
         "anchor": "x3",
         "domain": [
          0,
          0.375
         ],
         "linecolor": "black",
         "title": {
          "text": "Individuals"
         }
        },
        "yaxis4": {
         "anchor": "x4",
         "domain": [
          0,
          0.375
         ],
         "linecolor": "black",
         "title": {
          "text": "Individuals"
         }
        }
       }
      }
     },
     "metadata": {},
     "output_type": "display_data"
    }
   ],
   "source": [
    "# Trace names - represent the type of individuals for the simulation\n",
    "trace_name = ['{}'.format(s) for s in compartments]\n",
    "\n",
    "# Names of panels\n",
    "panels = ['{} only'.format(s) for s in compartments] + ['Total Population']\n",
    "\n",
    "fig = go.Figure()\n",
    "fig = make_subplots(rows=int(np.ceil(len(panels)/2)), cols=2, subplot_titles=tuple('{}'.format(p) for p in panels))\n",
    "\n",
    "# Add traces to the separate counts panels\n",
    "for s, spec in enumerate(compartments):\n",
    "    for _ in range(num_experiments):\n",
    "        fig.add_trace(\n",
    "            go.Scatter(\n",
    "                y=output_algorithm[_, :, s].tolist(),\n",
    "                x=times,\n",
    "                mode='lines',\n",
    "                name=trace_name[s],\n",
    "                line_color=colours[s],\n",
    "                showlegend=False,\n",
    "            ),\n",
    "            row= int(np.floor(s / 2)) + 1,\n",
    "            col= s % 2 + 1\n",
    "        )\n",
    "\n",
    "fig.add_trace(\n",
    "    go.Scatter(\n",
    "        y=np.mean(np.sum(output_algorithm, axis=2), axis=0).tolist(),\n",
    "        x=times,\n",
    "        mode='lines',\n",
    "        name='Total Population',\n",
    "        line_color='black'\n",
    "    ),\n",
    "    row= 2,\n",
    "    col= 2\n",
    ")\n",
    "\n",
    "# Add axis labels\n",
    "fig.update_layout(\n",
    "    title='Counts of compartments over time:<br>IC = {}, θ = {}, μ = {}, v = {}, β = {:.2f}, γ = {:.2f}'.format(parameters[0:3], parameters[3], parameters[4], parameters[5], parameters[6], parameters[7]),\n",
    "    width=1100, \n",
    "    height=600,\n",
    "    plot_bgcolor='white',\n",
    "    xaxis=dict(\n",
    "        linecolor='black',\n",
    "        title = 'Time (days)'\n",
    "        ),\n",
    "    yaxis=dict(\n",
    "        linecolor='black',\n",
    "        title = 'Individuals'),\n",
    "    xaxis2=dict(\n",
    "        linecolor='black',\n",
    "        title = 'Time (days)'\n",
    "        ),\n",
    "    yaxis2=dict(\n",
    "        linecolor='black',\n",
    "        title = 'Individuals'),\n",
    "    xaxis3=dict(\n",
    "        linecolor='black',\n",
    "        title = 'Time (days)'\n",
    "        ),\n",
    "    yaxis3=dict(\n",
    "        linecolor='black',\n",
    "        title = 'Individuals'),\n",
    "    xaxis4=dict(\n",
    "        linecolor='black',\n",
    "        title = 'Time (days)'\n",
    "        ),\n",
    "    yaxis4=dict(\n",
    "        linecolor='black',\n",
    "        title = 'Individuals')\n",
    "    #legend=dict(\n",
    "    #    orientation=\"h\",\n",
    "    #    yanchor=\"bottom\",\n",
    "    #    y=1.02,\n",
    "    #    xanchor=\"right\",\n",
    "    #    x=1\n",
    "    #)\n",
    "    )\n",
    "\n",
    "fig.write_image('images/SIR-gillespie-separate-Lassa.pdf')\n",
    "fig.show()"
   ]
  },
  {
   "cell_type": "markdown",
   "metadata": {},
   "source": [
    "### Plot incidence of infection"
   ]
  },
  {
   "cell_type": "code",
   "execution_count": 8,
   "metadata": {},
   "outputs": [
    {
     "data": {
      "application/vnd.plotly.v1+json": {
       "config": {
        "plotlyServerURL": "https://plot.ly"
       },
       "data": [
        {
         "line": {
          "color": "green"
         },
         "mode": "lines",
         "name": "R",
         "showlegend": false,
         "type": "scatter",
         "x": [
          1,
          2,
          3,
          4,
          5,
          6,
          7,
          8,
          9,
          10,
          11,
          12,
          13,
          14,
          15,
          16,
          17,
          18,
          19,
          20,
          21,
          22,
          23,
          24,
          25,
          26,
          27,
          28,
          29,
          30,
          31,
          32,
          33,
          34,
          35,
          36,
          37,
          38,
          39,
          40,
          41,
          42,
          43,
          44,
          45,
          46,
          47,
          48,
          49,
          50,
          51,
          52,
          53,
          54,
          55,
          56,
          57,
          58,
          59,
          60,
          61,
          62,
          63,
          64,
          65,
          66,
          67,
          68,
          69,
          70,
          71,
          72,
          73,
          74,
          75,
          76,
          77,
          78,
          79,
          80,
          81,
          82,
          83,
          84,
          85,
          86,
          87,
          88,
          89,
          90,
          91,
          92,
          93,
          94,
          95,
          96,
          97,
          98,
          99,
          100,
          101,
          102,
          103,
          104,
          105,
          106,
          107,
          108,
          109,
          110,
          111,
          112,
          113,
          114,
          115,
          116,
          117,
          118,
          119,
          120,
          121,
          122,
          123,
          124,
          125,
          126,
          127,
          128,
          129,
          130,
          131,
          132,
          133,
          134,
          135,
          136,
          137,
          138,
          139,
          140,
          141,
          142,
          143,
          144,
          145,
          146,
          147,
          148,
          149,
          150,
          151,
          152,
          153,
          154,
          155,
          156,
          157,
          158,
          159,
          160,
          161,
          162,
          163,
          164,
          165,
          166,
          167,
          168,
          169,
          170,
          171,
          172,
          173,
          174,
          175,
          176,
          177,
          178,
          179,
          180,
          181,
          182,
          183,
          184,
          185,
          186,
          187,
          188,
          189,
          190,
          191,
          192,
          193,
          194,
          195,
          196,
          197,
          198,
          199,
          200,
          201,
          202,
          203,
          204,
          205,
          206,
          207,
          208,
          209,
          210,
          211,
          212,
          213,
          214,
          215,
          216,
          217,
          218,
          219,
          220,
          221,
          222,
          223,
          224,
          225,
          226,
          227,
          228,
          229,
          230,
          231,
          232,
          233,
          234,
          235,
          236,
          237,
          238,
          239,
          240,
          241,
          242,
          243,
          244,
          245,
          246,
          247,
          248,
          249,
          250,
          251,
          252,
          253,
          254,
          255,
          256,
          257,
          258,
          259,
          260,
          261,
          262,
          263,
          264,
          265,
          266,
          267,
          268,
          269,
          270,
          271,
          272,
          273,
          274,
          275,
          276,
          277,
          278,
          279,
          280,
          281,
          282,
          283,
          284,
          285,
          286,
          287,
          288,
          289,
          290,
          291,
          292,
          293,
          294,
          295,
          296,
          297,
          298,
          299,
          300,
          301,
          302,
          303,
          304,
          305,
          306,
          307,
          308,
          309,
          310,
          311,
          312,
          313,
          314,
          315,
          316,
          317,
          318,
          319,
          320,
          321,
          322,
          323,
          324,
          325,
          326,
          327,
          328,
          329,
          330,
          331,
          332,
          333,
          334,
          335,
          336,
          337,
          338,
          339,
          340,
          341,
          342,
          343,
          344,
          345,
          346,
          347,
          348,
          349,
          350,
          351,
          352,
          353,
          354,
          355,
          356,
          357,
          358,
          359,
          360
         ],
         "y": [
          0,
          0,
          0,
          0,
          1,
          0,
          -1,
          0,
          0,
          -1,
          2,
          0,
          1,
          0,
          0,
          0,
          -1,
          1,
          0,
          -1,
          1,
          0,
          0,
          1,
          -1,
          0,
          1,
          0,
          0,
          0,
          1,
          0,
          -1,
          2,
          1,
          -1,
          0,
          -1,
          0,
          0,
          1,
          0,
          0,
          0,
          1,
          0,
          0,
          0,
          1,
          0,
          -1,
          0,
          1,
          1,
          1,
          1,
          0,
          0,
          1,
          0,
          0,
          -1,
          0,
          -1,
          0,
          1,
          -1,
          0,
          0,
          0,
          1,
          0,
          0,
          -1,
          -1,
          -1,
          0,
          1,
          1,
          1,
          0,
          -1,
          0,
          0,
          0,
          0,
          1,
          0,
          1,
          -1,
          0,
          0,
          1,
          0,
          0,
          -1,
          0,
          1,
          0,
          1,
          -1,
          -1,
          -1,
          -1,
          0,
          -1,
          1,
          0,
          0,
          0,
          0,
          -2,
          1,
          -1,
          -1,
          0,
          0,
          -1,
          0,
          0,
          0,
          0,
          1,
          0,
          0,
          0,
          1,
          1,
          -1,
          0,
          1,
          0,
          0,
          0,
          -3,
          1,
          0,
          1,
          1,
          0,
          0,
          1,
          0,
          1,
          -1,
          0,
          2,
          0,
          -1,
          -1,
          1,
          -1,
          1,
          -1,
          0,
          -1,
          1,
          1,
          -1,
          0,
          0,
          1,
          0,
          0,
          0,
          1,
          -1,
          0,
          -1,
          0,
          0,
          1,
          0,
          0,
          0,
          0,
          -1,
          0,
          1,
          -1,
          0,
          1,
          0,
          0,
          1,
          1,
          1,
          0,
          0,
          -1,
          0,
          0,
          -1,
          1,
          -1,
          2,
          0,
          0,
          2,
          0,
          0,
          0,
          0,
          1,
          -1,
          1,
          1,
          0,
          2,
          0,
          -1,
          0,
          -1,
          0,
          0,
          -1,
          0,
          0,
          0,
          0,
          -1,
          1,
          -1,
          -2,
          1,
          0,
          0,
          0,
          0,
          -2,
          -1,
          0,
          -3,
          0,
          0,
          1,
          0,
          0,
          0,
          1,
          -1,
          0,
          0,
          -1,
          0,
          0,
          0,
          -1,
          0,
          0,
          -1,
          0,
          0,
          0,
          0,
          1,
          -1,
          0,
          0,
          0,
          -1,
          0,
          -2,
          0,
          0,
          0,
          0,
          -1,
          0,
          0,
          -1,
          0,
          0,
          1,
          1,
          0,
          0,
          0,
          -1,
          1,
          0,
          -1,
          0,
          1,
          -1,
          0,
          1,
          0,
          0,
          1,
          0,
          -1,
          1,
          0,
          0,
          0,
          0,
          0,
          -1,
          0,
          1,
          2,
          0,
          0,
          0,
          0,
          0,
          1,
          -1,
          1,
          0,
          0,
          -1,
          0,
          0,
          2,
          0,
          -1,
          0,
          0,
          -1,
          0,
          0,
          0,
          0,
          0,
          -1,
          0,
          -2,
          0,
          0,
          0,
          1,
          0,
          1,
          0,
          -1,
          0,
          1,
          0,
          0,
          1,
          -1,
          0,
          0,
          0,
          0,
          1,
          1,
          0,
          0,
          -1,
          -1,
          -1,
          0,
          0,
          0,
          -1,
          1,
          0
         ]
        }
       ],
       "layout": {
        "height": 500,
        "plot_bgcolor": "white",
        "template": {
         "data": {
          "bar": [
           {
            "error_x": {
             "color": "#2a3f5f"
            },
            "error_y": {
             "color": "#2a3f5f"
            },
            "marker": {
             "line": {
              "color": "#E5ECF6",
              "width": 0.5
             },
             "pattern": {
              "fillmode": "overlay",
              "size": 10,
              "solidity": 0.2
             }
            },
            "type": "bar"
           }
          ],
          "barpolar": [
           {
            "marker": {
             "line": {
              "color": "#E5ECF6",
              "width": 0.5
             },
             "pattern": {
              "fillmode": "overlay",
              "size": 10,
              "solidity": 0.2
             }
            },
            "type": "barpolar"
           }
          ],
          "carpet": [
           {
            "aaxis": {
             "endlinecolor": "#2a3f5f",
             "gridcolor": "white",
             "linecolor": "white",
             "minorgridcolor": "white",
             "startlinecolor": "#2a3f5f"
            },
            "baxis": {
             "endlinecolor": "#2a3f5f",
             "gridcolor": "white",
             "linecolor": "white",
             "minorgridcolor": "white",
             "startlinecolor": "#2a3f5f"
            },
            "type": "carpet"
           }
          ],
          "choropleth": [
           {
            "colorbar": {
             "outlinewidth": 0,
             "ticks": ""
            },
            "type": "choropleth"
           }
          ],
          "contour": [
           {
            "colorbar": {
             "outlinewidth": 0,
             "ticks": ""
            },
            "colorscale": [
             [
              0,
              "#0d0887"
             ],
             [
              0.1111111111111111,
              "#46039f"
             ],
             [
              0.2222222222222222,
              "#7201a8"
             ],
             [
              0.3333333333333333,
              "#9c179e"
             ],
             [
              0.4444444444444444,
              "#bd3786"
             ],
             [
              0.5555555555555556,
              "#d8576b"
             ],
             [
              0.6666666666666666,
              "#ed7953"
             ],
             [
              0.7777777777777778,
              "#fb9f3a"
             ],
             [
              0.8888888888888888,
              "#fdca26"
             ],
             [
              1,
              "#f0f921"
             ]
            ],
            "type": "contour"
           }
          ],
          "contourcarpet": [
           {
            "colorbar": {
             "outlinewidth": 0,
             "ticks": ""
            },
            "type": "contourcarpet"
           }
          ],
          "heatmap": [
           {
            "colorbar": {
             "outlinewidth": 0,
             "ticks": ""
            },
            "colorscale": [
             [
              0,
              "#0d0887"
             ],
             [
              0.1111111111111111,
              "#46039f"
             ],
             [
              0.2222222222222222,
              "#7201a8"
             ],
             [
              0.3333333333333333,
              "#9c179e"
             ],
             [
              0.4444444444444444,
              "#bd3786"
             ],
             [
              0.5555555555555556,
              "#d8576b"
             ],
             [
              0.6666666666666666,
              "#ed7953"
             ],
             [
              0.7777777777777778,
              "#fb9f3a"
             ],
             [
              0.8888888888888888,
              "#fdca26"
             ],
             [
              1,
              "#f0f921"
             ]
            ],
            "type": "heatmap"
           }
          ],
          "histogram": [
           {
            "marker": {
             "pattern": {
              "fillmode": "overlay",
              "size": 10,
              "solidity": 0.2
             }
            },
            "type": "histogram"
           }
          ],
          "histogram2d": [
           {
            "colorbar": {
             "outlinewidth": 0,
             "ticks": ""
            },
            "colorscale": [
             [
              0,
              "#0d0887"
             ],
             [
              0.1111111111111111,
              "#46039f"
             ],
             [
              0.2222222222222222,
              "#7201a8"
             ],
             [
              0.3333333333333333,
              "#9c179e"
             ],
             [
              0.4444444444444444,
              "#bd3786"
             ],
             [
              0.5555555555555556,
              "#d8576b"
             ],
             [
              0.6666666666666666,
              "#ed7953"
             ],
             [
              0.7777777777777778,
              "#fb9f3a"
             ],
             [
              0.8888888888888888,
              "#fdca26"
             ],
             [
              1,
              "#f0f921"
             ]
            ],
            "type": "histogram2d"
           }
          ],
          "histogram2dcontour": [
           {
            "colorbar": {
             "outlinewidth": 0,
             "ticks": ""
            },
            "colorscale": [
             [
              0,
              "#0d0887"
             ],
             [
              0.1111111111111111,
              "#46039f"
             ],
             [
              0.2222222222222222,
              "#7201a8"
             ],
             [
              0.3333333333333333,
              "#9c179e"
             ],
             [
              0.4444444444444444,
              "#bd3786"
             ],
             [
              0.5555555555555556,
              "#d8576b"
             ],
             [
              0.6666666666666666,
              "#ed7953"
             ],
             [
              0.7777777777777778,
              "#fb9f3a"
             ],
             [
              0.8888888888888888,
              "#fdca26"
             ],
             [
              1,
              "#f0f921"
             ]
            ],
            "type": "histogram2dcontour"
           }
          ],
          "mesh3d": [
           {
            "colorbar": {
             "outlinewidth": 0,
             "ticks": ""
            },
            "type": "mesh3d"
           }
          ],
          "parcoords": [
           {
            "line": {
             "colorbar": {
              "outlinewidth": 0,
              "ticks": ""
             }
            },
            "type": "parcoords"
           }
          ],
          "pie": [
           {
            "automargin": true,
            "type": "pie"
           }
          ],
          "scatter": [
           {
            "fillpattern": {
             "fillmode": "overlay",
             "size": 10,
             "solidity": 0.2
            },
            "type": "scatter"
           }
          ],
          "scatter3d": [
           {
            "line": {
             "colorbar": {
              "outlinewidth": 0,
              "ticks": ""
             }
            },
            "marker": {
             "colorbar": {
              "outlinewidth": 0,
              "ticks": ""
             }
            },
            "type": "scatter3d"
           }
          ],
          "scattercarpet": [
           {
            "marker": {
             "colorbar": {
              "outlinewidth": 0,
              "ticks": ""
             }
            },
            "type": "scattercarpet"
           }
          ],
          "scattergeo": [
           {
            "marker": {
             "colorbar": {
              "outlinewidth": 0,
              "ticks": ""
             }
            },
            "type": "scattergeo"
           }
          ],
          "scattergl": [
           {
            "marker": {
             "colorbar": {
              "outlinewidth": 0,
              "ticks": ""
             }
            },
            "type": "scattergl"
           }
          ],
          "scattermap": [
           {
            "marker": {
             "colorbar": {
              "outlinewidth": 0,
              "ticks": ""
             }
            },
            "type": "scattermap"
           }
          ],
          "scattermapbox": [
           {
            "marker": {
             "colorbar": {
              "outlinewidth": 0,
              "ticks": ""
             }
            },
            "type": "scattermapbox"
           }
          ],
          "scatterpolar": [
           {
            "marker": {
             "colorbar": {
              "outlinewidth": 0,
              "ticks": ""
             }
            },
            "type": "scatterpolar"
           }
          ],
          "scatterpolargl": [
           {
            "marker": {
             "colorbar": {
              "outlinewidth": 0,
              "ticks": ""
             }
            },
            "type": "scatterpolargl"
           }
          ],
          "scatterternary": [
           {
            "marker": {
             "colorbar": {
              "outlinewidth": 0,
              "ticks": ""
             }
            },
            "type": "scatterternary"
           }
          ],
          "surface": [
           {
            "colorbar": {
             "outlinewidth": 0,
             "ticks": ""
            },
            "colorscale": [
             [
              0,
              "#0d0887"
             ],
             [
              0.1111111111111111,
              "#46039f"
             ],
             [
              0.2222222222222222,
              "#7201a8"
             ],
             [
              0.3333333333333333,
              "#9c179e"
             ],
             [
              0.4444444444444444,
              "#bd3786"
             ],
             [
              0.5555555555555556,
              "#d8576b"
             ],
             [
              0.6666666666666666,
              "#ed7953"
             ],
             [
              0.7777777777777778,
              "#fb9f3a"
             ],
             [
              0.8888888888888888,
              "#fdca26"
             ],
             [
              1,
              "#f0f921"
             ]
            ],
            "type": "surface"
           }
          ],
          "table": [
           {
            "cells": {
             "fill": {
              "color": "#EBF0F8"
             },
             "line": {
              "color": "white"
             }
            },
            "header": {
             "fill": {
              "color": "#C8D4E3"
             },
             "line": {
              "color": "white"
             }
            },
            "type": "table"
           }
          ]
         },
         "layout": {
          "annotationdefaults": {
           "arrowcolor": "#2a3f5f",
           "arrowhead": 0,
           "arrowwidth": 1
          },
          "autotypenumbers": "strict",
          "coloraxis": {
           "colorbar": {
            "outlinewidth": 0,
            "ticks": ""
           }
          },
          "colorscale": {
           "diverging": [
            [
             0,
             "#8e0152"
            ],
            [
             0.1,
             "#c51b7d"
            ],
            [
             0.2,
             "#de77ae"
            ],
            [
             0.3,
             "#f1b6da"
            ],
            [
             0.4,
             "#fde0ef"
            ],
            [
             0.5,
             "#f7f7f7"
            ],
            [
             0.6,
             "#e6f5d0"
            ],
            [
             0.7,
             "#b8e186"
            ],
            [
             0.8,
             "#7fbc41"
            ],
            [
             0.9,
             "#4d9221"
            ],
            [
             1,
             "#276419"
            ]
           ],
           "sequential": [
            [
             0,
             "#0d0887"
            ],
            [
             0.1111111111111111,
             "#46039f"
            ],
            [
             0.2222222222222222,
             "#7201a8"
            ],
            [
             0.3333333333333333,
             "#9c179e"
            ],
            [
             0.4444444444444444,
             "#bd3786"
            ],
            [
             0.5555555555555556,
             "#d8576b"
            ],
            [
             0.6666666666666666,
             "#ed7953"
            ],
            [
             0.7777777777777778,
             "#fb9f3a"
            ],
            [
             0.8888888888888888,
             "#fdca26"
            ],
            [
             1,
             "#f0f921"
            ]
           ],
           "sequentialminus": [
            [
             0,
             "#0d0887"
            ],
            [
             0.1111111111111111,
             "#46039f"
            ],
            [
             0.2222222222222222,
             "#7201a8"
            ],
            [
             0.3333333333333333,
             "#9c179e"
            ],
            [
             0.4444444444444444,
             "#bd3786"
            ],
            [
             0.5555555555555556,
             "#d8576b"
            ],
            [
             0.6666666666666666,
             "#ed7953"
            ],
            [
             0.7777777777777778,
             "#fb9f3a"
            ],
            [
             0.8888888888888888,
             "#fdca26"
            ],
            [
             1,
             "#f0f921"
            ]
           ]
          },
          "colorway": [
           "#636efa",
           "#EF553B",
           "#00cc96",
           "#ab63fa",
           "#FFA15A",
           "#19d3f3",
           "#FF6692",
           "#B6E880",
           "#FF97FF",
           "#FECB52"
          ],
          "font": {
           "color": "#2a3f5f"
          },
          "geo": {
           "bgcolor": "white",
           "lakecolor": "white",
           "landcolor": "#E5ECF6",
           "showlakes": true,
           "showland": true,
           "subunitcolor": "white"
          },
          "hoverlabel": {
           "align": "left"
          },
          "hovermode": "closest",
          "mapbox": {
           "style": "light"
          },
          "paper_bgcolor": "white",
          "plot_bgcolor": "#E5ECF6",
          "polar": {
           "angularaxis": {
            "gridcolor": "white",
            "linecolor": "white",
            "ticks": ""
           },
           "bgcolor": "#E5ECF6",
           "radialaxis": {
            "gridcolor": "white",
            "linecolor": "white",
            "ticks": ""
           }
          },
          "scene": {
           "xaxis": {
            "backgroundcolor": "#E5ECF6",
            "gridcolor": "white",
            "gridwidth": 2,
            "linecolor": "white",
            "showbackground": true,
            "ticks": "",
            "zerolinecolor": "white"
           },
           "yaxis": {
            "backgroundcolor": "#E5ECF6",
            "gridcolor": "white",
            "gridwidth": 2,
            "linecolor": "white",
            "showbackground": true,
            "ticks": "",
            "zerolinecolor": "white"
           },
           "zaxis": {
            "backgroundcolor": "#E5ECF6",
            "gridcolor": "white",
            "gridwidth": 2,
            "linecolor": "white",
            "showbackground": true,
            "ticks": "",
            "zerolinecolor": "white"
           }
          },
          "shapedefaults": {
           "line": {
            "color": "#2a3f5f"
           }
          },
          "ternary": {
           "aaxis": {
            "gridcolor": "white",
            "linecolor": "white",
            "ticks": ""
           },
           "baxis": {
            "gridcolor": "white",
            "linecolor": "white",
            "ticks": ""
           },
           "bgcolor": "#E5ECF6",
           "caxis": {
            "gridcolor": "white",
            "linecolor": "white",
            "ticks": ""
           }
          },
          "title": {
           "x": 0.05
          },
          "xaxis": {
           "automargin": true,
           "gridcolor": "white",
           "linecolor": "white",
           "ticks": "",
           "title": {
            "standoff": 15
           },
           "zerolinecolor": "white",
           "zerolinewidth": 2
          },
          "yaxis": {
           "automargin": true,
           "gridcolor": "white",
           "linecolor": "white",
           "ticks": "",
           "title": {
            "standoff": 15
           },
           "zerolinecolor": "white",
           "zerolinewidth": 2
          }
         }
        },
        "width": 500,
        "xaxis": {
         "linecolor": "black",
         "title": {
          "text": "Time (days)"
         }
        },
        "yaxis": {
         "linecolor": "black",
         "title": {
          "text": "Individuals"
         }
        }
       }
      }
     },
     "metadata": {},
     "output_type": "display_data"
    }
   ],
   "source": [
    "fig = go.Figure()\n",
    "\n",
    "incidence = np.zeros((num_experiments, len(times)))\n",
    "incidence[:, 1:] = output_algorithm[:, 1:, 1] - output_algorithm[:, :-1, 1]\n",
    "\n",
    "for _ in range(num_experiments):\n",
    "    fig.add_trace(\n",
    "        go.Scatter(\n",
    "            y=incidence[_, :].tolist(),\n",
    "            x=times,\n",
    "            mode='lines',\n",
    "            name=trace_name[s],\n",
    "            line_color=colours[s],\n",
    "            showlegend=False,\n",
    "        ),\n",
    ")\n",
    "\n",
    "# Add axis labels\n",
    "fig.update_layout(\n",
    "    width=500, \n",
    "    height=500,\n",
    "    plot_bgcolor='white',\n",
    "    xaxis=dict(\n",
    "        linecolor='black',\n",
    "        title = 'Time (days)'\n",
    "        ),\n",
    "    yaxis=dict(\n",
    "        linecolor='black',\n",
    "        title = 'Individuals'),\n",
    "    #legend=dict(\n",
    "    #    orientation=\"h\",\n",
    "    #    yanchor=\"bottom\",\n",
    "    #    y=1.02,\n",
    "    #    xanchor=\"right\",\n",
    "    #    x=1\n",
    "    #)\n",
    "    )\n",
    "\n",
    "fig.write_image('images/Incidence-Lassa.pdf')\n",
    "fig.show()"
   ]
  },
  {
   "cell_type": "markdown",
   "metadata": {},
   "source": [
    "## Produce Viral read counts values"
   ]
  },
  {
   "cell_type": "code",
   "execution_count": 9,
   "metadata": {},
   "outputs": [],
   "source": [
    "# Set parameter for the viral read counts model\n",
    "t_eclipse = 3  # (0 days) Time from infection to initial viral growth\n",
    "t_peak = 10  # (5 days ) Time from initial viral growth to peak viral load\n",
    "t_switch = 15  # (9.38 days) Time from peak viral load to secondary waning phase\n",
    "t_mod = 30  # (14 days) time from secondary waning phase until gumbel distribution reaches its min scale parameter\n",
    "t_LOD = math.inf  # ( inf days ) Time from infection until modal read counts value is equal to the limit of detection\n",
    "\n",
    "sigma_obs = 5  # Initial scale parameter for the Gumbel distribution until a=teclipse+tpeak+tswitch\n",
    "s_mod = 0.4  # 0.4 multiplicative factor applied to scale paramter for the Gumble distrbution - starting at t_eclipse + t_peak + t_switch + t_scle\n",
    "v_zero = 6  # read counts value at time of infection\n",
    "v_peak = 388  # (20) Modal read counts value at peak viral load\n",
    "v_switch = 140  # (33) Modal read counts value at a = teclipse + tpeak + tswitch\n",
    "v_LOD = 18  # Limit of detection of read counts value\n",
    "\n",
    "parameters_vl = [\n",
    "    t_eclipse, t_peak, t_switch, t_mod, t_LOD,\n",
    "    v_zero, v_peak, v_switch, v_LOD,\n",
    "    s_mod, sigma_obs]\n",
    "\n",
    "# Set read counts value for the suceptible and recovered individuals\n",
    "VR_susc = 40\n",
    "VR_rec = 40"
   ]
  },
  {
   "cell_type": "markdown",
   "metadata": {},
   "source": [
    "### Sample individuals at specific points in time"
   ]
  },
  {
   "cell_type": "code",
   "execution_count": 10,
   "metadata": {},
   "outputs": [],
   "source": [
    "# Sample indviduals on days 30, 80, 150 and 200\n",
    "sample_points = np.arange(start_time, end_time, 30)\n",
    "\n",
    "# Seelect sample size\n",
    "sample_size = 50\n",
    "\n",
    "vr_values = []\n",
    "infec = []\n",
    "time_since_infec = []\n",
    "\n",
    "for _ in range(num_experiments):\n",
    "    experiment_vr_values = []\n",
    "    experiment_infec = []\n",
    "    experiment_time_since_infec = []\n",
    "    # At each point in time sample sample_size individuals\n",
    "    for time in sample_points:\n",
    "        # Identify the current infections at the specified timepoint\n",
    "        current_infection_times = I_times_history_algorithm[_][time-1]\n",
    "\n",
    "        # Sample without replacement the sample_size individuals and\n",
    "        # determine their time since infection to produce Ct values\n",
    "        number_selected_susc, number_selected_infec, number_selected_rec = \\\n",
    "            multinomial.rvs(\n",
    "                n=sample_size,\n",
    "                p=output_algorithm[_, time-1, :]/np.sum(output_algorithm[_, time-1, :])) # determine how many of those sampled are S, I and R\n",
    "        \n",
    "        if len(current_infection_times) > 0:\n",
    "            # If we have at least one selected infection\n",
    "            selected_individuals_infec_times = np.random.choice(\n",
    "                current_infection_times,\n",
    "                size=number_selected_infec,\n",
    "                replace=False) # determine the time of infection of those sampled Is\n",
    "        \n",
    "            sample_time_since_infec = time - selected_individuals_infec_times # determine how long since infection for selected Is\n",
    "\n",
    "        # First add the Ct values for the sampled susceptibele and recovered individuals\n",
    "        sampled_vr_values = [VR_susc] * number_selected_susc + [VR_rec] * number_selected_rec\n",
    "\n",
    "        # Run Ct model to determine individual Ct counts for each sample\n",
    "        for ti in sample_time_since_infec:\n",
    "            sampled_vr_values.append(algorithm.viral_read_model(parameters_vl, ti))\n",
    "\n",
    "        experiment_vr_values.append(sampled_vr_values)\n",
    "        experiment_infec.append(number_selected_infec)\n",
    "        experiment_time_since_infec.append(sample_time_since_infec)\n",
    "    \n",
    "    vr_values.append(experiment_vr_values)\n",
    "    infec.append(experiment_infec)\n",
    "    time_since_infec.append(experiment_time_since_infec)\n",
    "\n",
    "vr_values = np.asarray(vr_values)\n",
    "infec = np.asarray(infec)"
   ]
  },
  {
   "cell_type": "markdown",
   "metadata": {},
   "source": [
    "### Plot Ct values for different experiments"
   ]
  },
  {
   "cell_type": "code",
   "execution_count": 11,
   "metadata": {},
   "outputs": [
    {
     "name": "stderr",
     "output_type": "stream",
     "text": [
      "/var/folders/ph/jyxnc9y52svgq2k5lt2q4r000000gp/T/ipykernel_45459/1022768152.py:4: RuntimeWarning:\n",
      "\n",
      "Precision loss occurred in moment calculation due to catastrophic cancellation. This occurs when the data are nearly identical. Results may be unreliable.\n",
      "\n"
     ]
    },
    {
     "name": "stdout",
     "output_type": "stream",
     "text": [
      "[-3.74008228  3.97016288  4.12568469  2.99060835         nan  3.58730404\n",
      "  3.30407455  3.05701142  6.67469944         nan  4.06234552  6.0949306 ]\n"
     ]
    },
    {
     "data": {
      "application/vnd.plotly.v1+json": {
       "config": {
        "plotlyServerURL": "https://plot.ly"
       },
       "data": [
        {
         "marker": {
          "color": {
           "bdata": "zESkQbDrDcBT7TvB5MIPQB5TF32zgBBA6QZPEsTsB0AAAAAAAAD4f6KIPHbMsgxAoHITo75uCkAU38BnwnQIQP8rF2nkshpAAAAAAAAA+H88DNSA1z8QQA865nw1YRhA",
           "dtype": "f8"
          },
          "colorbar": {
           "title": {
            "side": "top",
            "text": "Skew"
           }
          },
          "colorscale": [
           [
            0,
            "rgb(0,0,255)"
           ],
           [
            1,
            "rgb(255,0,0)"
           ]
          ],
          "line": {
           "color": "black",
           "width": 1.25
          },
          "opacity": 0.6,
          "showscale": true,
          "size": 12
         },
         "mode": "markers",
         "name": "Average Ct value",
         "showlegend": false,
         "type": "scatter",
         "x": {
          "bdata": "AQAfAD0AWwB5AJcAtQDTAPEADwEtAUsB",
          "dtype": "i2"
         },
         "xaxis": "x",
         "y": [
          40,
          40,
          40,
          40,
          40,
          40,
          40,
          40,
          40,
          40,
          40,
          40
         ],
         "yaxis": "y"
        },
        {
         "marker": {
          "color": {
           "bdata": "zESkQbDrDcBT7TvB5MIPQB5TF32zgBBA6QZPEsTsB0AAAAAAAAD4f6KIPHbMsgxAoHITo75uCkAU38BnwnQIQP8rF2nkshpAAAAAAAAA+H88DNSA1z8QQA865nw1YRhA",
           "dtype": "f8"
          },
          "colorbar": {
           "title": {
            "side": "top",
            "text": "Skew"
           }
          },
          "colorscale": [
           [
            0,
            "rgb(0,0,255)"
           ],
           [
            1,
            "rgb(255,0,0)"
           ]
          ],
          "line": {
           "color": "black",
           "width": 1.25
          },
          "opacity": 0.6,
          "showscale": true,
          "size": 12
         },
         "mode": "markers",
         "name": "Average Ct value",
         "showlegend": false,
         "type": "scatter",
         "x": {
          "bdata": "AQAfAD0AWwB5AJcAtQDTAPEADwEtAUsB",
          "dtype": "i2"
         },
         "xaxis": "x",
         "y": [
          40,
          40,
          40,
          40,
          40,
          40,
          40,
          40,
          40,
          40,
          40,
          40
         ],
         "yaxis": "y"
        },
        {
         "marker": {
          "color": {
           "bdata": "zESkQbDrDcBT7TvB5MIPQB5TF32zgBBA6QZPEsTsB0AAAAAAAAD4f6KIPHbMsgxAoHITo75uCkAU38BnwnQIQP8rF2nkshpAAAAAAAAA+H88DNSA1z8QQA865nw1YRhA",
           "dtype": "f8"
          },
          "colorbar": {
           "title": {
            "side": "top",
            "text": "Skew"
           }
          },
          "colorscale": [
           [
            0,
            "rgb(0,0,255)"
           ],
           [
            1,
            "rgb(255,0,0)"
           ]
          ],
          "line": {
           "color": "black",
           "width": 1.25
          },
          "opacity": 0.6,
          "showscale": true,
          "size": 12
         },
         "mode": "markers",
         "name": "Average Ct value",
         "showlegend": false,
         "type": "scatter",
         "x": {
          "bdata": "AQAfAD0AWwB5AJcAtQDTAPEADwEtAUsB",
          "dtype": "i2"
         },
         "xaxis": "x",
         "y": [
          40,
          40,
          40,
          40,
          40,
          40,
          40,
          40,
          40,
          40,
          40,
          40
         ],
         "yaxis": "y"
        },
        {
         "marker": {
          "color": {
           "bdata": "zESkQbDrDcBT7TvB5MIPQB5TF32zgBBA6QZPEsTsB0AAAAAAAAD4f6KIPHbMsgxAoHITo75uCkAU38BnwnQIQP8rF2nkshpAAAAAAAAA+H88DNSA1z8QQA865nw1YRhA",
           "dtype": "f8"
          },
          "colorbar": {
           "title": {
            "side": "top",
            "text": "Skew"
           }
          },
          "colorscale": [
           [
            0,
            "rgb(0,0,255)"
           ],
           [
            1,
            "rgb(255,0,0)"
           ]
          ],
          "line": {
           "color": "black",
           "width": 1.25
          },
          "opacity": 0.6,
          "showscale": true,
          "size": 12
         },
         "mode": "markers",
         "name": "Average Ct value",
         "showlegend": false,
         "type": "scatter",
         "x": {
          "bdata": "AQAfAD0AWwB5AJcAtQDTAPEADwEtAUsB",
          "dtype": "i2"
         },
         "xaxis": "x",
         "y": [
          40,
          40,
          40,
          40,
          40,
          40,
          40,
          40,
          40,
          40,
          40,
          40
         ],
         "yaxis": "y"
        },
        {
         "marker": {
          "color": {
           "bdata": "zESkQbDrDcBT7TvB5MIPQB5TF32zgBBA6QZPEsTsB0AAAAAAAAD4f6KIPHbMsgxAoHITo75uCkAU38BnwnQIQP8rF2nkshpAAAAAAAAA+H88DNSA1z8QQA865nw1YRhA",
           "dtype": "f8"
          },
          "colorbar": {
           "title": {
            "side": "top",
            "text": "Skew"
           }
          },
          "colorscale": [
           [
            0,
            "rgb(0,0,255)"
           ],
           [
            1,
            "rgb(255,0,0)"
           ]
          ],
          "line": {
           "color": "black",
           "width": 1.25
          },
          "opacity": 0.6,
          "showscale": true,
          "size": 12
         },
         "mode": "markers",
         "name": "Average Ct value",
         "showlegend": false,
         "type": "scatter",
         "x": {
          "bdata": "AQAfAD0AWwB5AJcAtQDTAPEADwEtAUsB",
          "dtype": "i2"
         },
         "xaxis": "x",
         "y": [
          40,
          40,
          40,
          40,
          40,
          40,
          40,
          40,
          40,
          40,
          40,
          40
         ],
         "yaxis": "y"
        },
        {
         "marker": {
          "color": {
           "bdata": "zESkQbDrDcBT7TvB5MIPQB5TF32zgBBA6QZPEsTsB0AAAAAAAAD4f6KIPHbMsgxAoHITo75uCkAU38BnwnQIQP8rF2nkshpAAAAAAAAA+H88DNSA1z8QQA865nw1YRhA",
           "dtype": "f8"
          },
          "colorbar": {
           "title": {
            "side": "top",
            "text": "Skew"
           }
          },
          "colorscale": [
           [
            0,
            "rgb(0,0,255)"
           ],
           [
            1,
            "rgb(255,0,0)"
           ]
          ],
          "line": {
           "color": "black",
           "width": 1.25
          },
          "opacity": 0.6,
          "showscale": true,
          "size": 12
         },
         "mode": "markers",
         "name": "Average Ct value",
         "showlegend": false,
         "type": "scatter",
         "x": {
          "bdata": "AQAfAD0AWwB5AJcAtQDTAPEADwEtAUsB",
          "dtype": "i2"
         },
         "xaxis": "x",
         "y": [
          40,
          40,
          40,
          40,
          40,
          40,
          40,
          40,
          40,
          40,
          40,
          40
         ],
         "yaxis": "y"
        },
        {
         "marker": {
          "color": {
           "bdata": "zESkQbDrDcBT7TvB5MIPQB5TF32zgBBA6QZPEsTsB0AAAAAAAAD4f6KIPHbMsgxAoHITo75uCkAU38BnwnQIQP8rF2nkshpAAAAAAAAA+H88DNSA1z8QQA865nw1YRhA",
           "dtype": "f8"
          },
          "colorbar": {
           "title": {
            "side": "top",
            "text": "Skew"
           }
          },
          "colorscale": [
           [
            0,
            "rgb(0,0,255)"
           ],
           [
            1,
            "rgb(255,0,0)"
           ]
          ],
          "line": {
           "color": "black",
           "width": 1.25
          },
          "opacity": 0.6,
          "showscale": true,
          "size": 12
         },
         "mode": "markers",
         "name": "Average Ct value",
         "showlegend": false,
         "type": "scatter",
         "x": {
          "bdata": "AQAfAD0AWwB5AJcAtQDTAPEADwEtAUsB",
          "dtype": "i2"
         },
         "xaxis": "x",
         "y": [
          40,
          40,
          40,
          40,
          40,
          40,
          40,
          40,
          40,
          40,
          40,
          40
         ],
         "yaxis": "y"
        },
        {
         "marker": {
          "color": {
           "bdata": "zESkQbDrDcBT7TvB5MIPQB5TF32zgBBA6QZPEsTsB0AAAAAAAAD4f6KIPHbMsgxAoHITo75uCkAU38BnwnQIQP8rF2nkshpAAAAAAAAA+H88DNSA1z8QQA865nw1YRhA",
           "dtype": "f8"
          },
          "colorbar": {
           "title": {
            "side": "top",
            "text": "Skew"
           }
          },
          "colorscale": [
           [
            0,
            "rgb(0,0,255)"
           ],
           [
            1,
            "rgb(255,0,0)"
           ]
          ],
          "line": {
           "color": "black",
           "width": 1.25
          },
          "opacity": 0.6,
          "showscale": true,
          "size": 12
         },
         "mode": "markers",
         "name": "Average Ct value",
         "showlegend": false,
         "type": "scatter",
         "x": {
          "bdata": "AQAfAD0AWwB5AJcAtQDTAPEADwEtAUsB",
          "dtype": "i2"
         },
         "xaxis": "x",
         "y": [
          40,
          40,
          40,
          40,
          40,
          40,
          40,
          40,
          40,
          40,
          40,
          40
         ],
         "yaxis": "y"
        },
        {
         "marker": {
          "color": {
           "bdata": "zESkQbDrDcBT7TvB5MIPQB5TF32zgBBA6QZPEsTsB0AAAAAAAAD4f6KIPHbMsgxAoHITo75uCkAU38BnwnQIQP8rF2nkshpAAAAAAAAA+H88DNSA1z8QQA865nw1YRhA",
           "dtype": "f8"
          },
          "colorbar": {
           "title": {
            "side": "top",
            "text": "Skew"
           }
          },
          "colorscale": [
           [
            0,
            "rgb(0,0,255)"
           ],
           [
            1,
            "rgb(255,0,0)"
           ]
          ],
          "line": {
           "color": "black",
           "width": 1.25
          },
          "opacity": 0.6,
          "showscale": true,
          "size": 12
         },
         "mode": "markers",
         "name": "Average Ct value",
         "showlegend": false,
         "type": "scatter",
         "x": {
          "bdata": "AQAfAD0AWwB5AJcAtQDTAPEADwEtAUsB",
          "dtype": "i2"
         },
         "xaxis": "x",
         "y": [
          40,
          40,
          40,
          40,
          40,
          40,
          40,
          40,
          40,
          40,
          40,
          40
         ],
         "yaxis": "y"
        },
        {
         "marker": {
          "color": {
           "bdata": "zESkQbDrDcBT7TvB5MIPQB5TF32zgBBA6QZPEsTsB0AAAAAAAAD4f6KIPHbMsgxAoHITo75uCkAU38BnwnQIQP8rF2nkshpAAAAAAAAA+H88DNSA1z8QQA865nw1YRhA",
           "dtype": "f8"
          },
          "colorbar": {
           "title": {
            "side": "top",
            "text": "Skew"
           }
          },
          "colorscale": [
           [
            0,
            "rgb(0,0,255)"
           ],
           [
            1,
            "rgb(255,0,0)"
           ]
          ],
          "line": {
           "color": "black",
           "width": 1.25
          },
          "opacity": 0.6,
          "showscale": true,
          "size": 12
         },
         "mode": "markers",
         "name": "Average Ct value",
         "showlegend": false,
         "type": "scatter",
         "x": {
          "bdata": "AQAfAD0AWwB5AJcAtQDTAPEADwEtAUsB",
          "dtype": "i2"
         },
         "xaxis": "x",
         "y": [
          40,
          40,
          40,
          40,
          40,
          40,
          40,
          40,
          40,
          40,
          40,
          40
         ],
         "yaxis": "y"
        },
        {
         "marker": {
          "color": {
           "bdata": "zESkQbDrDcBT7TvB5MIPQB5TF32zgBBA6QZPEsTsB0AAAAAAAAD4f6KIPHbMsgxAoHITo75uCkAU38BnwnQIQP8rF2nkshpAAAAAAAAA+H88DNSA1z8QQA865nw1YRhA",
           "dtype": "f8"
          },
          "colorbar": {
           "title": {
            "side": "top",
            "text": "Skew"
           }
          },
          "colorscale": [
           [
            0,
            "rgb(0,0,255)"
           ],
           [
            1,
            "rgb(255,0,0)"
           ]
          ],
          "line": {
           "color": "black",
           "width": 1.25
          },
          "opacity": 0.6,
          "showscale": true,
          "size": 12
         },
         "mode": "markers",
         "name": "Average Ct value",
         "showlegend": false,
         "type": "scatter",
         "x": {
          "bdata": "AQAfAD0AWwB5AJcAtQDTAPEADwEtAUsB",
          "dtype": "i2"
         },
         "xaxis": "x",
         "y": [
          40,
          40,
          40,
          40,
          40,
          40,
          40,
          40,
          40,
          40,
          40,
          40
         ],
         "yaxis": "y"
        },
        {
         "marker": {
          "color": {
           "bdata": "zESkQbDrDcBT7TvB5MIPQB5TF32zgBBA6QZPEsTsB0AAAAAAAAD4f6KIPHbMsgxAoHITo75uCkAU38BnwnQIQP8rF2nkshpAAAAAAAAA+H88DNSA1z8QQA865nw1YRhA",
           "dtype": "f8"
          },
          "colorbar": {
           "title": {
            "side": "top",
            "text": "Skew"
           }
          },
          "colorscale": [
           [
            0,
            "rgb(0,0,255)"
           ],
           [
            1,
            "rgb(255,0,0)"
           ]
          ],
          "line": {
           "color": "black",
           "width": 1.25
          },
          "opacity": 0.6,
          "showscale": true,
          "size": 12
         },
         "mode": "markers",
         "name": "Average Ct value",
         "showlegend": false,
         "type": "scatter",
         "x": {
          "bdata": "AQAfAD0AWwB5AJcAtQDTAPEADwEtAUsB",
          "dtype": "i2"
         },
         "xaxis": "x",
         "y": [
          40,
          40,
          40,
          40,
          40,
          40,
          40,
          40,
          40,
          40,
          40,
          40
         ],
         "yaxis": "y"
        },
        {
         "marker": {
          "color": {
           "bdata": "zESkQbDrDcBT7TvB5MIPQB5TF32zgBBA6QZPEsTsB0AAAAAAAAD4f6KIPHbMsgxAoHITo75uCkAU38BnwnQIQP8rF2nkshpAAAAAAAAA+H88DNSA1z8QQA865nw1YRhA",
           "dtype": "f8"
          },
          "colorbar": {
           "title": {
            "side": "top",
            "text": "Skew"
           }
          },
          "colorscale": [
           [
            0,
            "rgb(0,0,255)"
           ],
           [
            1,
            "rgb(255,0,0)"
           ]
          ],
          "line": {
           "color": "black",
           "width": 1.25
          },
          "opacity": 0.6,
          "showscale": true,
          "size": 12
         },
         "mode": "markers",
         "name": "Average Ct value",
         "showlegend": false,
         "type": "scatter",
         "x": {
          "bdata": "AQAfAD0AWwB5AJcAtQDTAPEADwEtAUsB",
          "dtype": "i2"
         },
         "xaxis": "x",
         "y": [
          40,
          40,
          40,
          40,
          40,
          40,
          40,
          40,
          40,
          40,
          40,
          40
         ],
         "yaxis": "y"
        },
        {
         "marker": {
          "color": {
           "bdata": "zESkQbDrDcBT7TvB5MIPQB5TF32zgBBA6QZPEsTsB0AAAAAAAAD4f6KIPHbMsgxAoHITo75uCkAU38BnwnQIQP8rF2nkshpAAAAAAAAA+H88DNSA1z8QQA865nw1YRhA",
           "dtype": "f8"
          },
          "colorbar": {
           "title": {
            "side": "top",
            "text": "Skew"
           }
          },
          "colorscale": [
           [
            0,
            "rgb(0,0,255)"
           ],
           [
            1,
            "rgb(255,0,0)"
           ]
          ],
          "line": {
           "color": "black",
           "width": 1.25
          },
          "opacity": 0.6,
          "showscale": true,
          "size": 12
         },
         "mode": "markers",
         "name": "Average Ct value",
         "showlegend": false,
         "type": "scatter",
         "x": {
          "bdata": "AQAfAD0AWwB5AJcAtQDTAPEADwEtAUsB",
          "dtype": "i2"
         },
         "xaxis": "x",
         "y": [
          40,
          40,
          40,
          40,
          40,
          40,
          40,
          40,
          40,
          40,
          40,
          40
         ],
         "yaxis": "y"
        },
        {
         "marker": {
          "color": {
           "bdata": "zESkQbDrDcBT7TvB5MIPQB5TF32zgBBA6QZPEsTsB0AAAAAAAAD4f6KIPHbMsgxAoHITo75uCkAU38BnwnQIQP8rF2nkshpAAAAAAAAA+H88DNSA1z8QQA865nw1YRhA",
           "dtype": "f8"
          },
          "colorbar": {
           "title": {
            "side": "top",
            "text": "Skew"
           }
          },
          "colorscale": [
           [
            0,
            "rgb(0,0,255)"
           ],
           [
            1,
            "rgb(255,0,0)"
           ]
          ],
          "line": {
           "color": "black",
           "width": 1.25
          },
          "opacity": 0.6,
          "showscale": true,
          "size": 12
         },
         "mode": "markers",
         "name": "Average Ct value",
         "showlegend": false,
         "type": "scatter",
         "x": {
          "bdata": "AQAfAD0AWwB5AJcAtQDTAPEADwEtAUsB",
          "dtype": "i2"
         },
         "xaxis": "x",
         "y": [
          40,
          40,
          40,
          40,
          40,
          40,
          40,
          40,
          40,
          40,
          40,
          40
         ],
         "yaxis": "y"
        },
        {
         "marker": {
          "color": {
           "bdata": "zESkQbDrDcBT7TvB5MIPQB5TF32zgBBA6QZPEsTsB0AAAAAAAAD4f6KIPHbMsgxAoHITo75uCkAU38BnwnQIQP8rF2nkshpAAAAAAAAA+H88DNSA1z8QQA865nw1YRhA",
           "dtype": "f8"
          },
          "colorbar": {
           "title": {
            "side": "top",
            "text": "Skew"
           }
          },
          "colorscale": [
           [
            0,
            "rgb(0,0,255)"
           ],
           [
            1,
            "rgb(255,0,0)"
           ]
          ],
          "line": {
           "color": "black",
           "width": 1.25
          },
          "opacity": 0.6,
          "showscale": true,
          "size": 12
         },
         "mode": "markers",
         "name": "Average Ct value",
         "showlegend": false,
         "type": "scatter",
         "x": {
          "bdata": "AQAfAD0AWwB5AJcAtQDTAPEADwEtAUsB",
          "dtype": "i2"
         },
         "xaxis": "x",
         "y": [
          40,
          40,
          40,
          40,
          40,
          40,
          40,
          40,
          40,
          40,
          40,
          40
         ],
         "yaxis": "y"
        },
        {
         "marker": {
          "color": {
           "bdata": "zESkQbDrDcBT7TvB5MIPQB5TF32zgBBA6QZPEsTsB0AAAAAAAAD4f6KIPHbMsgxAoHITo75uCkAU38BnwnQIQP8rF2nkshpAAAAAAAAA+H88DNSA1z8QQA865nw1YRhA",
           "dtype": "f8"
          },
          "colorbar": {
           "title": {
            "side": "top",
            "text": "Skew"
           }
          },
          "colorscale": [
           [
            0,
            "rgb(0,0,255)"
           ],
           [
            1,
            "rgb(255,0,0)"
           ]
          ],
          "line": {
           "color": "black",
           "width": 1.25
          },
          "opacity": 0.6,
          "showscale": true,
          "size": 12
         },
         "mode": "markers",
         "name": "Average Ct value",
         "showlegend": false,
         "type": "scatter",
         "x": {
          "bdata": "AQAfAD0AWwB5AJcAtQDTAPEADwEtAUsB",
          "dtype": "i2"
         },
         "xaxis": "x",
         "y": [
          40,
          40,
          40,
          40,
          40,
          40,
          40,
          40,
          40,
          40,
          40,
          40
         ],
         "yaxis": "y"
        },
        {
         "marker": {
          "color": {
           "bdata": "zESkQbDrDcBT7TvB5MIPQB5TF32zgBBA6QZPEsTsB0AAAAAAAAD4f6KIPHbMsgxAoHITo75uCkAU38BnwnQIQP8rF2nkshpAAAAAAAAA+H88DNSA1z8QQA865nw1YRhA",
           "dtype": "f8"
          },
          "colorbar": {
           "title": {
            "side": "top",
            "text": "Skew"
           }
          },
          "colorscale": [
           [
            0,
            "rgb(0,0,255)"
           ],
           [
            1,
            "rgb(255,0,0)"
           ]
          ],
          "line": {
           "color": "black",
           "width": 1.25
          },
          "opacity": 0.6,
          "showscale": true,
          "size": 12
         },
         "mode": "markers",
         "name": "Average Ct value",
         "showlegend": false,
         "type": "scatter",
         "x": {
          "bdata": "AQAfAD0AWwB5AJcAtQDTAPEADwEtAUsB",
          "dtype": "i2"
         },
         "xaxis": "x",
         "y": [
          40,
          40,
          40,
          40,
          40,
          40,
          40,
          40,
          40,
          40,
          40,
          40
         ],
         "yaxis": "y"
        },
        {
         "marker": {
          "color": {
           "bdata": "zESkQbDrDcBT7TvB5MIPQB5TF32zgBBA6QZPEsTsB0AAAAAAAAD4f6KIPHbMsgxAoHITo75uCkAU38BnwnQIQP8rF2nkshpAAAAAAAAA+H88DNSA1z8QQA865nw1YRhA",
           "dtype": "f8"
          },
          "colorbar": {
           "title": {
            "side": "top",
            "text": "Skew"
           }
          },
          "colorscale": [
           [
            0,
            "rgb(0,0,255)"
           ],
           [
            1,
            "rgb(255,0,0)"
           ]
          ],
          "line": {
           "color": "black",
           "width": 1.25
          },
          "opacity": 0.6,
          "showscale": true,
          "size": 12
         },
         "mode": "markers",
         "name": "Average Ct value",
         "showlegend": false,
         "type": "scatter",
         "x": {
          "bdata": "AQAfAD0AWwB5AJcAtQDTAPEADwEtAUsB",
          "dtype": "i2"
         },
         "xaxis": "x",
         "y": [
          40,
          40,
          40,
          40,
          40,
          40,
          40,
          40,
          40,
          40,
          40,
          40
         ],
         "yaxis": "y"
        },
        {
         "marker": {
          "color": {
           "bdata": "zESkQbDrDcBT7TvB5MIPQB5TF32zgBBA6QZPEsTsB0AAAAAAAAD4f6KIPHbMsgxAoHITo75uCkAU38BnwnQIQP8rF2nkshpAAAAAAAAA+H88DNSA1z8QQA865nw1YRhA",
           "dtype": "f8"
          },
          "colorbar": {
           "title": {
            "side": "top",
            "text": "Skew"
           }
          },
          "colorscale": [
           [
            0,
            "rgb(0,0,255)"
           ],
           [
            1,
            "rgb(255,0,0)"
           ]
          ],
          "line": {
           "color": "black",
           "width": 1.25
          },
          "opacity": 0.6,
          "showscale": true,
          "size": 12
         },
         "mode": "markers",
         "name": "Average Ct value",
         "showlegend": false,
         "type": "scatter",
         "x": {
          "bdata": "AQAfAD0AWwB5AJcAtQDTAPEADwEtAUsB",
          "dtype": "i2"
         },
         "xaxis": "x",
         "y": [
          40,
          40,
          40,
          40,
          40,
          40,
          40,
          40,
          40,
          40,
          40,
          40
         ],
         "yaxis": "y"
        },
        {
         "marker": {
          "color": {
           "bdata": "zESkQbDrDcBT7TvB5MIPQB5TF32zgBBA6QZPEsTsB0AAAAAAAAD4f6KIPHbMsgxAoHITo75uCkAU38BnwnQIQP8rF2nkshpAAAAAAAAA+H88DNSA1z8QQA865nw1YRhA",
           "dtype": "f8"
          },
          "colorbar": {
           "title": {
            "side": "top",
            "text": "Skew"
           }
          },
          "colorscale": [
           [
            0,
            "rgb(0,0,255)"
           ],
           [
            1,
            "rgb(255,0,0)"
           ]
          ],
          "line": {
           "color": "black",
           "width": 1.25
          },
          "opacity": 0.6,
          "showscale": true,
          "size": 12
         },
         "mode": "markers",
         "name": "Average Ct value",
         "showlegend": false,
         "type": "scatter",
         "x": {
          "bdata": "AQAfAD0AWwB5AJcAtQDTAPEADwEtAUsB",
          "dtype": "i2"
         },
         "xaxis": "x",
         "y": [
          40,
          40,
          40,
          40,
          40,
          40,
          40,
          40,
          40,
          40,
          40,
          40
         ],
         "yaxis": "y"
        },
        {
         "marker": {
          "color": {
           "bdata": "zESkQbDrDcBT7TvB5MIPQB5TF32zgBBA6QZPEsTsB0AAAAAAAAD4f6KIPHbMsgxAoHITo75uCkAU38BnwnQIQP8rF2nkshpAAAAAAAAA+H88DNSA1z8QQA865nw1YRhA",
           "dtype": "f8"
          },
          "colorbar": {
           "title": {
            "side": "top",
            "text": "Skew"
           }
          },
          "colorscale": [
           [
            0,
            "rgb(0,0,255)"
           ],
           [
            1,
            "rgb(255,0,0)"
           ]
          ],
          "line": {
           "color": "black",
           "width": 1.25
          },
          "opacity": 0.6,
          "showscale": true,
          "size": 12
         },
         "mode": "markers",
         "name": "Average Ct value",
         "showlegend": false,
         "type": "scatter",
         "x": {
          "bdata": "AQAfAD0AWwB5AJcAtQDTAPEADwEtAUsB",
          "dtype": "i2"
         },
         "xaxis": "x",
         "y": [
          40,
          40,
          40,
          40,
          40,
          40,
          40,
          40,
          40,
          40,
          40,
          40
         ],
         "yaxis": "y"
        },
        {
         "marker": {
          "color": {
           "bdata": "zESkQbDrDcBT7TvB5MIPQB5TF32zgBBA6QZPEsTsB0AAAAAAAAD4f6KIPHbMsgxAoHITo75uCkAU38BnwnQIQP8rF2nkshpAAAAAAAAA+H88DNSA1z8QQA865nw1YRhA",
           "dtype": "f8"
          },
          "colorbar": {
           "title": {
            "side": "top",
            "text": "Skew"
           }
          },
          "colorscale": [
           [
            0,
            "rgb(0,0,255)"
           ],
           [
            1,
            "rgb(255,0,0)"
           ]
          ],
          "line": {
           "color": "black",
           "width": 1.25
          },
          "opacity": 0.6,
          "showscale": true,
          "size": 12
         },
         "mode": "markers",
         "name": "Average Ct value",
         "showlegend": false,
         "type": "scatter",
         "x": {
          "bdata": "AQAfAD0AWwB5AJcAtQDTAPEADwEtAUsB",
          "dtype": "i2"
         },
         "xaxis": "x",
         "y": [
          40,
          40,
          40,
          40,
          40,
          40,
          40,
          40,
          40,
          40,
          40,
          40
         ],
         "yaxis": "y"
        },
        {
         "marker": {
          "color": {
           "bdata": "zESkQbDrDcBT7TvB5MIPQB5TF32zgBBA6QZPEsTsB0AAAAAAAAD4f6KIPHbMsgxAoHITo75uCkAU38BnwnQIQP8rF2nkshpAAAAAAAAA+H88DNSA1z8QQA865nw1YRhA",
           "dtype": "f8"
          },
          "colorbar": {
           "title": {
            "side": "top",
            "text": "Skew"
           }
          },
          "colorscale": [
           [
            0,
            "rgb(0,0,255)"
           ],
           [
            1,
            "rgb(255,0,0)"
           ]
          ],
          "line": {
           "color": "black",
           "width": 1.25
          },
          "opacity": 0.6,
          "showscale": true,
          "size": 12
         },
         "mode": "markers",
         "name": "Average Ct value",
         "showlegend": false,
         "type": "scatter",
         "x": {
          "bdata": "AQAfAD0AWwB5AJcAtQDTAPEADwEtAUsB",
          "dtype": "i2"
         },
         "xaxis": "x",
         "y": [
          40,
          40,
          40,
          40,
          40,
          40,
          40,
          40,
          40,
          40,
          40,
          40
         ],
         "yaxis": "y"
        },
        {
         "marker": {
          "color": {
           "bdata": "zESkQbDrDcBT7TvB5MIPQB5TF32zgBBA6QZPEsTsB0AAAAAAAAD4f6KIPHbMsgxAoHITo75uCkAU38BnwnQIQP8rF2nkshpAAAAAAAAA+H88DNSA1z8QQA865nw1YRhA",
           "dtype": "f8"
          },
          "colorbar": {
           "title": {
            "side": "top",
            "text": "Skew"
           }
          },
          "colorscale": [
           [
            0,
            "rgb(0,0,255)"
           ],
           [
            1,
            "rgb(255,0,0)"
           ]
          ],
          "line": {
           "color": "black",
           "width": 1.25
          },
          "opacity": 0.6,
          "showscale": true,
          "size": 12
         },
         "mode": "markers",
         "name": "Average Ct value",
         "showlegend": false,
         "type": "scatter",
         "x": {
          "bdata": "AQAfAD0AWwB5AJcAtQDTAPEADwEtAUsB",
          "dtype": "i2"
         },
         "xaxis": "x",
         "y": [
          40,
          40,
          40,
          40,
          40,
          40,
          40,
          40,
          40,
          40,
          40,
          40
         ],
         "yaxis": "y"
        },
        {
         "marker": {
          "color": {
           "bdata": "zESkQbDrDcBT7TvB5MIPQB5TF32zgBBA6QZPEsTsB0AAAAAAAAD4f6KIPHbMsgxAoHITo75uCkAU38BnwnQIQP8rF2nkshpAAAAAAAAA+H88DNSA1z8QQA865nw1YRhA",
           "dtype": "f8"
          },
          "colorbar": {
           "title": {
            "side": "top",
            "text": "Skew"
           }
          },
          "colorscale": [
           [
            0,
            "rgb(0,0,255)"
           ],
           [
            1,
            "rgb(255,0,0)"
           ]
          ],
          "line": {
           "color": "black",
           "width": 1.25
          },
          "opacity": 0.6,
          "showscale": true,
          "size": 12
         },
         "mode": "markers",
         "name": "Average Ct value",
         "showlegend": false,
         "type": "scatter",
         "x": {
          "bdata": "AQAfAD0AWwB5AJcAtQDTAPEADwEtAUsB",
          "dtype": "i2"
         },
         "xaxis": "x",
         "y": [
          40,
          40,
          40,
          40,
          40,
          40,
          40,
          40,
          40,
          40,
          40,
          40
         ],
         "yaxis": "y"
        },
        {
         "marker": {
          "color": {
           "bdata": "zESkQbDrDcBT7TvB5MIPQB5TF32zgBBA6QZPEsTsB0AAAAAAAAD4f6KIPHbMsgxAoHITo75uCkAU38BnwnQIQP8rF2nkshpAAAAAAAAA+H88DNSA1z8QQA865nw1YRhA",
           "dtype": "f8"
          },
          "colorbar": {
           "title": {
            "side": "top",
            "text": "Skew"
           }
          },
          "colorscale": [
           [
            0,
            "rgb(0,0,255)"
           ],
           [
            1,
            "rgb(255,0,0)"
           ]
          ],
          "line": {
           "color": "black",
           "width": 1.25
          },
          "opacity": 0.6,
          "showscale": true,
          "size": 12
         },
         "mode": "markers",
         "name": "Average Ct value",
         "showlegend": false,
         "type": "scatter",
         "x": {
          "bdata": "AQAfAD0AWwB5AJcAtQDTAPEADwEtAUsB",
          "dtype": "i2"
         },
         "xaxis": "x",
         "y": [
          40,
          40,
          40,
          40,
          40,
          40,
          40,
          40,
          40,
          40,
          40,
          40
         ],
         "yaxis": "y"
        },
        {
         "marker": {
          "color": {
           "bdata": "zESkQbDrDcBT7TvB5MIPQB5TF32zgBBA6QZPEsTsB0AAAAAAAAD4f6KIPHbMsgxAoHITo75uCkAU38BnwnQIQP8rF2nkshpAAAAAAAAA+H88DNSA1z8QQA865nw1YRhA",
           "dtype": "f8"
          },
          "colorbar": {
           "title": {
            "side": "top",
            "text": "Skew"
           }
          },
          "colorscale": [
           [
            0,
            "rgb(0,0,255)"
           ],
           [
            1,
            "rgb(255,0,0)"
           ]
          ],
          "line": {
           "color": "black",
           "width": 1.25
          },
          "opacity": 0.6,
          "showscale": true,
          "size": 12
         },
         "mode": "markers",
         "name": "Average Ct value",
         "showlegend": false,
         "type": "scatter",
         "x": {
          "bdata": "AQAfAD0AWwB5AJcAtQDTAPEADwEtAUsB",
          "dtype": "i2"
         },
         "xaxis": "x",
         "y": [
          40,
          40,
          40,
          40,
          40,
          40,
          40,
          40,
          40,
          40,
          40,
          40
         ],
         "yaxis": "y"
        },
        {
         "marker": {
          "color": {
           "bdata": "zESkQbDrDcBT7TvB5MIPQB5TF32zgBBA6QZPEsTsB0AAAAAAAAD4f6KIPHbMsgxAoHITo75uCkAU38BnwnQIQP8rF2nkshpAAAAAAAAA+H88DNSA1z8QQA865nw1YRhA",
           "dtype": "f8"
          },
          "colorbar": {
           "title": {
            "side": "top",
            "text": "Skew"
           }
          },
          "colorscale": [
           [
            0,
            "rgb(0,0,255)"
           ],
           [
            1,
            "rgb(255,0,0)"
           ]
          ],
          "line": {
           "color": "black",
           "width": 1.25
          },
          "opacity": 0.6,
          "showscale": true,
          "size": 12
         },
         "mode": "markers",
         "name": "Average Ct value",
         "showlegend": false,
         "type": "scatter",
         "x": {
          "bdata": "AQAfAD0AWwB5AJcAtQDTAPEADwEtAUsB",
          "dtype": "i2"
         },
         "xaxis": "x",
         "y": [
          40,
          40,
          40,
          40,
          40,
          40,
          40,
          40,
          40,
          40,
          40,
          40
         ],
         "yaxis": "y"
        },
        {
         "marker": {
          "color": {
           "bdata": "zESkQbDrDcBT7TvB5MIPQB5TF32zgBBA6QZPEsTsB0AAAAAAAAD4f6KIPHbMsgxAoHITo75uCkAU38BnwnQIQP8rF2nkshpAAAAAAAAA+H88DNSA1z8QQA865nw1YRhA",
           "dtype": "f8"
          },
          "colorbar": {
           "title": {
            "side": "top",
            "text": "Skew"
           }
          },
          "colorscale": [
           [
            0,
            "rgb(0,0,255)"
           ],
           [
            1,
            "rgb(255,0,0)"
           ]
          ],
          "line": {
           "color": "black",
           "width": 1.25
          },
          "opacity": 0.6,
          "showscale": true,
          "size": 12
         },
         "mode": "markers",
         "name": "Average Ct value",
         "showlegend": false,
         "type": "scatter",
         "x": {
          "bdata": "AQAfAD0AWwB5AJcAtQDTAPEADwEtAUsB",
          "dtype": "i2"
         },
         "xaxis": "x",
         "y": [
          40,
          40,
          40,
          40,
          40,
          40,
          40,
          40,
          40,
          40,
          40,
          40
         ],
         "yaxis": "y"
        },
        {
         "marker": {
          "color": {
           "bdata": "zESkQbDrDcBT7TvB5MIPQB5TF32zgBBA6QZPEsTsB0AAAAAAAAD4f6KIPHbMsgxAoHITo75uCkAU38BnwnQIQP8rF2nkshpAAAAAAAAA+H88DNSA1z8QQA865nw1YRhA",
           "dtype": "f8"
          },
          "colorbar": {
           "title": {
            "side": "top",
            "text": "Skew"
           }
          },
          "colorscale": [
           [
            0,
            "rgb(0,0,255)"
           ],
           [
            1,
            "rgb(255,0,0)"
           ]
          ],
          "line": {
           "color": "black",
           "width": 1.25
          },
          "opacity": 0.6,
          "showscale": true,
          "size": 12
         },
         "mode": "markers",
         "name": "Average Ct value",
         "showlegend": false,
         "type": "scatter",
         "x": {
          "bdata": "AQAfAD0AWwB5AJcAtQDTAPEADwEtAUsB",
          "dtype": "i2"
         },
         "xaxis": "x",
         "y": [
          40,
          40,
          40,
          40,
          40,
          40,
          40,
          40,
          40,
          40,
          40,
          40
         ],
         "yaxis": "y"
        },
        {
         "marker": {
          "color": {
           "bdata": "zESkQbDrDcBT7TvB5MIPQB5TF32zgBBA6QZPEsTsB0AAAAAAAAD4f6KIPHbMsgxAoHITo75uCkAU38BnwnQIQP8rF2nkshpAAAAAAAAA+H88DNSA1z8QQA865nw1YRhA",
           "dtype": "f8"
          },
          "colorbar": {
           "title": {
            "side": "top",
            "text": "Skew"
           }
          },
          "colorscale": [
           [
            0,
            "rgb(0,0,255)"
           ],
           [
            1,
            "rgb(255,0,0)"
           ]
          ],
          "line": {
           "color": "black",
           "width": 1.25
          },
          "opacity": 0.6,
          "showscale": true,
          "size": 12
         },
         "mode": "markers",
         "name": "Average Ct value",
         "showlegend": false,
         "type": "scatter",
         "x": {
          "bdata": "AQAfAD0AWwB5AJcAtQDTAPEADwEtAUsB",
          "dtype": "i2"
         },
         "xaxis": "x",
         "y": [
          40,
          40,
          40,
          40,
          40,
          40,
          40,
          40,
          40,
          40,
          40,
          40
         ],
         "yaxis": "y"
        },
        {
         "marker": {
          "color": {
           "bdata": "zESkQbDrDcBT7TvB5MIPQB5TF32zgBBA6QZPEsTsB0AAAAAAAAD4f6KIPHbMsgxAoHITo75uCkAU38BnwnQIQP8rF2nkshpAAAAAAAAA+H88DNSA1z8QQA865nw1YRhA",
           "dtype": "f8"
          },
          "colorbar": {
           "title": {
            "side": "top",
            "text": "Skew"
           }
          },
          "colorscale": [
           [
            0,
            "rgb(0,0,255)"
           ],
           [
            1,
            "rgb(255,0,0)"
           ]
          ],
          "line": {
           "color": "black",
           "width": 1.25
          },
          "opacity": 0.6,
          "showscale": true,
          "size": 12
         },
         "mode": "markers",
         "name": "Average Ct value",
         "showlegend": false,
         "type": "scatter",
         "x": {
          "bdata": "AQAfAD0AWwB5AJcAtQDTAPEADwEtAUsB",
          "dtype": "i2"
         },
         "xaxis": "x",
         "y": [
          40,
          40,
          40,
          40,
          40,
          40,
          40,
          40,
          40,
          40,
          40,
          40
         ],
         "yaxis": "y"
        },
        {
         "marker": {
          "color": {
           "bdata": "zESkQbDrDcBT7TvB5MIPQB5TF32zgBBA6QZPEsTsB0AAAAAAAAD4f6KIPHbMsgxAoHITo75uCkAU38BnwnQIQP8rF2nkshpAAAAAAAAA+H88DNSA1z8QQA865nw1YRhA",
           "dtype": "f8"
          },
          "colorbar": {
           "title": {
            "side": "top",
            "text": "Skew"
           }
          },
          "colorscale": [
           [
            0,
            "rgb(0,0,255)"
           ],
           [
            1,
            "rgb(255,0,0)"
           ]
          ],
          "line": {
           "color": "black",
           "width": 1.25
          },
          "opacity": 0.6,
          "showscale": true,
          "size": 12
         },
         "mode": "markers",
         "name": "Average Ct value",
         "showlegend": false,
         "type": "scatter",
         "x": {
          "bdata": "AQAfAD0AWwB5AJcAtQDTAPEADwEtAUsB",
          "dtype": "i2"
         },
         "xaxis": "x",
         "y": [
          40,
          40,
          40,
          40,
          40,
          40,
          40,
          40,
          40,
          40,
          40,
          40
         ],
         "yaxis": "y"
        },
        {
         "marker": {
          "color": {
           "bdata": "zESkQbDrDcBT7TvB5MIPQB5TF32zgBBA6QZPEsTsB0AAAAAAAAD4f6KIPHbMsgxAoHITo75uCkAU38BnwnQIQP8rF2nkshpAAAAAAAAA+H88DNSA1z8QQA865nw1YRhA",
           "dtype": "f8"
          },
          "colorbar": {
           "title": {
            "side": "top",
            "text": "Skew"
           }
          },
          "colorscale": [
           [
            0,
            "rgb(0,0,255)"
           ],
           [
            1,
            "rgb(255,0,0)"
           ]
          ],
          "line": {
           "color": "black",
           "width": 1.25
          },
          "opacity": 0.6,
          "showscale": true,
          "size": 12
         },
         "mode": "markers",
         "name": "Average Ct value",
         "showlegend": false,
         "type": "scatter",
         "x": {
          "bdata": "AQAfAD0AWwB5AJcAtQDTAPEADwEtAUsB",
          "dtype": "i2"
         },
         "xaxis": "x",
         "y": [
          40,
          40,
          40,
          40,
          40,
          40,
          40,
          40,
          40,
          40,
          40,
          40
         ],
         "yaxis": "y"
        },
        {
         "marker": {
          "color": {
           "bdata": "zESkQbDrDcBT7TvB5MIPQB5TF32zgBBA6QZPEsTsB0AAAAAAAAD4f6KIPHbMsgxAoHITo75uCkAU38BnwnQIQP8rF2nkshpAAAAAAAAA+H88DNSA1z8QQA865nw1YRhA",
           "dtype": "f8"
          },
          "colorbar": {
           "title": {
            "side": "top",
            "text": "Skew"
           }
          },
          "colorscale": [
           [
            0,
            "rgb(0,0,255)"
           ],
           [
            1,
            "rgb(255,0,0)"
           ]
          ],
          "line": {
           "color": "black",
           "width": 1.25
          },
          "opacity": 0.6,
          "showscale": true,
          "size": 12
         },
         "mode": "markers",
         "name": "Average Ct value",
         "showlegend": false,
         "type": "scatter",
         "x": {
          "bdata": "AQAfAD0AWwB5AJcAtQDTAPEADwEtAUsB",
          "dtype": "i2"
         },
         "xaxis": "x",
         "y": [
          40,
          40,
          40,
          40,
          40,
          40,
          40,
          40,
          40,
          40,
          40,
          40
         ],
         "yaxis": "y"
        },
        {
         "marker": {
          "color": {
           "bdata": "zESkQbDrDcBT7TvB5MIPQB5TF32zgBBA6QZPEsTsB0AAAAAAAAD4f6KIPHbMsgxAoHITo75uCkAU38BnwnQIQP8rF2nkshpAAAAAAAAA+H88DNSA1z8QQA865nw1YRhA",
           "dtype": "f8"
          },
          "colorbar": {
           "title": {
            "side": "top",
            "text": "Skew"
           }
          },
          "colorscale": [
           [
            0,
            "rgb(0,0,255)"
           ],
           [
            1,
            "rgb(255,0,0)"
           ]
          ],
          "line": {
           "color": "black",
           "width": 1.25
          },
          "opacity": 0.6,
          "showscale": true,
          "size": 12
         },
         "mode": "markers",
         "name": "Average Ct value",
         "showlegend": false,
         "type": "scatter",
         "x": {
          "bdata": "AQAfAD0AWwB5AJcAtQDTAPEADwEtAUsB",
          "dtype": "i2"
         },
         "xaxis": "x",
         "y": [
          40,
          40,
          40,
          40,
          40,
          40,
          40,
          40,
          40,
          40,
          40,
          40
         ],
         "yaxis": "y"
        },
        {
         "marker": {
          "color": {
           "bdata": "zESkQbDrDcBT7TvB5MIPQB5TF32zgBBA6QZPEsTsB0AAAAAAAAD4f6KIPHbMsgxAoHITo75uCkAU38BnwnQIQP8rF2nkshpAAAAAAAAA+H88DNSA1z8QQA865nw1YRhA",
           "dtype": "f8"
          },
          "colorbar": {
           "title": {
            "side": "top",
            "text": "Skew"
           }
          },
          "colorscale": [
           [
            0,
            "rgb(0,0,255)"
           ],
           [
            1,
            "rgb(255,0,0)"
           ]
          ],
          "line": {
           "color": "black",
           "width": 1.25
          },
          "opacity": 0.6,
          "showscale": true,
          "size": 12
         },
         "mode": "markers",
         "name": "Average Ct value",
         "showlegend": false,
         "type": "scatter",
         "x": {
          "bdata": "AQAfAD0AWwB5AJcAtQDTAPEADwEtAUsB",
          "dtype": "i2"
         },
         "xaxis": "x",
         "y": [
          40,
          40,
          40,
          40,
          40,
          40,
          40,
          40,
          40,
          40,
          40,
          40
         ],
         "yaxis": "y"
        },
        {
         "marker": {
          "color": {
           "bdata": "zESkQbDrDcBT7TvB5MIPQB5TF32zgBBA6QZPEsTsB0AAAAAAAAD4f6KIPHbMsgxAoHITo75uCkAU38BnwnQIQP8rF2nkshpAAAAAAAAA+H88DNSA1z8QQA865nw1YRhA",
           "dtype": "f8"
          },
          "colorbar": {
           "title": {
            "side": "top",
            "text": "Skew"
           }
          },
          "colorscale": [
           [
            0,
            "rgb(0,0,255)"
           ],
           [
            1,
            "rgb(255,0,0)"
           ]
          ],
          "line": {
           "color": "black",
           "width": 1.25
          },
          "opacity": 0.6,
          "showscale": true,
          "size": 12
         },
         "mode": "markers",
         "name": "Average Ct value",
         "showlegend": false,
         "type": "scatter",
         "x": {
          "bdata": "AQAfAD0AWwB5AJcAtQDTAPEADwEtAUsB",
          "dtype": "i2"
         },
         "xaxis": "x",
         "y": [
          40,
          40,
          40,
          40,
          40,
          40,
          40,
          40,
          40,
          40,
          40,
          40
         ],
         "yaxis": "y"
        },
        {
         "marker": {
          "color": {
           "bdata": "zESkQbDrDcBT7TvB5MIPQB5TF32zgBBA6QZPEsTsB0AAAAAAAAD4f6KIPHbMsgxAoHITo75uCkAU38BnwnQIQP8rF2nkshpAAAAAAAAA+H88DNSA1z8QQA865nw1YRhA",
           "dtype": "f8"
          },
          "colorbar": {
           "title": {
            "side": "top",
            "text": "Skew"
           }
          },
          "colorscale": [
           [
            0,
            "rgb(0,0,255)"
           ],
           [
            1,
            "rgb(255,0,0)"
           ]
          ],
          "line": {
           "color": "black",
           "width": 1.25
          },
          "opacity": 0.6,
          "showscale": true,
          "size": 12
         },
         "mode": "markers",
         "name": "Average Ct value",
         "showlegend": false,
         "type": "scatter",
         "x": {
          "bdata": "AQAfAD0AWwB5AJcAtQDTAPEADwEtAUsB",
          "dtype": "i2"
         },
         "xaxis": "x",
         "y": [
          40,
          40,
          40,
          40,
          40,
          40,
          40,
          40,
          40,
          40,
          40,
          40
         ],
         "yaxis": "y"
        },
        {
         "marker": {
          "color": {
           "bdata": "zESkQbDrDcBT7TvB5MIPQB5TF32zgBBA6QZPEsTsB0AAAAAAAAD4f6KIPHbMsgxAoHITo75uCkAU38BnwnQIQP8rF2nkshpAAAAAAAAA+H88DNSA1z8QQA865nw1YRhA",
           "dtype": "f8"
          },
          "colorbar": {
           "title": {
            "side": "top",
            "text": "Skew"
           }
          },
          "colorscale": [
           [
            0,
            "rgb(0,0,255)"
           ],
           [
            1,
            "rgb(255,0,0)"
           ]
          ],
          "line": {
           "color": "black",
           "width": 1.25
          },
          "opacity": 0.6,
          "showscale": true,
          "size": 12
         },
         "mode": "markers",
         "name": "Average Ct value",
         "showlegend": false,
         "type": "scatter",
         "x": {
          "bdata": "AQAfAD0AWwB5AJcAtQDTAPEADwEtAUsB",
          "dtype": "i2"
         },
         "xaxis": "x",
         "y": [
          40,
          40,
          40,
          40,
          40,
          40,
          40,
          40,
          40,
          40,
          40,
          40
         ],
         "yaxis": "y"
        },
        {
         "marker": {
          "color": {
           "bdata": "zESkQbDrDcBT7TvB5MIPQB5TF32zgBBA6QZPEsTsB0AAAAAAAAD4f6KIPHbMsgxAoHITo75uCkAU38BnwnQIQP8rF2nkshpAAAAAAAAA+H88DNSA1z8QQA865nw1YRhA",
           "dtype": "f8"
          },
          "colorbar": {
           "title": {
            "side": "top",
            "text": "Skew"
           }
          },
          "colorscale": [
           [
            0,
            "rgb(0,0,255)"
           ],
           [
            1,
            "rgb(255,0,0)"
           ]
          ],
          "line": {
           "color": "black",
           "width": 1.25
          },
          "opacity": 0.6,
          "showscale": true,
          "size": 12
         },
         "mode": "markers",
         "name": "Average Ct value",
         "showlegend": false,
         "type": "scatter",
         "x": {
          "bdata": "AQAfAD0AWwB5AJcAtQDTAPEADwEtAUsB",
          "dtype": "i2"
         },
         "xaxis": "x",
         "y": [
          40,
          40,
          40,
          40,
          40,
          40,
          40,
          40,
          40,
          40,
          40,
          40
         ],
         "yaxis": "y"
        },
        {
         "marker": {
          "color": {
           "bdata": "zESkQbDrDcBT7TvB5MIPQB5TF32zgBBA6QZPEsTsB0AAAAAAAAD4f6KIPHbMsgxAoHITo75uCkAU38BnwnQIQP8rF2nkshpAAAAAAAAA+H88DNSA1z8QQA865nw1YRhA",
           "dtype": "f8"
          },
          "colorbar": {
           "title": {
            "side": "top",
            "text": "Skew"
           }
          },
          "colorscale": [
           [
            0,
            "rgb(0,0,255)"
           ],
           [
            1,
            "rgb(255,0,0)"
           ]
          ],
          "line": {
           "color": "black",
           "width": 1.25
          },
          "opacity": 0.6,
          "showscale": true,
          "size": 12
         },
         "mode": "markers",
         "name": "Average Ct value",
         "showlegend": false,
         "type": "scatter",
         "x": {
          "bdata": "AQAfAD0AWwB5AJcAtQDTAPEADwEtAUsB",
          "dtype": "i2"
         },
         "xaxis": "x",
         "y": [
          40,
          40,
          40,
          40,
          40,
          377.4706456657572,
          40,
          40,
          40,
          40,
          40,
          40
         ],
         "yaxis": "y"
        },
        {
         "marker": {
          "color": {
           "bdata": "zESkQbDrDcBT7TvB5MIPQB5TF32zgBBA6QZPEsTsB0AAAAAAAAD4f6KIPHbMsgxAoHITo75uCkAU38BnwnQIQP8rF2nkshpAAAAAAAAA+H88DNSA1z8QQA865nw1YRhA",
           "dtype": "f8"
          },
          "colorbar": {
           "title": {
            "side": "top",
            "text": "Skew"
           }
          },
          "colorscale": [
           [
            0,
            "rgb(0,0,255)"
           ],
           [
            1,
            "rgb(255,0,0)"
           ]
          ],
          "line": {
           "color": "black",
           "width": 1.25
          },
          "opacity": 0.6,
          "showscale": true,
          "size": 12
         },
         "mode": "markers",
         "name": "Average Ct value",
         "showlegend": false,
         "type": "scatter",
         "x": {
          "bdata": "AQAfAD0AWwB5AJcAtQDTAPEADwEtAUsB",
          "dtype": "i2"
         },
         "xaxis": "x",
         "y": [
          40,
          40,
          40,
          40,
          40,
          137.39907966532297,
          40,
          40,
          40,
          40,
          40,
          40
         ],
         "yaxis": "y"
        },
        {
         "marker": {
          "color": {
           "bdata": "zESkQbDrDcBT7TvB5MIPQB5TF32zgBBA6QZPEsTsB0AAAAAAAAD4f6KIPHbMsgxAoHITo75uCkAU38BnwnQIQP8rF2nkshpAAAAAAAAA+H88DNSA1z8QQA865nw1YRhA",
           "dtype": "f8"
          },
          "colorbar": {
           "title": {
            "side": "top",
            "text": "Skew"
           }
          },
          "colorscale": [
           [
            0,
            "rgb(0,0,255)"
           ],
           [
            1,
            "rgb(255,0,0)"
           ]
          ],
          "line": {
           "color": "black",
           "width": 1.25
          },
          "opacity": 0.6,
          "showscale": true,
          "size": 12
         },
         "mode": "markers",
         "name": "Average Ct value",
         "showlegend": false,
         "type": "scatter",
         "x": {
          "bdata": "AQAfAD0AWwB5AJcAtQDTAPEADwEtAUsB",
          "dtype": "i2"
         },
         "xaxis": "x",
         "y": [
          40,
          40,
          40,
          349.7199358535913,
          40,
          138.64780562360573,
          132.63800914447276,
          136.5620564482042,
          40,
          40,
          40,
          40
         ],
         "yaxis": "y"
        },
        {
         "marker": {
          "color": {
           "bdata": "zESkQbDrDcBT7TvB5MIPQB5TF32zgBBA6QZPEsTsB0AAAAAAAAD4f6KIPHbMsgxAoHITo75uCkAU38BnwnQIQP8rF2nkshpAAAAAAAAA+H88DNSA1z8QQA865nw1YRhA",
           "dtype": "f8"
          },
          "colorbar": {
           "title": {
            "side": "top",
            "text": "Skew"
           }
          },
          "colorscale": [
           [
            0,
            "rgb(0,0,255)"
           ],
           [
            1,
            "rgb(255,0,0)"
           ]
          ],
          "line": {
           "color": "black",
           "width": 1.25
          },
          "opacity": 0.6,
          "showscale": true,
          "size": 12
         },
         "mode": "markers",
         "name": "Average Ct value",
         "showlegend": false,
         "type": "scatter",
         "x": {
          "bdata": "AQAfAD0AWwB5AJcAtQDTAPEADwEtAUsB",
          "dtype": "i2"
         },
         "xaxis": "x",
         "y": [
          40,
          40,
          40,
          359.36788390475624,
          40,
          127.4193691125417,
          143.19888467928115,
          166.02971010557258,
          40,
          40,
          40,
          40
         ],
         "yaxis": "y"
        },
        {
         "marker": {
          "color": {
           "bdata": "zESkQbDrDcBT7TvB5MIPQB5TF32zgBBA6QZPEsTsB0AAAAAAAAD4f6KIPHbMsgxAoHITo75uCkAU38BnwnQIQP8rF2nkshpAAAAAAAAA+H88DNSA1z8QQA865nw1YRhA",
           "dtype": "f8"
          },
          "colorbar": {
           "title": {
            "side": "top",
            "text": "Skew"
           }
          },
          "colorscale": [
           [
            0,
            "rgb(0,0,255)"
           ],
           [
            1,
            "rgb(255,0,0)"
           ]
          ],
          "line": {
           "color": "black",
           "width": 1.25
          },
          "opacity": 0.6,
          "showscale": true,
          "size": 12
         },
         "mode": "markers",
         "name": "Average Ct value",
         "showlegend": false,
         "type": "scatter",
         "x": {
          "bdata": "AQAfAD0AWwB5AJcAtQDTAPEADwEtAUsB",
          "dtype": "i2"
         },
         "xaxis": "x",
         "y": [
          40,
          145.47352222265187,
          275.32584906070144,
          140.34187425942133,
          40,
          139.1088855352225,
          286.5932708085713,
          126.09096246137415,
          40,
          40,
          40,
          40
         ],
         "yaxis": "y"
        },
        {
         "marker": {
          "color": {
           "bdata": "zESkQbDrDcBT7TvB5MIPQB5TF32zgBBA6QZPEsTsB0AAAAAAAAD4f6KIPHbMsgxAoHITo75uCkAU38BnwnQIQP8rF2nkshpAAAAAAAAA+H88DNSA1z8QQA865nw1YRhA",
           "dtype": "f8"
          },
          "colorbar": {
           "title": {
            "side": "top",
            "text": "Skew"
           }
          },
          "colorscale": [
           [
            0,
            "rgb(0,0,255)"
           ],
           [
            1,
            "rgb(255,0,0)"
           ]
          ],
          "line": {
           "color": "black",
           "width": 1.25
          },
          "opacity": 0.6,
          "showscale": true,
          "size": 12
         },
         "mode": "markers",
         "name": "Average Ct value",
         "showlegend": false,
         "type": "scatter",
         "x": {
          "bdata": "AQAfAD0AWwB5AJcAtQDTAPEADwEtAUsB",
          "dtype": "i2"
         },
         "xaxis": "x",
         "y": [
          9.976781164867386,
          258.01737078986923,
          133.7896751370896,
          140.64409303594232,
          40,
          141.3254819524849,
          378.79727237065435,
          8.81852443161887,
          40,
          40,
          140.10030200388024,
          40
         ],
         "yaxis": "y"
        },
        {
         "marker": {
          "color": {
           "bdata": "zESkQbDrDcBT7TvB5MIPQB5TF32zgBBA6QZPEsTsB0AAAAAAAAD4f6KIPHbMsgxAoHITo75uCkAU38BnwnQIQP8rF2nkshpAAAAAAAAA+H88DNSA1z8QQA865nw1YRhA",
           "dtype": "f8"
          },
          "colorbar": {
           "title": {
            "side": "top",
            "text": "Skew"
           }
          },
          "colorscale": [
           [
            0,
            "rgb(0,0,255)"
           ],
           [
            1,
            "rgb(255,0,0)"
           ]
          ],
          "line": {
           "color": "black",
           "width": 1.25
          },
          "opacity": 0.6,
          "showscale": true,
          "size": 12
         },
         "mode": "markers",
         "name": "Average Ct value",
         "showlegend": false,
         "type": "scatter",
         "x": {
          "bdata": "AQAfAD0AWwB5AJcAtQDTAPEADwEtAUsB",
          "dtype": "i2"
         },
         "xaxis": "x",
         "y": [
          5.874791381690923,
          144.22169312101727,
          340.40044080621675,
          377.7331743745548,
          40,
          139.85578244355392,
          311.28680872303545,
          48.77898213414466,
          64.60620043068965,
          40,
          138.71342153235045,
          134.41971725853182
         ],
         "yaxis": "y"
        },
        {
         "marker": {
          "color": {
           "bdata": "zESkQbDrDcBT7TvB5MIPQB5TF32zgBBA6QZPEsTsB0AAAAAAAAD4f6KIPHbMsgxAoHITo75uCkAU38BnwnQIQP8rF2nkshpAAAAAAAAA+H88DNSA1z8QQA865nw1YRhA",
           "dtype": "f8"
          },
          "colorbar": {
           "title": {
            "side": "top",
            "text": "Skew"
           }
          },
          "colorscale": [
           [
            0,
            "rgb(0,0,255)"
           ],
           [
            1,
            "rgb(255,0,0)"
           ]
          ],
          "line": {
           "color": "black",
           "width": 1.25
          },
          "opacity": 0.6,
          "showscale": true,
          "size": 12
         },
         "mode": "markers",
         "name": "Average Ct value",
         "showlegend": false,
         "type": "scatter",
         "x": {
          "bdata": "AQAfAD0AWwB5AJcAtQDTAPEADwEtAUsB",
          "dtype": "i2"
         },
         "xaxis": "x",
         "y": [
          4.188963436053801,
          138.93800154990393,
          137.74553422358883,
          247.4356709676564,
          40,
          196.24717792584602,
          133.18253024749185,
          137.5668695730493,
          218.40392276718916,
          40,
          2.0832092343107314,
          340.59410843378
         ],
         "yaxis": "y"
        },
        {
         "marker": {
          "color": "black",
          "line": {
           "color": "black",
           "width": 4
          },
          "size": 16,
          "symbol": "line-ew"
         },
         "mode": "markers",
         "name": "Median Ct value",
         "showlegend": false,
         "type": "scatter",
         "x": {
          "bdata": "AQAfAD0AWwB5AJcAtQDTAPEADwEtAUsB",
          "dtype": "i2"
         },
         "xaxis": "x",
         "y": [
          38.00081071965224,
          50.53301175366885,
          54.545229984551945,
          67.50485264791845,
          40,
          61.54948455848669,
          62.91393551947013,
          47.67694210307927,
          44.06020246395757,
          40,
          43.217938655410826,
          47.90027651384624
         ],
         "yaxis": "y"
        },
        {
         "connectgaps": true,
         "line": {
          "color": "black"
         },
         "marker": {
          "color": {
           "bdata": "zESkQbDrDcBT7TvB5MIPQB5TF32zgBBA6QZPEsTsB0AAAAAAAAD4f6KIPHbMsgxAoHITo75uCkAU38BnwnQIQP8rF2nkshpAAAAAAAAA+H88DNSA1z8QQA865nw1YRhA",
           "dtype": "f8"
          },
          "colorbar": {
           "title": {
            "side": "top",
            "text": "Skew"
           }
          },
          "colorscale": [
           [
            0,
            "rgb(0,0,255)"
           ],
           [
            1,
            "rgb(255,0,0)"
           ]
          ],
          "line": {
           "color": "black",
           "width": 1.25
          },
          "opacity": 0.6,
          "showscale": true,
          "size": 12
         },
         "mode": "lines+markers",
         "name": "Average Prevalence of Infections",
         "showlegend": false,
         "type": "scatter",
         "x": {
          "bdata": "AQAfAD0AWwB5AJcAtQDTAPEADwEtAUsB",
          "dtype": "i2"
         },
         "xaxis": "x2",
         "y": [
          0.06,
          0.08,
          0.08,
          0.12,
          0,
          0.16,
          0.12,
          0.12,
          0.04,
          0,
          0.06,
          0.04
         ],
         "yaxis": "y2"
        }
       ],
       "layout": {
        "annotations": [
         {
          "font": {
           "size": 16
          },
          "showarrow": false,
          "text": "Average Ct value",
          "x": 0.5,
          "xanchor": "center",
          "xref": "paper",
          "y": 1,
          "yanchor": "bottom",
          "yref": "paper"
         },
         {
          "font": {
           "size": 16
          },
          "showarrow": false,
          "text": "Average Prevalence of Infections",
          "x": 0.5,
          "xanchor": "center",
          "xref": "paper",
          "y": 0.375,
          "yanchor": "bottom",
          "yref": "paper"
         }
        ],
        "height": 800,
        "plot_bgcolor": "white",
        "template": {
         "data": {
          "bar": [
           {
            "error_x": {
             "color": "#2a3f5f"
            },
            "error_y": {
             "color": "#2a3f5f"
            },
            "marker": {
             "line": {
              "color": "#E5ECF6",
              "width": 0.5
             },
             "pattern": {
              "fillmode": "overlay",
              "size": 10,
              "solidity": 0.2
             }
            },
            "type": "bar"
           }
          ],
          "barpolar": [
           {
            "marker": {
             "line": {
              "color": "#E5ECF6",
              "width": 0.5
             },
             "pattern": {
              "fillmode": "overlay",
              "size": 10,
              "solidity": 0.2
             }
            },
            "type": "barpolar"
           }
          ],
          "carpet": [
           {
            "aaxis": {
             "endlinecolor": "#2a3f5f",
             "gridcolor": "white",
             "linecolor": "white",
             "minorgridcolor": "white",
             "startlinecolor": "#2a3f5f"
            },
            "baxis": {
             "endlinecolor": "#2a3f5f",
             "gridcolor": "white",
             "linecolor": "white",
             "minorgridcolor": "white",
             "startlinecolor": "#2a3f5f"
            },
            "type": "carpet"
           }
          ],
          "choropleth": [
           {
            "colorbar": {
             "outlinewidth": 0,
             "ticks": ""
            },
            "type": "choropleth"
           }
          ],
          "contour": [
           {
            "colorbar": {
             "outlinewidth": 0,
             "ticks": ""
            },
            "colorscale": [
             [
              0,
              "#0d0887"
             ],
             [
              0.1111111111111111,
              "#46039f"
             ],
             [
              0.2222222222222222,
              "#7201a8"
             ],
             [
              0.3333333333333333,
              "#9c179e"
             ],
             [
              0.4444444444444444,
              "#bd3786"
             ],
             [
              0.5555555555555556,
              "#d8576b"
             ],
             [
              0.6666666666666666,
              "#ed7953"
             ],
             [
              0.7777777777777778,
              "#fb9f3a"
             ],
             [
              0.8888888888888888,
              "#fdca26"
             ],
             [
              1,
              "#f0f921"
             ]
            ],
            "type": "contour"
           }
          ],
          "contourcarpet": [
           {
            "colorbar": {
             "outlinewidth": 0,
             "ticks": ""
            },
            "type": "contourcarpet"
           }
          ],
          "heatmap": [
           {
            "colorbar": {
             "outlinewidth": 0,
             "ticks": ""
            },
            "colorscale": [
             [
              0,
              "#0d0887"
             ],
             [
              0.1111111111111111,
              "#46039f"
             ],
             [
              0.2222222222222222,
              "#7201a8"
             ],
             [
              0.3333333333333333,
              "#9c179e"
             ],
             [
              0.4444444444444444,
              "#bd3786"
             ],
             [
              0.5555555555555556,
              "#d8576b"
             ],
             [
              0.6666666666666666,
              "#ed7953"
             ],
             [
              0.7777777777777778,
              "#fb9f3a"
             ],
             [
              0.8888888888888888,
              "#fdca26"
             ],
             [
              1,
              "#f0f921"
             ]
            ],
            "type": "heatmap"
           }
          ],
          "histogram": [
           {
            "marker": {
             "pattern": {
              "fillmode": "overlay",
              "size": 10,
              "solidity": 0.2
             }
            },
            "type": "histogram"
           }
          ],
          "histogram2d": [
           {
            "colorbar": {
             "outlinewidth": 0,
             "ticks": ""
            },
            "colorscale": [
             [
              0,
              "#0d0887"
             ],
             [
              0.1111111111111111,
              "#46039f"
             ],
             [
              0.2222222222222222,
              "#7201a8"
             ],
             [
              0.3333333333333333,
              "#9c179e"
             ],
             [
              0.4444444444444444,
              "#bd3786"
             ],
             [
              0.5555555555555556,
              "#d8576b"
             ],
             [
              0.6666666666666666,
              "#ed7953"
             ],
             [
              0.7777777777777778,
              "#fb9f3a"
             ],
             [
              0.8888888888888888,
              "#fdca26"
             ],
             [
              1,
              "#f0f921"
             ]
            ],
            "type": "histogram2d"
           }
          ],
          "histogram2dcontour": [
           {
            "colorbar": {
             "outlinewidth": 0,
             "ticks": ""
            },
            "colorscale": [
             [
              0,
              "#0d0887"
             ],
             [
              0.1111111111111111,
              "#46039f"
             ],
             [
              0.2222222222222222,
              "#7201a8"
             ],
             [
              0.3333333333333333,
              "#9c179e"
             ],
             [
              0.4444444444444444,
              "#bd3786"
             ],
             [
              0.5555555555555556,
              "#d8576b"
             ],
             [
              0.6666666666666666,
              "#ed7953"
             ],
             [
              0.7777777777777778,
              "#fb9f3a"
             ],
             [
              0.8888888888888888,
              "#fdca26"
             ],
             [
              1,
              "#f0f921"
             ]
            ],
            "type": "histogram2dcontour"
           }
          ],
          "mesh3d": [
           {
            "colorbar": {
             "outlinewidth": 0,
             "ticks": ""
            },
            "type": "mesh3d"
           }
          ],
          "parcoords": [
           {
            "line": {
             "colorbar": {
              "outlinewidth": 0,
              "ticks": ""
             }
            },
            "type": "parcoords"
           }
          ],
          "pie": [
           {
            "automargin": true,
            "type": "pie"
           }
          ],
          "scatter": [
           {
            "fillpattern": {
             "fillmode": "overlay",
             "size": 10,
             "solidity": 0.2
            },
            "type": "scatter"
           }
          ],
          "scatter3d": [
           {
            "line": {
             "colorbar": {
              "outlinewidth": 0,
              "ticks": ""
             }
            },
            "marker": {
             "colorbar": {
              "outlinewidth": 0,
              "ticks": ""
             }
            },
            "type": "scatter3d"
           }
          ],
          "scattercarpet": [
           {
            "marker": {
             "colorbar": {
              "outlinewidth": 0,
              "ticks": ""
             }
            },
            "type": "scattercarpet"
           }
          ],
          "scattergeo": [
           {
            "marker": {
             "colorbar": {
              "outlinewidth": 0,
              "ticks": ""
             }
            },
            "type": "scattergeo"
           }
          ],
          "scattergl": [
           {
            "marker": {
             "colorbar": {
              "outlinewidth": 0,
              "ticks": ""
             }
            },
            "type": "scattergl"
           }
          ],
          "scattermap": [
           {
            "marker": {
             "colorbar": {
              "outlinewidth": 0,
              "ticks": ""
             }
            },
            "type": "scattermap"
           }
          ],
          "scattermapbox": [
           {
            "marker": {
             "colorbar": {
              "outlinewidth": 0,
              "ticks": ""
             }
            },
            "type": "scattermapbox"
           }
          ],
          "scatterpolar": [
           {
            "marker": {
             "colorbar": {
              "outlinewidth": 0,
              "ticks": ""
             }
            },
            "type": "scatterpolar"
           }
          ],
          "scatterpolargl": [
           {
            "marker": {
             "colorbar": {
              "outlinewidth": 0,
              "ticks": ""
             }
            },
            "type": "scatterpolargl"
           }
          ],
          "scatterternary": [
           {
            "marker": {
             "colorbar": {
              "outlinewidth": 0,
              "ticks": ""
             }
            },
            "type": "scatterternary"
           }
          ],
          "surface": [
           {
            "colorbar": {
             "outlinewidth": 0,
             "ticks": ""
            },
            "colorscale": [
             [
              0,
              "#0d0887"
             ],
             [
              0.1111111111111111,
              "#46039f"
             ],
             [
              0.2222222222222222,
              "#7201a8"
             ],
             [
              0.3333333333333333,
              "#9c179e"
             ],
             [
              0.4444444444444444,
              "#bd3786"
             ],
             [
              0.5555555555555556,
              "#d8576b"
             ],
             [
              0.6666666666666666,
              "#ed7953"
             ],
             [
              0.7777777777777778,
              "#fb9f3a"
             ],
             [
              0.8888888888888888,
              "#fdca26"
             ],
             [
              1,
              "#f0f921"
             ]
            ],
            "type": "surface"
           }
          ],
          "table": [
           {
            "cells": {
             "fill": {
              "color": "#EBF0F8"
             },
             "line": {
              "color": "white"
             }
            },
            "header": {
             "fill": {
              "color": "#C8D4E3"
             },
             "line": {
              "color": "white"
             }
            },
            "type": "table"
           }
          ]
         },
         "layout": {
          "annotationdefaults": {
           "arrowcolor": "#2a3f5f",
           "arrowhead": 0,
           "arrowwidth": 1
          },
          "autotypenumbers": "strict",
          "coloraxis": {
           "colorbar": {
            "outlinewidth": 0,
            "ticks": ""
           }
          },
          "colorscale": {
           "diverging": [
            [
             0,
             "#8e0152"
            ],
            [
             0.1,
             "#c51b7d"
            ],
            [
             0.2,
             "#de77ae"
            ],
            [
             0.3,
             "#f1b6da"
            ],
            [
             0.4,
             "#fde0ef"
            ],
            [
             0.5,
             "#f7f7f7"
            ],
            [
             0.6,
             "#e6f5d0"
            ],
            [
             0.7,
             "#b8e186"
            ],
            [
             0.8,
             "#7fbc41"
            ],
            [
             0.9,
             "#4d9221"
            ],
            [
             1,
             "#276419"
            ]
           ],
           "sequential": [
            [
             0,
             "#0d0887"
            ],
            [
             0.1111111111111111,
             "#46039f"
            ],
            [
             0.2222222222222222,
             "#7201a8"
            ],
            [
             0.3333333333333333,
             "#9c179e"
            ],
            [
             0.4444444444444444,
             "#bd3786"
            ],
            [
             0.5555555555555556,
             "#d8576b"
            ],
            [
             0.6666666666666666,
             "#ed7953"
            ],
            [
             0.7777777777777778,
             "#fb9f3a"
            ],
            [
             0.8888888888888888,
             "#fdca26"
            ],
            [
             1,
             "#f0f921"
            ]
           ],
           "sequentialminus": [
            [
             0,
             "#0d0887"
            ],
            [
             0.1111111111111111,
             "#46039f"
            ],
            [
             0.2222222222222222,
             "#7201a8"
            ],
            [
             0.3333333333333333,
             "#9c179e"
            ],
            [
             0.4444444444444444,
             "#bd3786"
            ],
            [
             0.5555555555555556,
             "#d8576b"
            ],
            [
             0.6666666666666666,
             "#ed7953"
            ],
            [
             0.7777777777777778,
             "#fb9f3a"
            ],
            [
             0.8888888888888888,
             "#fdca26"
            ],
            [
             1,
             "#f0f921"
            ]
           ]
          },
          "colorway": [
           "#636efa",
           "#EF553B",
           "#00cc96",
           "#ab63fa",
           "#FFA15A",
           "#19d3f3",
           "#FF6692",
           "#B6E880",
           "#FF97FF",
           "#FECB52"
          ],
          "font": {
           "color": "#2a3f5f"
          },
          "geo": {
           "bgcolor": "white",
           "lakecolor": "white",
           "landcolor": "#E5ECF6",
           "showlakes": true,
           "showland": true,
           "subunitcolor": "white"
          },
          "hoverlabel": {
           "align": "left"
          },
          "hovermode": "closest",
          "mapbox": {
           "style": "light"
          },
          "paper_bgcolor": "white",
          "plot_bgcolor": "#E5ECF6",
          "polar": {
           "angularaxis": {
            "gridcolor": "white",
            "linecolor": "white",
            "ticks": ""
           },
           "bgcolor": "#E5ECF6",
           "radialaxis": {
            "gridcolor": "white",
            "linecolor": "white",
            "ticks": ""
           }
          },
          "scene": {
           "xaxis": {
            "backgroundcolor": "#E5ECF6",
            "gridcolor": "white",
            "gridwidth": 2,
            "linecolor": "white",
            "showbackground": true,
            "ticks": "",
            "zerolinecolor": "white"
           },
           "yaxis": {
            "backgroundcolor": "#E5ECF6",
            "gridcolor": "white",
            "gridwidth": 2,
            "linecolor": "white",
            "showbackground": true,
            "ticks": "",
            "zerolinecolor": "white"
           },
           "zaxis": {
            "backgroundcolor": "#E5ECF6",
            "gridcolor": "white",
            "gridwidth": 2,
            "linecolor": "white",
            "showbackground": true,
            "ticks": "",
            "zerolinecolor": "white"
           }
          },
          "shapedefaults": {
           "line": {
            "color": "#2a3f5f"
           }
          },
          "ternary": {
           "aaxis": {
            "gridcolor": "white",
            "linecolor": "white",
            "ticks": ""
           },
           "baxis": {
            "gridcolor": "white",
            "linecolor": "white",
            "ticks": ""
           },
           "bgcolor": "#E5ECF6",
           "caxis": {
            "gridcolor": "white",
            "linecolor": "white",
            "ticks": ""
           }
          },
          "title": {
           "x": 0.05
          },
          "xaxis": {
           "automargin": true,
           "gridcolor": "white",
           "linecolor": "white",
           "ticks": "",
           "title": {
            "standoff": 15
           },
           "zerolinecolor": "white",
           "zerolinewidth": 2
          },
          "yaxis": {
           "automargin": true,
           "gridcolor": "white",
           "linecolor": "white",
           "ticks": "",
           "title": {
            "standoff": 15
           },
           "zerolinecolor": "white",
           "zerolinewidth": 2
          }
         }
        },
        "width": 1100,
        "xaxis": {
         "anchor": "y",
         "domain": [
          0,
          1
         ],
         "linecolor": "black",
         "tickvals": [
          1,
          31,
          61,
          91,
          121,
          151,
          181,
          211,
          241,
          271,
          301,
          331
         ],
         "title": {
          "text": "Time (days)"
         }
        },
        "xaxis2": {
         "anchor": "y2",
         "domain": [
          0,
          1
         ],
         "linecolor": "black",
         "tickvals": [
          1,
          31,
          61,
          91,
          121,
          151,
          181,
          211,
          241,
          271,
          301,
          331
         ],
         "title": {
          "text": "Time (days)"
         }
        },
        "yaxis": {
         "anchor": "x",
         "domain": [
          0.625,
          1
         ],
         "linecolor": "black",
         "title": {
          "text": "Viral read value (e+03)"
         }
        },
        "yaxis2": {
         "anchor": "x2",
         "domain": [
          0,
          0.375
         ],
         "linecolor": "black",
         "tickformat": ".0%",
         "title": {
          "text": "Prevalence of Infections<br>in sample"
         }
        }
       }
      }
     },
     "metadata": {},
     "output_type": "display_data"
    }
   ],
   "source": [
    "fig = go.Figure()\n",
    "fig = make_subplots(rows=2, cols=1, subplot_titles=('Average Ct value', 'Average Prevalence of Infections'))\n",
    "\n",
    "skews = skew(vr_values[0, :, :], axis=1)\n",
    "print(skews)\n",
    "\n",
    "for _ in range(sample_size):\n",
    "    fig.add_trace(\n",
    "        go.Scatter(\n",
    "            y=vr_values[0, :, _].tolist(),\n",
    "            x=sample_points,\n",
    "            mode='markers',\n",
    "            name='Average Ct value',\n",
    "            marker_line=dict(width=1.25, color='black'),\n",
    "            marker_color=skews,\n",
    "            marker_colorscale='BlueRed',\n",
    "            marker_colorbar_title=dict(\n",
    "                text='Skew',\n",
    "                side='top'),\n",
    "            marker_size=12,\n",
    "            marker_opacity=0.6,\n",
    "            marker_showscale=True,\n",
    "            showlegend=False,\n",
    "        ),\n",
    "        row=1,\n",
    "        col=1\n",
    "    )\n",
    "\n",
    "fig.add_trace(\n",
    "    go.Scatter(\n",
    "        y=np.mean(vr_values[0, :, :], axis=1).tolist(),\n",
    "        x=sample_points,\n",
    "        mode='markers',\n",
    "        name='Median Ct value',\n",
    "        marker_color='black',\n",
    "        marker_line=dict(width=4, color='black'),\n",
    "        marker_symbol='line-ew',\n",
    "        marker_size=16,\n",
    "        showlegend=False,\n",
    "    ),\n",
    "    row=1,\n",
    "    col=1\n",
    ")\n",
    "\n",
    "fig.add_trace(\n",
    "    go.Scatter(\n",
    "        y=(infec[0, :]/sample_size).tolist(),\n",
    "        x=sample_points,\n",
    "        mode='lines+markers',\n",
    "        connectgaps=True,\n",
    "        name='Average Prevalence of Infections',\n",
    "        marker_line=dict(width=1.25, color='black'),\n",
    "        marker_color=skews,\n",
    "        marker_colorscale='BlueRed',\n",
    "        marker_colorbar_title=dict(\n",
    "            text='Skew',\n",
    "            side='top'),\n",
    "        marker_opacity=0.6,\n",
    "        marker_size=12,\n",
    "        marker_showscale=True,\n",
    "        line_color='black',\n",
    "        showlegend=False,\n",
    "    ),\n",
    "    row=2,\n",
    "    col=1\n",
    ")\n",
    "\n",
    "# Add axis labels\n",
    "fig.update_layout(\n",
    "    width=1100, \n",
    "    height=800,\n",
    "    plot_bgcolor='white',\n",
    "    xaxis=dict(\n",
    "        linecolor='black',\n",
    "        tickvals=sample_points.tolist(),\n",
    "        title = 'Time (days)'\n",
    "        ),\n",
    "    yaxis=dict(\n",
    "        linecolor='black',\n",
    "        title = 'Viral read value (e+03)'),\n",
    "    xaxis2=dict(\n",
    "        linecolor='black',\n",
    "        tickvals=sample_points.tolist(),\n",
    "        title = 'Time (days)'\n",
    "        ),\n",
    "    yaxis2=dict(\n",
    "        linecolor='black',\n",
    "        tickformat = '.0%',\n",
    "        title = 'Prevalence of Infections<br>in sample')\n",
    "    #legend=dict(\n",
    "    #    orientation=\"h\",\n",
    "    #    yanchor=\"bottom\",\n",
    "    #    y=1.02,\n",
    "    #    xanchor=\"right\",\n",
    "    #    x=1\n",
    "    #)\n",
    "    )\n",
    "\n",
    "fig.write_image('images/Viral_read_values-Lassa.pdf')\n",
    "fig.show()"
   ]
  },
  {
   "cell_type": "markdown",
   "metadata": {},
   "source": [
    "### Plot skenewss and median"
   ]
  },
  {
   "cell_type": "code",
   "execution_count": 12,
   "metadata": {},
   "outputs": [
    {
     "name": "stderr",
     "output_type": "stream",
     "text": [
      "/Users/ioaros/opt/anaconda3/envs/metavirom/lib/python3.13/site-packages/numpy/_core/fromnumeric.py:3860: RuntimeWarning:\n",
      "\n",
      "Mean of empty slice.\n",
      "\n",
      "/Users/ioaros/opt/anaconda3/envs/metavirom/lib/python3.13/site-packages/numpy/_core/_methods.py:145: RuntimeWarning:\n",
      "\n",
      "invalid value encountered in scalar divide\n",
      "\n"
     ]
    },
    {
     "data": {
      "application/vnd.plotly.v1+json": {
       "config": {
        "plotlyServerURL": "https://plot.ly"
       },
       "data": [
        {
         "connectgaps": true,
         "line": {
          "color": "black"
         },
         "marker": {
          "line": {
           "color": "black",
           "width": 1.25
          },
          "opacity": 0.6,
          "size": 12
         },
         "mode": "lines+markers",
         "name": "Median times",
         "showlegend": false,
         "type": "scatter",
         "x": {
          "bdata": "AQAfAD0AWwB5AJcAtQDTAPEADwEtAUsB",
          "dtype": "i2"
         },
         "xaxis": "x",
         "y": [
          1,
          31,
          30.468875413094697,
          18.087766505908526,
          null,
          49.92533219581148,
          29.072503220579407,
          16.227157530658616,
          13.907745640544135,
          null,
          45.8701494470497,
          23.01373166365906
         ],
         "yaxis": "y"
        },
        {
         "connectgaps": true,
         "line": {
          "color": "black"
         },
         "marker": {
          "line": {
           "color": "black",
           "width": 1.25
          },
          "opacity": 0.6,
          "size": 12
         },
         "mode": "lines+markers",
         "name": "Skewness viral read values",
         "showlegend": false,
         "type": "scatter",
         "x": {
          "bdata": "AQAfAD0AWwB5AJcAtQDTAPEADwEtAUsB",
          "dtype": "i2"
         },
         "xaxis": "x2",
         "y": {
          "bdata": "zESkQbDrDcBT7TvB5MIPQB5TF32zgBBA6QZPEsTsB0AAAAAAAAD4f6KIPHbMsgxAoHITo75uCkAU38BnwnQIQP8rF2nkshpAAAAAAAAA+H88DNSA1z8QQA865nw1YRhA",
          "dtype": "f8"
         },
         "yaxis": "y2"
        }
       ],
       "layout": {
        "annotations": [
         {
          "font": {
           "size": 16
          },
          "showarrow": false,
          "text": "Median time since infection",
          "x": 0.5,
          "xanchor": "center",
          "xref": "paper",
          "y": 1,
          "yanchor": "bottom",
          "yref": "paper"
         },
         {
          "font": {
           "size": 16
          },
          "showarrow": false,
          "text": "Skewness Ct values",
          "x": 0.5,
          "xanchor": "center",
          "xref": "paper",
          "y": 0.375,
          "yanchor": "bottom",
          "yref": "paper"
         }
        ],
        "height": 800,
        "plot_bgcolor": "white",
        "template": {
         "data": {
          "bar": [
           {
            "error_x": {
             "color": "#2a3f5f"
            },
            "error_y": {
             "color": "#2a3f5f"
            },
            "marker": {
             "line": {
              "color": "#E5ECF6",
              "width": 0.5
             },
             "pattern": {
              "fillmode": "overlay",
              "size": 10,
              "solidity": 0.2
             }
            },
            "type": "bar"
           }
          ],
          "barpolar": [
           {
            "marker": {
             "line": {
              "color": "#E5ECF6",
              "width": 0.5
             },
             "pattern": {
              "fillmode": "overlay",
              "size": 10,
              "solidity": 0.2
             }
            },
            "type": "barpolar"
           }
          ],
          "carpet": [
           {
            "aaxis": {
             "endlinecolor": "#2a3f5f",
             "gridcolor": "white",
             "linecolor": "white",
             "minorgridcolor": "white",
             "startlinecolor": "#2a3f5f"
            },
            "baxis": {
             "endlinecolor": "#2a3f5f",
             "gridcolor": "white",
             "linecolor": "white",
             "minorgridcolor": "white",
             "startlinecolor": "#2a3f5f"
            },
            "type": "carpet"
           }
          ],
          "choropleth": [
           {
            "colorbar": {
             "outlinewidth": 0,
             "ticks": ""
            },
            "type": "choropleth"
           }
          ],
          "contour": [
           {
            "colorbar": {
             "outlinewidth": 0,
             "ticks": ""
            },
            "colorscale": [
             [
              0,
              "#0d0887"
             ],
             [
              0.1111111111111111,
              "#46039f"
             ],
             [
              0.2222222222222222,
              "#7201a8"
             ],
             [
              0.3333333333333333,
              "#9c179e"
             ],
             [
              0.4444444444444444,
              "#bd3786"
             ],
             [
              0.5555555555555556,
              "#d8576b"
             ],
             [
              0.6666666666666666,
              "#ed7953"
             ],
             [
              0.7777777777777778,
              "#fb9f3a"
             ],
             [
              0.8888888888888888,
              "#fdca26"
             ],
             [
              1,
              "#f0f921"
             ]
            ],
            "type": "contour"
           }
          ],
          "contourcarpet": [
           {
            "colorbar": {
             "outlinewidth": 0,
             "ticks": ""
            },
            "type": "contourcarpet"
           }
          ],
          "heatmap": [
           {
            "colorbar": {
             "outlinewidth": 0,
             "ticks": ""
            },
            "colorscale": [
             [
              0,
              "#0d0887"
             ],
             [
              0.1111111111111111,
              "#46039f"
             ],
             [
              0.2222222222222222,
              "#7201a8"
             ],
             [
              0.3333333333333333,
              "#9c179e"
             ],
             [
              0.4444444444444444,
              "#bd3786"
             ],
             [
              0.5555555555555556,
              "#d8576b"
             ],
             [
              0.6666666666666666,
              "#ed7953"
             ],
             [
              0.7777777777777778,
              "#fb9f3a"
             ],
             [
              0.8888888888888888,
              "#fdca26"
             ],
             [
              1,
              "#f0f921"
             ]
            ],
            "type": "heatmap"
           }
          ],
          "histogram": [
           {
            "marker": {
             "pattern": {
              "fillmode": "overlay",
              "size": 10,
              "solidity": 0.2
             }
            },
            "type": "histogram"
           }
          ],
          "histogram2d": [
           {
            "colorbar": {
             "outlinewidth": 0,
             "ticks": ""
            },
            "colorscale": [
             [
              0,
              "#0d0887"
             ],
             [
              0.1111111111111111,
              "#46039f"
             ],
             [
              0.2222222222222222,
              "#7201a8"
             ],
             [
              0.3333333333333333,
              "#9c179e"
             ],
             [
              0.4444444444444444,
              "#bd3786"
             ],
             [
              0.5555555555555556,
              "#d8576b"
             ],
             [
              0.6666666666666666,
              "#ed7953"
             ],
             [
              0.7777777777777778,
              "#fb9f3a"
             ],
             [
              0.8888888888888888,
              "#fdca26"
             ],
             [
              1,
              "#f0f921"
             ]
            ],
            "type": "histogram2d"
           }
          ],
          "histogram2dcontour": [
           {
            "colorbar": {
             "outlinewidth": 0,
             "ticks": ""
            },
            "colorscale": [
             [
              0,
              "#0d0887"
             ],
             [
              0.1111111111111111,
              "#46039f"
             ],
             [
              0.2222222222222222,
              "#7201a8"
             ],
             [
              0.3333333333333333,
              "#9c179e"
             ],
             [
              0.4444444444444444,
              "#bd3786"
             ],
             [
              0.5555555555555556,
              "#d8576b"
             ],
             [
              0.6666666666666666,
              "#ed7953"
             ],
             [
              0.7777777777777778,
              "#fb9f3a"
             ],
             [
              0.8888888888888888,
              "#fdca26"
             ],
             [
              1,
              "#f0f921"
             ]
            ],
            "type": "histogram2dcontour"
           }
          ],
          "mesh3d": [
           {
            "colorbar": {
             "outlinewidth": 0,
             "ticks": ""
            },
            "type": "mesh3d"
           }
          ],
          "parcoords": [
           {
            "line": {
             "colorbar": {
              "outlinewidth": 0,
              "ticks": ""
             }
            },
            "type": "parcoords"
           }
          ],
          "pie": [
           {
            "automargin": true,
            "type": "pie"
           }
          ],
          "scatter": [
           {
            "fillpattern": {
             "fillmode": "overlay",
             "size": 10,
             "solidity": 0.2
            },
            "type": "scatter"
           }
          ],
          "scatter3d": [
           {
            "line": {
             "colorbar": {
              "outlinewidth": 0,
              "ticks": ""
             }
            },
            "marker": {
             "colorbar": {
              "outlinewidth": 0,
              "ticks": ""
             }
            },
            "type": "scatter3d"
           }
          ],
          "scattercarpet": [
           {
            "marker": {
             "colorbar": {
              "outlinewidth": 0,
              "ticks": ""
             }
            },
            "type": "scattercarpet"
           }
          ],
          "scattergeo": [
           {
            "marker": {
             "colorbar": {
              "outlinewidth": 0,
              "ticks": ""
             }
            },
            "type": "scattergeo"
           }
          ],
          "scattergl": [
           {
            "marker": {
             "colorbar": {
              "outlinewidth": 0,
              "ticks": ""
             }
            },
            "type": "scattergl"
           }
          ],
          "scattermap": [
           {
            "marker": {
             "colorbar": {
              "outlinewidth": 0,
              "ticks": ""
             }
            },
            "type": "scattermap"
           }
          ],
          "scattermapbox": [
           {
            "marker": {
             "colorbar": {
              "outlinewidth": 0,
              "ticks": ""
             }
            },
            "type": "scattermapbox"
           }
          ],
          "scatterpolar": [
           {
            "marker": {
             "colorbar": {
              "outlinewidth": 0,
              "ticks": ""
             }
            },
            "type": "scatterpolar"
           }
          ],
          "scatterpolargl": [
           {
            "marker": {
             "colorbar": {
              "outlinewidth": 0,
              "ticks": ""
             }
            },
            "type": "scatterpolargl"
           }
          ],
          "scatterternary": [
           {
            "marker": {
             "colorbar": {
              "outlinewidth": 0,
              "ticks": ""
             }
            },
            "type": "scatterternary"
           }
          ],
          "surface": [
           {
            "colorbar": {
             "outlinewidth": 0,
             "ticks": ""
            },
            "colorscale": [
             [
              0,
              "#0d0887"
             ],
             [
              0.1111111111111111,
              "#46039f"
             ],
             [
              0.2222222222222222,
              "#7201a8"
             ],
             [
              0.3333333333333333,
              "#9c179e"
             ],
             [
              0.4444444444444444,
              "#bd3786"
             ],
             [
              0.5555555555555556,
              "#d8576b"
             ],
             [
              0.6666666666666666,
              "#ed7953"
             ],
             [
              0.7777777777777778,
              "#fb9f3a"
             ],
             [
              0.8888888888888888,
              "#fdca26"
             ],
             [
              1,
              "#f0f921"
             ]
            ],
            "type": "surface"
           }
          ],
          "table": [
           {
            "cells": {
             "fill": {
              "color": "#EBF0F8"
             },
             "line": {
              "color": "white"
             }
            },
            "header": {
             "fill": {
              "color": "#C8D4E3"
             },
             "line": {
              "color": "white"
             }
            },
            "type": "table"
           }
          ]
         },
         "layout": {
          "annotationdefaults": {
           "arrowcolor": "#2a3f5f",
           "arrowhead": 0,
           "arrowwidth": 1
          },
          "autotypenumbers": "strict",
          "coloraxis": {
           "colorbar": {
            "outlinewidth": 0,
            "ticks": ""
           }
          },
          "colorscale": {
           "diverging": [
            [
             0,
             "#8e0152"
            ],
            [
             0.1,
             "#c51b7d"
            ],
            [
             0.2,
             "#de77ae"
            ],
            [
             0.3,
             "#f1b6da"
            ],
            [
             0.4,
             "#fde0ef"
            ],
            [
             0.5,
             "#f7f7f7"
            ],
            [
             0.6,
             "#e6f5d0"
            ],
            [
             0.7,
             "#b8e186"
            ],
            [
             0.8,
             "#7fbc41"
            ],
            [
             0.9,
             "#4d9221"
            ],
            [
             1,
             "#276419"
            ]
           ],
           "sequential": [
            [
             0,
             "#0d0887"
            ],
            [
             0.1111111111111111,
             "#46039f"
            ],
            [
             0.2222222222222222,
             "#7201a8"
            ],
            [
             0.3333333333333333,
             "#9c179e"
            ],
            [
             0.4444444444444444,
             "#bd3786"
            ],
            [
             0.5555555555555556,
             "#d8576b"
            ],
            [
             0.6666666666666666,
             "#ed7953"
            ],
            [
             0.7777777777777778,
             "#fb9f3a"
            ],
            [
             0.8888888888888888,
             "#fdca26"
            ],
            [
             1,
             "#f0f921"
            ]
           ],
           "sequentialminus": [
            [
             0,
             "#0d0887"
            ],
            [
             0.1111111111111111,
             "#46039f"
            ],
            [
             0.2222222222222222,
             "#7201a8"
            ],
            [
             0.3333333333333333,
             "#9c179e"
            ],
            [
             0.4444444444444444,
             "#bd3786"
            ],
            [
             0.5555555555555556,
             "#d8576b"
            ],
            [
             0.6666666666666666,
             "#ed7953"
            ],
            [
             0.7777777777777778,
             "#fb9f3a"
            ],
            [
             0.8888888888888888,
             "#fdca26"
            ],
            [
             1,
             "#f0f921"
            ]
           ]
          },
          "colorway": [
           "#636efa",
           "#EF553B",
           "#00cc96",
           "#ab63fa",
           "#FFA15A",
           "#19d3f3",
           "#FF6692",
           "#B6E880",
           "#FF97FF",
           "#FECB52"
          ],
          "font": {
           "color": "#2a3f5f"
          },
          "geo": {
           "bgcolor": "white",
           "lakecolor": "white",
           "landcolor": "#E5ECF6",
           "showlakes": true,
           "showland": true,
           "subunitcolor": "white"
          },
          "hoverlabel": {
           "align": "left"
          },
          "hovermode": "closest",
          "mapbox": {
           "style": "light"
          },
          "paper_bgcolor": "white",
          "plot_bgcolor": "#E5ECF6",
          "polar": {
           "angularaxis": {
            "gridcolor": "white",
            "linecolor": "white",
            "ticks": ""
           },
           "bgcolor": "#E5ECF6",
           "radialaxis": {
            "gridcolor": "white",
            "linecolor": "white",
            "ticks": ""
           }
          },
          "scene": {
           "xaxis": {
            "backgroundcolor": "#E5ECF6",
            "gridcolor": "white",
            "gridwidth": 2,
            "linecolor": "white",
            "showbackground": true,
            "ticks": "",
            "zerolinecolor": "white"
           },
           "yaxis": {
            "backgroundcolor": "#E5ECF6",
            "gridcolor": "white",
            "gridwidth": 2,
            "linecolor": "white",
            "showbackground": true,
            "ticks": "",
            "zerolinecolor": "white"
           },
           "zaxis": {
            "backgroundcolor": "#E5ECF6",
            "gridcolor": "white",
            "gridwidth": 2,
            "linecolor": "white",
            "showbackground": true,
            "ticks": "",
            "zerolinecolor": "white"
           }
          },
          "shapedefaults": {
           "line": {
            "color": "#2a3f5f"
           }
          },
          "ternary": {
           "aaxis": {
            "gridcolor": "white",
            "linecolor": "white",
            "ticks": ""
           },
           "baxis": {
            "gridcolor": "white",
            "linecolor": "white",
            "ticks": ""
           },
           "bgcolor": "#E5ECF6",
           "caxis": {
            "gridcolor": "white",
            "linecolor": "white",
            "ticks": ""
           }
          },
          "title": {
           "x": 0.05
          },
          "xaxis": {
           "automargin": true,
           "gridcolor": "white",
           "linecolor": "white",
           "ticks": "",
           "title": {
            "standoff": 15
           },
           "zerolinecolor": "white",
           "zerolinewidth": 2
          },
          "yaxis": {
           "automargin": true,
           "gridcolor": "white",
           "linecolor": "white",
           "ticks": "",
           "title": {
            "standoff": 15
           },
           "zerolinecolor": "white",
           "zerolinewidth": 2
          }
         }
        },
        "width": 1100,
        "xaxis": {
         "anchor": "y",
         "domain": [
          0,
          1
         ],
         "linecolor": "black",
         "tickvals": [
          1,
          31,
          61,
          91,
          121,
          151,
          181,
          211,
          241,
          271,
          301,
          331
         ],
         "title": {
          "text": "Time (days)"
         }
        },
        "xaxis2": {
         "anchor": "y2",
         "domain": [
          0,
          1
         ],
         "linecolor": "black",
         "tickvals": [
          1,
          31,
          61,
          91,
          121,
          151,
          181,
          211,
          241,
          271,
          301,
          331
         ],
         "title": {
          "text": "Time (days)"
         }
        },
        "yaxis": {
         "anchor": "x",
         "domain": [
          0.625,
          1
         ],
         "linecolor": "black",
         "title": {
          "text": "Median Time since infection"
         }
        },
        "yaxis2": {
         "anchor": "x2",
         "domain": [
          0,
          0.375
         ],
         "linecolor": "black",
         "title": {
          "text": "Skewness viral read values"
         }
        }
       }
      }
     },
     "metadata": {},
     "output_type": "display_data"
    }
   ],
   "source": [
    "fig = go.Figure()\n",
    "fig = make_subplots(rows=2, cols=1, subplot_titles=('Median time since infection', 'Skewness Ct values'))\n",
    "\n",
    "median_ti = []\n",
    "\n",
    "for ti in time_since_infec[0]:\n",
    "    median_ti.append(np.median(ti))\n",
    "\n",
    "\n",
    "fig.add_trace(\n",
    "    go.Scatter(\n",
    "        y=median_ti,\n",
    "        x=sample_points,\n",
    "        mode='lines+markers',\n",
    "        connectgaps=True,\n",
    "        name='Median times',\n",
    "        marker_line=dict(width=1.25, color='black'),\n",
    "        marker_opacity=0.6,\n",
    "        marker_size=12,\n",
    "        line_color='black',\n",
    "        showlegend=False,\n",
    "    ),\n",
    "    row=1,\n",
    "    col=1\n",
    ")\n",
    "\n",
    "fig.add_trace(\n",
    "    go.Scatter(\n",
    "        y=skews,\n",
    "        x=sample_points,\n",
    "        mode='lines+markers',\n",
    "        connectgaps=True,\n",
    "        name='Skewness viral read values',\n",
    "        marker_line=dict(width=1.25, color='black'),\n",
    "        marker_opacity=0.6,\n",
    "        marker_size=12,\n",
    "        line_color='black',\n",
    "        showlegend=False,\n",
    "    ),\n",
    "    row=2,\n",
    "    col=1\n",
    ")\n",
    "\n",
    "# Add axis labels\n",
    "fig.update_layout(\n",
    "    width=1100, \n",
    "    height=800,\n",
    "    plot_bgcolor='white',\n",
    "    xaxis=dict(\n",
    "        linecolor='black',\n",
    "        tickvals=sample_points.tolist(),\n",
    "        title = 'Time (days)'\n",
    "        ),\n",
    "    yaxis=dict(\n",
    "        linecolor='black',\n",
    "        title = 'Median Time since infection'),\n",
    "    xaxis2=dict(\n",
    "        linecolor='black',\n",
    "        tickvals=sample_points.tolist(),\n",
    "        title = 'Time (days)'\n",
    "        ),\n",
    "    yaxis2=dict(\n",
    "        linecolor='black',\n",
    "        title = 'Skewness viral read values')\n",
    "    #legend=dict(\n",
    "    #    orientation=\"h\",\n",
    "    #    yanchor=\"bottom\",\n",
    "    #    y=1.02,\n",
    "    #    xanchor=\"right\",\n",
    "    #    x=1\n",
    "    #)\n",
    "    )\n",
    "\n",
    "fig.write_image('images/Median_vs_Skewness-Lassa.pdf')\n",
    "fig.show()"
   ]
  },
  {
   "cell_type": "code",
   "execution_count": 13,
   "metadata": {},
   "outputs": [
    {
     "data": {
      "text/plain": [
       "array([38.00081072, 50.53301175, 54.54522998, 67.50485265, 40.        ,\n",
       "       61.54948456, 62.91393552, 47.6769421 , 44.06020246, 40.        ,\n",
       "       43.21793866, 47.90027651])"
      ]
     },
     "execution_count": 13,
     "metadata": {},
     "output_type": "execute_result"
    }
   ],
   "source": [
    "np.mean(vr_values[0, :, :], axis=1)"
   ]
  },
  {
   "cell_type": "code",
   "execution_count": 14,
   "metadata": {},
   "outputs": [
    {
     "data": {
      "text/plain": [
       "array([-3.74008228,  3.97016288,  4.12568469,  2.99060835,         nan,\n",
       "        3.58730404,  3.30407455,  3.05701142,  6.67469944,         nan,\n",
       "        4.06234552,  6.0949306 ])"
      ]
     },
     "execution_count": 14,
     "metadata": {},
     "output_type": "execute_result"
    }
   ],
   "source": [
    "skews"
   ]
  },
  {
   "cell_type": "code",
   "execution_count": 15,
   "metadata": {},
   "outputs": [
    {
     "data": {
      "application/vnd.plotly.v1+json": {
       "config": {
        "plotlyServerURL": "https://plot.ly"
       },
       "data": [
        {
         "marker": {
          "color": {
           "bdata": "AQAfAD0AWwB5AJcAtQDTAPEADwEtAUsB",
           "dtype": "i2"
          },
          "colorbar": {
           "title": {
            "side": "top",
            "text": "Sample time"
           }
          },
          "colorscale": [
           [
            0,
            "rgb(0,0,255)"
           ],
           [
            1,
            "rgb(255,0,0)"
           ]
          ],
          "showscale": true
         },
         "mode": "markers",
         "name": "Mean Ct",
         "showlegend": false,
         "type": "scatter",
         "x": {
          "bdata": "zESkQbDrDcBT7TvB5MIPQB5TF32zgBBA6QZPEsTsB0AAAAAAAAD4f6KIPHbMsgxAoHITo75uCkAU38BnwnQIQP8rF2nkshpAAAAAAAAA+H88DNSA1z8QQA865nw1YRhA",
          "dtype": "f8"
         },
         "y": [
          38.00081071965224,
          50.53301175366885,
          54.545229984551945,
          67.50485264791845,
          40,
          61.54948455848669,
          62.91393551947013,
          47.67694210307927,
          44.06020246395757,
          40,
          43.217938655410826,
          47.90027651384624
         ]
        }
       ],
       "layout": {
        "height": 500,
        "plot_bgcolor": "white",
        "template": {
         "data": {
          "bar": [
           {
            "error_x": {
             "color": "#2a3f5f"
            },
            "error_y": {
             "color": "#2a3f5f"
            },
            "marker": {
             "line": {
              "color": "#E5ECF6",
              "width": 0.5
             },
             "pattern": {
              "fillmode": "overlay",
              "size": 10,
              "solidity": 0.2
             }
            },
            "type": "bar"
           }
          ],
          "barpolar": [
           {
            "marker": {
             "line": {
              "color": "#E5ECF6",
              "width": 0.5
             },
             "pattern": {
              "fillmode": "overlay",
              "size": 10,
              "solidity": 0.2
             }
            },
            "type": "barpolar"
           }
          ],
          "carpet": [
           {
            "aaxis": {
             "endlinecolor": "#2a3f5f",
             "gridcolor": "white",
             "linecolor": "white",
             "minorgridcolor": "white",
             "startlinecolor": "#2a3f5f"
            },
            "baxis": {
             "endlinecolor": "#2a3f5f",
             "gridcolor": "white",
             "linecolor": "white",
             "minorgridcolor": "white",
             "startlinecolor": "#2a3f5f"
            },
            "type": "carpet"
           }
          ],
          "choropleth": [
           {
            "colorbar": {
             "outlinewidth": 0,
             "ticks": ""
            },
            "type": "choropleth"
           }
          ],
          "contour": [
           {
            "colorbar": {
             "outlinewidth": 0,
             "ticks": ""
            },
            "colorscale": [
             [
              0,
              "#0d0887"
             ],
             [
              0.1111111111111111,
              "#46039f"
             ],
             [
              0.2222222222222222,
              "#7201a8"
             ],
             [
              0.3333333333333333,
              "#9c179e"
             ],
             [
              0.4444444444444444,
              "#bd3786"
             ],
             [
              0.5555555555555556,
              "#d8576b"
             ],
             [
              0.6666666666666666,
              "#ed7953"
             ],
             [
              0.7777777777777778,
              "#fb9f3a"
             ],
             [
              0.8888888888888888,
              "#fdca26"
             ],
             [
              1,
              "#f0f921"
             ]
            ],
            "type": "contour"
           }
          ],
          "contourcarpet": [
           {
            "colorbar": {
             "outlinewidth": 0,
             "ticks": ""
            },
            "type": "contourcarpet"
           }
          ],
          "heatmap": [
           {
            "colorbar": {
             "outlinewidth": 0,
             "ticks": ""
            },
            "colorscale": [
             [
              0,
              "#0d0887"
             ],
             [
              0.1111111111111111,
              "#46039f"
             ],
             [
              0.2222222222222222,
              "#7201a8"
             ],
             [
              0.3333333333333333,
              "#9c179e"
             ],
             [
              0.4444444444444444,
              "#bd3786"
             ],
             [
              0.5555555555555556,
              "#d8576b"
             ],
             [
              0.6666666666666666,
              "#ed7953"
             ],
             [
              0.7777777777777778,
              "#fb9f3a"
             ],
             [
              0.8888888888888888,
              "#fdca26"
             ],
             [
              1,
              "#f0f921"
             ]
            ],
            "type": "heatmap"
           }
          ],
          "histogram": [
           {
            "marker": {
             "pattern": {
              "fillmode": "overlay",
              "size": 10,
              "solidity": 0.2
             }
            },
            "type": "histogram"
           }
          ],
          "histogram2d": [
           {
            "colorbar": {
             "outlinewidth": 0,
             "ticks": ""
            },
            "colorscale": [
             [
              0,
              "#0d0887"
             ],
             [
              0.1111111111111111,
              "#46039f"
             ],
             [
              0.2222222222222222,
              "#7201a8"
             ],
             [
              0.3333333333333333,
              "#9c179e"
             ],
             [
              0.4444444444444444,
              "#bd3786"
             ],
             [
              0.5555555555555556,
              "#d8576b"
             ],
             [
              0.6666666666666666,
              "#ed7953"
             ],
             [
              0.7777777777777778,
              "#fb9f3a"
             ],
             [
              0.8888888888888888,
              "#fdca26"
             ],
             [
              1,
              "#f0f921"
             ]
            ],
            "type": "histogram2d"
           }
          ],
          "histogram2dcontour": [
           {
            "colorbar": {
             "outlinewidth": 0,
             "ticks": ""
            },
            "colorscale": [
             [
              0,
              "#0d0887"
             ],
             [
              0.1111111111111111,
              "#46039f"
             ],
             [
              0.2222222222222222,
              "#7201a8"
             ],
             [
              0.3333333333333333,
              "#9c179e"
             ],
             [
              0.4444444444444444,
              "#bd3786"
             ],
             [
              0.5555555555555556,
              "#d8576b"
             ],
             [
              0.6666666666666666,
              "#ed7953"
             ],
             [
              0.7777777777777778,
              "#fb9f3a"
             ],
             [
              0.8888888888888888,
              "#fdca26"
             ],
             [
              1,
              "#f0f921"
             ]
            ],
            "type": "histogram2dcontour"
           }
          ],
          "mesh3d": [
           {
            "colorbar": {
             "outlinewidth": 0,
             "ticks": ""
            },
            "type": "mesh3d"
           }
          ],
          "parcoords": [
           {
            "line": {
             "colorbar": {
              "outlinewidth": 0,
              "ticks": ""
             }
            },
            "type": "parcoords"
           }
          ],
          "pie": [
           {
            "automargin": true,
            "type": "pie"
           }
          ],
          "scatter": [
           {
            "fillpattern": {
             "fillmode": "overlay",
             "size": 10,
             "solidity": 0.2
            },
            "type": "scatter"
           }
          ],
          "scatter3d": [
           {
            "line": {
             "colorbar": {
              "outlinewidth": 0,
              "ticks": ""
             }
            },
            "marker": {
             "colorbar": {
              "outlinewidth": 0,
              "ticks": ""
             }
            },
            "type": "scatter3d"
           }
          ],
          "scattercarpet": [
           {
            "marker": {
             "colorbar": {
              "outlinewidth": 0,
              "ticks": ""
             }
            },
            "type": "scattercarpet"
           }
          ],
          "scattergeo": [
           {
            "marker": {
             "colorbar": {
              "outlinewidth": 0,
              "ticks": ""
             }
            },
            "type": "scattergeo"
           }
          ],
          "scattergl": [
           {
            "marker": {
             "colorbar": {
              "outlinewidth": 0,
              "ticks": ""
             }
            },
            "type": "scattergl"
           }
          ],
          "scattermap": [
           {
            "marker": {
             "colorbar": {
              "outlinewidth": 0,
              "ticks": ""
             }
            },
            "type": "scattermap"
           }
          ],
          "scattermapbox": [
           {
            "marker": {
             "colorbar": {
              "outlinewidth": 0,
              "ticks": ""
             }
            },
            "type": "scattermapbox"
           }
          ],
          "scatterpolar": [
           {
            "marker": {
             "colorbar": {
              "outlinewidth": 0,
              "ticks": ""
             }
            },
            "type": "scatterpolar"
           }
          ],
          "scatterpolargl": [
           {
            "marker": {
             "colorbar": {
              "outlinewidth": 0,
              "ticks": ""
             }
            },
            "type": "scatterpolargl"
           }
          ],
          "scatterternary": [
           {
            "marker": {
             "colorbar": {
              "outlinewidth": 0,
              "ticks": ""
             }
            },
            "type": "scatterternary"
           }
          ],
          "surface": [
           {
            "colorbar": {
             "outlinewidth": 0,
             "ticks": ""
            },
            "colorscale": [
             [
              0,
              "#0d0887"
             ],
             [
              0.1111111111111111,
              "#46039f"
             ],
             [
              0.2222222222222222,
              "#7201a8"
             ],
             [
              0.3333333333333333,
              "#9c179e"
             ],
             [
              0.4444444444444444,
              "#bd3786"
             ],
             [
              0.5555555555555556,
              "#d8576b"
             ],
             [
              0.6666666666666666,
              "#ed7953"
             ],
             [
              0.7777777777777778,
              "#fb9f3a"
             ],
             [
              0.8888888888888888,
              "#fdca26"
             ],
             [
              1,
              "#f0f921"
             ]
            ],
            "type": "surface"
           }
          ],
          "table": [
           {
            "cells": {
             "fill": {
              "color": "#EBF0F8"
             },
             "line": {
              "color": "white"
             }
            },
            "header": {
             "fill": {
              "color": "#C8D4E3"
             },
             "line": {
              "color": "white"
             }
            },
            "type": "table"
           }
          ]
         },
         "layout": {
          "annotationdefaults": {
           "arrowcolor": "#2a3f5f",
           "arrowhead": 0,
           "arrowwidth": 1
          },
          "autotypenumbers": "strict",
          "coloraxis": {
           "colorbar": {
            "outlinewidth": 0,
            "ticks": ""
           }
          },
          "colorscale": {
           "diverging": [
            [
             0,
             "#8e0152"
            ],
            [
             0.1,
             "#c51b7d"
            ],
            [
             0.2,
             "#de77ae"
            ],
            [
             0.3,
             "#f1b6da"
            ],
            [
             0.4,
             "#fde0ef"
            ],
            [
             0.5,
             "#f7f7f7"
            ],
            [
             0.6,
             "#e6f5d0"
            ],
            [
             0.7,
             "#b8e186"
            ],
            [
             0.8,
             "#7fbc41"
            ],
            [
             0.9,
             "#4d9221"
            ],
            [
             1,
             "#276419"
            ]
           ],
           "sequential": [
            [
             0,
             "#0d0887"
            ],
            [
             0.1111111111111111,
             "#46039f"
            ],
            [
             0.2222222222222222,
             "#7201a8"
            ],
            [
             0.3333333333333333,
             "#9c179e"
            ],
            [
             0.4444444444444444,
             "#bd3786"
            ],
            [
             0.5555555555555556,
             "#d8576b"
            ],
            [
             0.6666666666666666,
             "#ed7953"
            ],
            [
             0.7777777777777778,
             "#fb9f3a"
            ],
            [
             0.8888888888888888,
             "#fdca26"
            ],
            [
             1,
             "#f0f921"
            ]
           ],
           "sequentialminus": [
            [
             0,
             "#0d0887"
            ],
            [
             0.1111111111111111,
             "#46039f"
            ],
            [
             0.2222222222222222,
             "#7201a8"
            ],
            [
             0.3333333333333333,
             "#9c179e"
            ],
            [
             0.4444444444444444,
             "#bd3786"
            ],
            [
             0.5555555555555556,
             "#d8576b"
            ],
            [
             0.6666666666666666,
             "#ed7953"
            ],
            [
             0.7777777777777778,
             "#fb9f3a"
            ],
            [
             0.8888888888888888,
             "#fdca26"
            ],
            [
             1,
             "#f0f921"
            ]
           ]
          },
          "colorway": [
           "#636efa",
           "#EF553B",
           "#00cc96",
           "#ab63fa",
           "#FFA15A",
           "#19d3f3",
           "#FF6692",
           "#B6E880",
           "#FF97FF",
           "#FECB52"
          ],
          "font": {
           "color": "#2a3f5f"
          },
          "geo": {
           "bgcolor": "white",
           "lakecolor": "white",
           "landcolor": "#E5ECF6",
           "showlakes": true,
           "showland": true,
           "subunitcolor": "white"
          },
          "hoverlabel": {
           "align": "left"
          },
          "hovermode": "closest",
          "mapbox": {
           "style": "light"
          },
          "paper_bgcolor": "white",
          "plot_bgcolor": "#E5ECF6",
          "polar": {
           "angularaxis": {
            "gridcolor": "white",
            "linecolor": "white",
            "ticks": ""
           },
           "bgcolor": "#E5ECF6",
           "radialaxis": {
            "gridcolor": "white",
            "linecolor": "white",
            "ticks": ""
           }
          },
          "scene": {
           "xaxis": {
            "backgroundcolor": "#E5ECF6",
            "gridcolor": "white",
            "gridwidth": 2,
            "linecolor": "white",
            "showbackground": true,
            "ticks": "",
            "zerolinecolor": "white"
           },
           "yaxis": {
            "backgroundcolor": "#E5ECF6",
            "gridcolor": "white",
            "gridwidth": 2,
            "linecolor": "white",
            "showbackground": true,
            "ticks": "",
            "zerolinecolor": "white"
           },
           "zaxis": {
            "backgroundcolor": "#E5ECF6",
            "gridcolor": "white",
            "gridwidth": 2,
            "linecolor": "white",
            "showbackground": true,
            "ticks": "",
            "zerolinecolor": "white"
           }
          },
          "shapedefaults": {
           "line": {
            "color": "#2a3f5f"
           }
          },
          "ternary": {
           "aaxis": {
            "gridcolor": "white",
            "linecolor": "white",
            "ticks": ""
           },
           "baxis": {
            "gridcolor": "white",
            "linecolor": "white",
            "ticks": ""
           },
           "bgcolor": "#E5ECF6",
           "caxis": {
            "gridcolor": "white",
            "linecolor": "white",
            "ticks": ""
           }
          },
          "title": {
           "x": 0.05
          },
          "xaxis": {
           "automargin": true,
           "gridcolor": "white",
           "linecolor": "white",
           "ticks": "",
           "title": {
            "standoff": 15
           },
           "zerolinecolor": "white",
           "zerolinewidth": 2
          },
          "yaxis": {
           "automargin": true,
           "gridcolor": "white",
           "linecolor": "white",
           "ticks": "",
           "title": {
            "standoff": 15
           },
           "zerolinecolor": "white",
           "zerolinewidth": 2
          }
         }
        },
        "width": 500,
        "xaxis": {
         "linecolor": "black",
         "title": {
          "text": "Skewness Ct values"
         }
        },
        "yaxis": {
         "linecolor": "black",
         "title": {
          "text": "Mean Ct"
         }
        }
       }
      }
     },
     "metadata": {},
     "output_type": "display_data"
    }
   ],
   "source": [
    "fig = go.Figure()\n",
    "\n",
    "fig.add_trace(\n",
    "    go.Scatter(\n",
    "        y=np.mean(vr_values[0, :, :], axis=1).tolist(),\n",
    "        x=skews,\n",
    "        mode='markers',\n",
    "        name='Mean Ct',\n",
    "        marker_color=sample_points,\n",
    "        marker_colorscale='BlueRed',\n",
    "        marker_colorbar_title=dict(\n",
    "            text='Sample time',\n",
    "            side='top'),\n",
    "        marker_showscale=True,\n",
    "        showlegend=False,\n",
    "    )\n",
    ")\n",
    "\n",
    "# Add axis labels\n",
    "fig.update_layout(\n",
    "    width=500, \n",
    "    height=500,\n",
    "    plot_bgcolor='white',\n",
    "    xaxis=dict(\n",
    "        linecolor='black',\n",
    "        title = 'Skewness Ct values'\n",
    "        ),\n",
    "    yaxis=dict(\n",
    "        linecolor='black',\n",
    "        title = 'Mean Ct'),\n",
    "    #legend=dict(\n",
    "    #    orientation=\"h\",\n",
    "    #    yanchor=\"bottom\",\n",
    "    #    y=1.02,\n",
    "    #    xanchor=\"right\",\n",
    "    #    x=1\n",
    "    #)\n",
    "    )\n",
    "\n",
    "fig.write_image('images/Mean_vs_Skewness-Lassa.pdf')\n",
    "fig.show()"
   ]
  },
  {
   "cell_type": "markdown",
   "metadata": {},
   "source": [
    "### Plot Viral read Model"
   ]
  },
  {
   "cell_type": "code",
   "execution_count": 16,
   "metadata": {},
   "outputs": [],
   "source": [
    "time_from_infec = np.arange(1, 50)\n",
    "vr_val = []\n",
    "\n",
    "for ti in time_from_infec:\n",
    "    ti_vr_val = []\n",
    "    for _ in range(10000):\n",
    "        ti_vr_val.append(algorithm.viral_read_model(parameters_vl, ti))\n",
    "    vr_val.append(ti_vr_val)\n",
    "\n",
    "vr_val = np.asarray(vr_val)"
   ]
  },
  {
   "cell_type": "code",
   "execution_count": 17,
   "metadata": {},
   "outputs": [
    {
     "data": {
      "application/vnd.plotly.v1+json": {
       "config": {
        "plotlyServerURL": "https://plot.ly"
       },
       "data": [
        {
         "mode": "lines",
         "name": "Mean Viral read",
         "showlegend": false,
         "type": "scatter",
         "x": {
          "bdata": "nHTJh3E0EkAUzvpxEBASQJiQDoWI9RFA/K2x6MygREAAT+M2u+NTQG86+JUxdV1A9u/ZelR5Y0BOWQwXlkJoQO1hQYRrCG1A/9x5tAfocED3+7gquUtzQClUdC2+rXVA6SEb6M8SeEB95Syr4wl3QJdowuAKAXZAw+EX7Mz5dEDKAtkBBfFzQO5QUGn/5nJACQsRGb/fcUB/a04z5tRwQMJS9lqKnG9A7MSvs4ONbUA5tI2P13hrQH3PluqFaWlAZBcTNGpTZ0AoRva/40VlQN51qo6mNGNAwr3ZlPQkYUCD5WqfVSFhQPfwDadlJ2FAzEsrGzkpYUA9Z7z6SS9hQOWNVPhqLWFAZttA+FUuYUBlj97/ujFhQN8HYST0MWFAZ77k+v42YUDmn78znTZhQJYfEc5EOGFALnNmrXQ6YUCD8VN6uzthQGr0fijGP2FAJ+00xAY/YUCTyxJLZT5hQNy8rrC2QmFAJS34x3RDYUCNNWJJFEZhQLgvE8KHSGFAyMz+5lFJYUA=",
          "dtype": "f8"
         },
         "y": {
          "bdata": "AQIDBAUGBwgJCgsMDQ4PEBESExQVFhcYGRobHB0eHyAhIiMkJSYnKCkqKywtLi8wMQ==",
          "dtype": "i1"
         }
        },
        {
         "fill": "toself",
         "fillcolor": "blue",
         "line": {
          "color": "blue"
         },
         "mode": "lines",
         "opacity": 0.3,
         "showlegend": false,
         "type": "scatter",
         "x": [
          12.569016503756487,
          12.55100022243558,
          12.442455921183917,
          50.678165202121335,
          88.89341643131793,
          127.23405331271533,
          165.3216987463147,
          203.6399722440966,
          241.59852086232888,
          279.9719941611824,
          318.2576344477749,
          356.24123184083214,
          394.5668052021543,
          377.9372581857501,
          361.43658996054626,
          345.16279712697025,
          328.3473730760194,
          311.8530438354602,
          295.31803385046135,
          278.5805431053632,
          262.36938380341445,
          245.81008342872087,
          229.0944365302822,
          212.62338639197262,
          196.0351621234066,
          179.7002403415154,
          163.07540470041224,
          146.5088664824831,
          146.40334255652135,
          146.18306563800604,
          146.15447120502475,
          146.22545533245065,
          145.78327815045444,
          145.74281758600355,
          145.6054324344875,
          145.52265957823826,
          145.42883120292058,
          145.22092300034453,
          145.0169157892624,
          144.97506401369318,
          144.91783159516092,
          144.71863470301793,
          144.54342311818746,
          144.43912343229454,
          144.27132436246194,
          144.20129738210707,
          144.08705991221035,
          143.90938711147479,
          143.78933892603308,
          129.40863959112383,
          129.02541517332486,
          128.29373463485834,
          127.84822984029466,
          127.5558273905042,
          127.08642629714988,
          127.37419934180915,
          126.87778973213787,
          126.23507335286888,
          125.72348031158104,
          126.02859184398434,
          125.43915354247386,
          124.67251694256468,
          124.29961639030348,
          124.1242438431952,
          123.78261808075987,
          123.62207380418197,
          123.11766565522356,
          122.38041466826209,
          122.64934773927176,
          121.85311650418996,
          121.47112129512809,
          138.02658705686218,
          154.51928237220574,
          171.38260636176759,
          188.00880852501209,
          204.1850022332673,
          221.3066090108117,
          237.72117225614707,
          253.56402729893884,
          270.9244203225571,
          286.86882862511715,
          304.35386511065497,
          320.2806236471087,
          336.67657960798357,
          352.9810917941916,
          369.41995731518995,
          331.13413797715367,
          293.6189184753098,
          255.64826601037723,
          216.56386296944288,
          178.46458901243233,
          140.44712990313974,
          102.5731657848935,
          64.06405519954805,
          26.17692905730963,
          0,
          0,
          0
         ],
         "y": [
          1,
          2,
          3,
          4,
          5,
          6,
          7,
          8,
          9,
          10,
          11,
          12,
          13,
          14,
          15,
          16,
          17,
          18,
          19,
          20,
          21,
          22,
          23,
          24,
          25,
          26,
          27,
          28,
          29,
          30,
          31,
          32,
          33,
          34,
          35,
          36,
          37,
          38,
          39,
          40,
          41,
          42,
          43,
          44,
          45,
          46,
          47,
          48,
          49,
          49,
          48,
          47,
          46,
          45,
          44,
          43,
          42,
          41,
          40,
          39,
          38,
          37,
          36,
          35,
          34,
          33,
          32,
          31,
          30,
          29,
          28,
          27,
          26,
          25,
          24,
          23,
          22,
          21,
          20,
          19,
          18,
          17,
          16,
          15,
          14,
          13,
          12,
          11,
          10,
          9,
          8,
          7,
          6,
          5,
          4,
          3,
          2,
          1
         ]
        }
       ],
       "layout": {
        "height": 500,
        "plot_bgcolor": "white",
        "template": {
         "data": {
          "bar": [
           {
            "error_x": {
             "color": "#2a3f5f"
            },
            "error_y": {
             "color": "#2a3f5f"
            },
            "marker": {
             "line": {
              "color": "#E5ECF6",
              "width": 0.5
             },
             "pattern": {
              "fillmode": "overlay",
              "size": 10,
              "solidity": 0.2
             }
            },
            "type": "bar"
           }
          ],
          "barpolar": [
           {
            "marker": {
             "line": {
              "color": "#E5ECF6",
              "width": 0.5
             },
             "pattern": {
              "fillmode": "overlay",
              "size": 10,
              "solidity": 0.2
             }
            },
            "type": "barpolar"
           }
          ],
          "carpet": [
           {
            "aaxis": {
             "endlinecolor": "#2a3f5f",
             "gridcolor": "white",
             "linecolor": "white",
             "minorgridcolor": "white",
             "startlinecolor": "#2a3f5f"
            },
            "baxis": {
             "endlinecolor": "#2a3f5f",
             "gridcolor": "white",
             "linecolor": "white",
             "minorgridcolor": "white",
             "startlinecolor": "#2a3f5f"
            },
            "type": "carpet"
           }
          ],
          "choropleth": [
           {
            "colorbar": {
             "outlinewidth": 0,
             "ticks": ""
            },
            "type": "choropleth"
           }
          ],
          "contour": [
           {
            "colorbar": {
             "outlinewidth": 0,
             "ticks": ""
            },
            "colorscale": [
             [
              0,
              "#0d0887"
             ],
             [
              0.1111111111111111,
              "#46039f"
             ],
             [
              0.2222222222222222,
              "#7201a8"
             ],
             [
              0.3333333333333333,
              "#9c179e"
             ],
             [
              0.4444444444444444,
              "#bd3786"
             ],
             [
              0.5555555555555556,
              "#d8576b"
             ],
             [
              0.6666666666666666,
              "#ed7953"
             ],
             [
              0.7777777777777778,
              "#fb9f3a"
             ],
             [
              0.8888888888888888,
              "#fdca26"
             ],
             [
              1,
              "#f0f921"
             ]
            ],
            "type": "contour"
           }
          ],
          "contourcarpet": [
           {
            "colorbar": {
             "outlinewidth": 0,
             "ticks": ""
            },
            "type": "contourcarpet"
           }
          ],
          "heatmap": [
           {
            "colorbar": {
             "outlinewidth": 0,
             "ticks": ""
            },
            "colorscale": [
             [
              0,
              "#0d0887"
             ],
             [
              0.1111111111111111,
              "#46039f"
             ],
             [
              0.2222222222222222,
              "#7201a8"
             ],
             [
              0.3333333333333333,
              "#9c179e"
             ],
             [
              0.4444444444444444,
              "#bd3786"
             ],
             [
              0.5555555555555556,
              "#d8576b"
             ],
             [
              0.6666666666666666,
              "#ed7953"
             ],
             [
              0.7777777777777778,
              "#fb9f3a"
             ],
             [
              0.8888888888888888,
              "#fdca26"
             ],
             [
              1,
              "#f0f921"
             ]
            ],
            "type": "heatmap"
           }
          ],
          "histogram": [
           {
            "marker": {
             "pattern": {
              "fillmode": "overlay",
              "size": 10,
              "solidity": 0.2
             }
            },
            "type": "histogram"
           }
          ],
          "histogram2d": [
           {
            "colorbar": {
             "outlinewidth": 0,
             "ticks": ""
            },
            "colorscale": [
             [
              0,
              "#0d0887"
             ],
             [
              0.1111111111111111,
              "#46039f"
             ],
             [
              0.2222222222222222,
              "#7201a8"
             ],
             [
              0.3333333333333333,
              "#9c179e"
             ],
             [
              0.4444444444444444,
              "#bd3786"
             ],
             [
              0.5555555555555556,
              "#d8576b"
             ],
             [
              0.6666666666666666,
              "#ed7953"
             ],
             [
              0.7777777777777778,
              "#fb9f3a"
             ],
             [
              0.8888888888888888,
              "#fdca26"
             ],
             [
              1,
              "#f0f921"
             ]
            ],
            "type": "histogram2d"
           }
          ],
          "histogram2dcontour": [
           {
            "colorbar": {
             "outlinewidth": 0,
             "ticks": ""
            },
            "colorscale": [
             [
              0,
              "#0d0887"
             ],
             [
              0.1111111111111111,
              "#46039f"
             ],
             [
              0.2222222222222222,
              "#7201a8"
             ],
             [
              0.3333333333333333,
              "#9c179e"
             ],
             [
              0.4444444444444444,
              "#bd3786"
             ],
             [
              0.5555555555555556,
              "#d8576b"
             ],
             [
              0.6666666666666666,
              "#ed7953"
             ],
             [
              0.7777777777777778,
              "#fb9f3a"
             ],
             [
              0.8888888888888888,
              "#fdca26"
             ],
             [
              1,
              "#f0f921"
             ]
            ],
            "type": "histogram2dcontour"
           }
          ],
          "mesh3d": [
           {
            "colorbar": {
             "outlinewidth": 0,
             "ticks": ""
            },
            "type": "mesh3d"
           }
          ],
          "parcoords": [
           {
            "line": {
             "colorbar": {
              "outlinewidth": 0,
              "ticks": ""
             }
            },
            "type": "parcoords"
           }
          ],
          "pie": [
           {
            "automargin": true,
            "type": "pie"
           }
          ],
          "scatter": [
           {
            "fillpattern": {
             "fillmode": "overlay",
             "size": 10,
             "solidity": 0.2
            },
            "type": "scatter"
           }
          ],
          "scatter3d": [
           {
            "line": {
             "colorbar": {
              "outlinewidth": 0,
              "ticks": ""
             }
            },
            "marker": {
             "colorbar": {
              "outlinewidth": 0,
              "ticks": ""
             }
            },
            "type": "scatter3d"
           }
          ],
          "scattercarpet": [
           {
            "marker": {
             "colorbar": {
              "outlinewidth": 0,
              "ticks": ""
             }
            },
            "type": "scattercarpet"
           }
          ],
          "scattergeo": [
           {
            "marker": {
             "colorbar": {
              "outlinewidth": 0,
              "ticks": ""
             }
            },
            "type": "scattergeo"
           }
          ],
          "scattergl": [
           {
            "marker": {
             "colorbar": {
              "outlinewidth": 0,
              "ticks": ""
             }
            },
            "type": "scattergl"
           }
          ],
          "scattermap": [
           {
            "marker": {
             "colorbar": {
              "outlinewidth": 0,
              "ticks": ""
             }
            },
            "type": "scattermap"
           }
          ],
          "scattermapbox": [
           {
            "marker": {
             "colorbar": {
              "outlinewidth": 0,
              "ticks": ""
             }
            },
            "type": "scattermapbox"
           }
          ],
          "scatterpolar": [
           {
            "marker": {
             "colorbar": {
              "outlinewidth": 0,
              "ticks": ""
             }
            },
            "type": "scatterpolar"
           }
          ],
          "scatterpolargl": [
           {
            "marker": {
             "colorbar": {
              "outlinewidth": 0,
              "ticks": ""
             }
            },
            "type": "scatterpolargl"
           }
          ],
          "scatterternary": [
           {
            "marker": {
             "colorbar": {
              "outlinewidth": 0,
              "ticks": ""
             }
            },
            "type": "scatterternary"
           }
          ],
          "surface": [
           {
            "colorbar": {
             "outlinewidth": 0,
             "ticks": ""
            },
            "colorscale": [
             [
              0,
              "#0d0887"
             ],
             [
              0.1111111111111111,
              "#46039f"
             ],
             [
              0.2222222222222222,
              "#7201a8"
             ],
             [
              0.3333333333333333,
              "#9c179e"
             ],
             [
              0.4444444444444444,
              "#bd3786"
             ],
             [
              0.5555555555555556,
              "#d8576b"
             ],
             [
              0.6666666666666666,
              "#ed7953"
             ],
             [
              0.7777777777777778,
              "#fb9f3a"
             ],
             [
              0.8888888888888888,
              "#fdca26"
             ],
             [
              1,
              "#f0f921"
             ]
            ],
            "type": "surface"
           }
          ],
          "table": [
           {
            "cells": {
             "fill": {
              "color": "#EBF0F8"
             },
             "line": {
              "color": "white"
             }
            },
            "header": {
             "fill": {
              "color": "#C8D4E3"
             },
             "line": {
              "color": "white"
             }
            },
            "type": "table"
           }
          ]
         },
         "layout": {
          "annotationdefaults": {
           "arrowcolor": "#2a3f5f",
           "arrowhead": 0,
           "arrowwidth": 1
          },
          "autotypenumbers": "strict",
          "coloraxis": {
           "colorbar": {
            "outlinewidth": 0,
            "ticks": ""
           }
          },
          "colorscale": {
           "diverging": [
            [
             0,
             "#8e0152"
            ],
            [
             0.1,
             "#c51b7d"
            ],
            [
             0.2,
             "#de77ae"
            ],
            [
             0.3,
             "#f1b6da"
            ],
            [
             0.4,
             "#fde0ef"
            ],
            [
             0.5,
             "#f7f7f7"
            ],
            [
             0.6,
             "#e6f5d0"
            ],
            [
             0.7,
             "#b8e186"
            ],
            [
             0.8,
             "#7fbc41"
            ],
            [
             0.9,
             "#4d9221"
            ],
            [
             1,
             "#276419"
            ]
           ],
           "sequential": [
            [
             0,
             "#0d0887"
            ],
            [
             0.1111111111111111,
             "#46039f"
            ],
            [
             0.2222222222222222,
             "#7201a8"
            ],
            [
             0.3333333333333333,
             "#9c179e"
            ],
            [
             0.4444444444444444,
             "#bd3786"
            ],
            [
             0.5555555555555556,
             "#d8576b"
            ],
            [
             0.6666666666666666,
             "#ed7953"
            ],
            [
             0.7777777777777778,
             "#fb9f3a"
            ],
            [
             0.8888888888888888,
             "#fdca26"
            ],
            [
             1,
             "#f0f921"
            ]
           ],
           "sequentialminus": [
            [
             0,
             "#0d0887"
            ],
            [
             0.1111111111111111,
             "#46039f"
            ],
            [
             0.2222222222222222,
             "#7201a8"
            ],
            [
             0.3333333333333333,
             "#9c179e"
            ],
            [
             0.4444444444444444,
             "#bd3786"
            ],
            [
             0.5555555555555556,
             "#d8576b"
            ],
            [
             0.6666666666666666,
             "#ed7953"
            ],
            [
             0.7777777777777778,
             "#fb9f3a"
            ],
            [
             0.8888888888888888,
             "#fdca26"
            ],
            [
             1,
             "#f0f921"
            ]
           ]
          },
          "colorway": [
           "#636efa",
           "#EF553B",
           "#00cc96",
           "#ab63fa",
           "#FFA15A",
           "#19d3f3",
           "#FF6692",
           "#B6E880",
           "#FF97FF",
           "#FECB52"
          ],
          "font": {
           "color": "#2a3f5f"
          },
          "geo": {
           "bgcolor": "white",
           "lakecolor": "white",
           "landcolor": "#E5ECF6",
           "showlakes": true,
           "showland": true,
           "subunitcolor": "white"
          },
          "hoverlabel": {
           "align": "left"
          },
          "hovermode": "closest",
          "mapbox": {
           "style": "light"
          },
          "paper_bgcolor": "white",
          "plot_bgcolor": "#E5ECF6",
          "polar": {
           "angularaxis": {
            "gridcolor": "white",
            "linecolor": "white",
            "ticks": ""
           },
           "bgcolor": "#E5ECF6",
           "radialaxis": {
            "gridcolor": "white",
            "linecolor": "white",
            "ticks": ""
           }
          },
          "scene": {
           "xaxis": {
            "backgroundcolor": "#E5ECF6",
            "gridcolor": "white",
            "gridwidth": 2,
            "linecolor": "white",
            "showbackground": true,
            "ticks": "",
            "zerolinecolor": "white"
           },
           "yaxis": {
            "backgroundcolor": "#E5ECF6",
            "gridcolor": "white",
            "gridwidth": 2,
            "linecolor": "white",
            "showbackground": true,
            "ticks": "",
            "zerolinecolor": "white"
           },
           "zaxis": {
            "backgroundcolor": "#E5ECF6",
            "gridcolor": "white",
            "gridwidth": 2,
            "linecolor": "white",
            "showbackground": true,
            "ticks": "",
            "zerolinecolor": "white"
           }
          },
          "shapedefaults": {
           "line": {
            "color": "#2a3f5f"
           }
          },
          "ternary": {
           "aaxis": {
            "gridcolor": "white",
            "linecolor": "white",
            "ticks": ""
           },
           "baxis": {
            "gridcolor": "white",
            "linecolor": "white",
            "ticks": ""
           },
           "bgcolor": "#E5ECF6",
           "caxis": {
            "gridcolor": "white",
            "linecolor": "white",
            "ticks": ""
           }
          },
          "title": {
           "x": 0.05
          },
          "xaxis": {
           "automargin": true,
           "gridcolor": "white",
           "linecolor": "white",
           "ticks": "",
           "title": {
            "standoff": 15
           },
           "zerolinecolor": "white",
           "zerolinewidth": 2
          },
          "yaxis": {
           "automargin": true,
           "gridcolor": "white",
           "linecolor": "white",
           "ticks": "",
           "title": {
            "standoff": 15
           },
           "zerolinecolor": "white",
           "zerolinewidth": 2
          }
         }
        },
        "width": 500,
        "xaxis": {
         "autorange": "reversed",
         "linecolor": "black",
         "title": {
          "text": "Mean Viral read"
         }
        },
        "yaxis": {
         "linecolor": "black",
         "title": {
          "text": "Time since infection"
         }
        }
       }
      }
     },
     "metadata": {},
     "output_type": "display_data"
    }
   ],
   "source": [
    "fig = go.Figure()\n",
    "\n",
    "fig.add_trace(\n",
    "    go.Scatter(\n",
    "        y=time_from_infec,\n",
    "        x=np.mean(vr_val, axis=1),\n",
    "        mode='lines',\n",
    "        name='Mean Viral read',\n",
    "        showlegend=False,\n",
    "    )\n",
    ")\n",
    "\n",
    "fig.add_trace(\n",
    "    go.Scatter(\n",
    "        y=time_from_infec.tolist() + time_from_infec.tolist()[::-1],\n",
    "        x=np.quantile(vr_val, 0.975, axis=1).tolist() + np.quantile(vr_val, 0.025, axis=1).tolist()[::-1],\n",
    "        mode='lines',\n",
    "        fill='toself',\n",
    "        fillcolor='blue',\n",
    "        line_color='blue',\n",
    "        opacity=0.3,\n",
    "        showlegend=False,\n",
    "    )\n",
    ")\n",
    "\n",
    "# Add axis labels\n",
    "fig.update_layout(\n",
    "    width=500, \n",
    "    height=500,\n",
    "    plot_bgcolor='white',\n",
    "    xaxis=dict(\n",
    "        linecolor='black',\n",
    "        title = 'Mean Viral read',\n",
    "        autorange='reversed'\n",
    "        ),\n",
    "    yaxis=dict(\n",
    "        linecolor='black',\n",
    "        title = 'Time since infection'),\n",
    "    #legend=dict(\n",
    "    #    orientation=\"h\",\n",
    "    #    yanchor=\"bottom\",\n",
    "    #    y=1.02,\n",
    "    #    xanchor=\"right\",\n",
    "    #    x=1\n",
    "    #)\n",
    "    )\n",
    "\n",
    "fig.write_image('images/Viral_read_model-Lassa.pdf')\n",
    "fig.show()"
   ]
  }
 ],
 "metadata": {
  "kernelspec": {
   "display_name": "metavirom",
   "language": "python",
   "name": "python3"
  },
  "language_info": {
   "codemirror_mode": {
    "name": "ipython",
    "version": 3
   },
   "file_extension": ".py",
   "mimetype": "text/x-python",
   "name": "python",
   "nbconvert_exporter": "python",
   "pygments_lexer": "ipython3",
   "version": "3.13.2"
  },
  "orig_nbformat": 4
 },
 "nbformat": 4,
 "nbformat_minor": 2
}
